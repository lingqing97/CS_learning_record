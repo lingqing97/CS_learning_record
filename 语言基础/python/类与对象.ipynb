{
 "cells": [
  {
   "cell_type": "code",
   "execution_count": 3,
   "metadata": {},
   "outputs": [
    {
     "name": "stdout",
     "output_type": "stream",
     "text": [
      "(3,4)\n",
      "Pari(3,4)\n"
     ]
    }
   ],
   "source": [
    "#改变对象的打印或显示输出\n",
    "\n",
    "# 自定义__repr__()和__str__()是很好的习惯\n",
    "\n",
    "class Pair:\n",
    "    def __init__(self,x,y):\n",
    "        self.x=x\n",
    "        self.y=y\n",
    "    def __repr__(self):\n",
    "        return 'Pari({},{})'.format(self.x,self.y)\n",
    "    #若类未定义__str__()则会调用__repr__()\n",
    "    def __str__(self):\n",
    "        return '({},{})'.format(self.x,self.y)\n",
    "\n",
    "p=Pair(3,4)\n",
    "print(p)\n",
    "#使用'!r'强制使用__repr__()\n",
    "print('{!r}'.format(p))"
   ]
  },
  {
   "cell_type": "code",
   "execution_count": 9,
   "metadata": {},
   "outputs": [],
   "source": [
    "#创建大量对象时优化内存的方法\n",
    "\n",
    "class Date:\n",
    "    #定义__slots__后python会为实例使用一种更加紧凑的内部表示\n",
    "    #同时,slots限制了我们可以使用的属性\n",
    "    #非必要尽量少用\n",
    "    __slots__=['year','month','day']\n",
    "    def __init__(self,year,month,day):\n",
    "        self.year=year\n",
    "        self.month=month\n",
    "        self.day=day\n",
    "\n",
    "d=Date(2008,9,1)"
   ]
  },
  {
   "cell_type": "code",
   "execution_count": null,
   "metadata": {},
   "outputs": [],
   "source": [
    "#定义‘私有’数据\n",
    "#第一个约定是:任何以单下划线`_`开头的名字都应该是内部实现\n",
    "#第二个约定是:使用两个下划线`__`开头的函数和变量在子类中无法被覆盖\n",
    "\n",
    "class B:\n",
    "    def __init__(self):\n",
    "        self._internal=0 #内部实现\n",
    "        self.public=1 #外部实现，外部可以访问\n",
    "        self.__private=0 #在子类中不会被覆盖\n",
    "    \n",
    "    def public_method(self):\n",
    "        pass\n",
    "    \n",
    "    def __private_method(self):#在子类中不会被覆盖\n",
    "        pass\n",
    "    \n",
    "    def _internal_method(self):\n",
    "        pass\n",
    "\n",
    "class C(B):\n",
    "    def __init__(self):\n",
    "        super().__init__()\n",
    "        self.__private=1 #不会覆盖B.__private\n",
    "    \n",
    "    #不会覆盖B.__private_method()\n",
    "    def __private_method(self):\n",
    "        pass"
   ]
  },
  {
   "cell_type": "code",
   "execution_count": 12,
   "metadata": {},
   "outputs": [
    {
     "name": "stdout",
     "output_type": "stream",
     "text": [
      "Guido\n",
      "Getting name\n",
      "KKK\n",
      "Getting name\n",
      "ZZZK\n"
     ]
    }
   ],
   "source": [
    "#类的property属性\n",
    "\n",
    "#只有当需要对类的property进行其他除了set,get操作外的其他操作时\n",
    "#才需要使用@property\n",
    "\n",
    "class Person:\n",
    "    def __init__(self,first_name):\n",
    "        self._first_name=first_name\n",
    "    \n",
    "    #生成一个first_name属性\n",
    "    @property\n",
    "    def first_name(self):\n",
    "        return self._first_name\n",
    "        \n",
    "    #当对first_name属性进行修改时相当于调用该函数\n",
    "    @first_name.setter\n",
    "    def first_name(self,value):\n",
    "        if not isinstance(value,str):\n",
    "            raise TypeError('Expected a string')\n",
    "        self._first_name=value\n",
    "    \n",
    "    #当对first_name属性进行删除时相当于调用该函数\n",
    "    @first_name.deleter\n",
    "    def first_name(self):\n",
    "        raise AttributeError(\"Can't delete attribute.\")\n",
    "        \n",
    "a=Person(\"Guido\")\n",
    "print(a.first_name)\n",
    "# a.first_name=42\n",
    "# del a.first_name\n",
    "\n",
    "#在子类中可以扩展property的方法\n",
    "class SubPerson(Person):\n",
    "    @property\n",
    "    def first_name(self):\n",
    "        print('Getting name')\n",
    "        return super().first_name\n",
    "    \n",
    "    @first_name.setter\n",
    "    def first_name(self,value):\n",
    "        print('Setting name')\n",
    "        super(SubPerson,SubPerson).name.__set__(self,value)\n",
    "    \n",
    "    @first_name.deleter\n",
    "    def first_name(self):\n",
    "        print(\"Deleting name\")\n",
    "        super(SubPerson,SubPerson).name__delete__(self)\n",
    "        \n",
    "#若只想扩展某一个方法\n",
    "class SubSubPerson(Person):\n",
    "    @Person.first_name.getter\n",
    "    def first_name(self):\n",
    "        print('Getting name')\n",
    "        return super().first_name\n",
    "    \n",
    "        \n",
    "b=SubPerson('KKK')\n",
    "print(b.first_name)\n",
    "c=SubSubPerson('ZZZK')\n",
    "print(c.first_name)"
   ]
  },
  {
   "cell_type": "code",
   "execution_count": null,
   "metadata": {},
   "outputs": [],
   "source": []
  }
 ],
 "metadata": {
  "kernelspec": {
   "display_name": "Python 3",
   "language": "python",
   "name": "python3"
  },
  "language_info": {
   "codemirror_mode": {
    "name": "ipython",
    "version": 3
   },
   "file_extension": ".py",
   "mimetype": "text/x-python",
   "name": "python",
   "nbconvert_exporter": "python",
   "pygments_lexer": "ipython3",
   "version": "3.8.3"
  }
 },
 "nbformat": 4,
 "nbformat_minor": 4
}
