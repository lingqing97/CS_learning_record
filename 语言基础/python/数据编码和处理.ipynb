{
 "cells": [
  {
   "cell_type": "code",
   "execution_count": 1,
   "metadata": {},
   "outputs": [
    {
     "name": "stdout",
     "output_type": "stream",
     "text": [
      "{'name': 'ACME', 'price': 543.23, 'shares': 100}\n",
      "OrderedDict([('name', 'ACME'), ('shares', 50), ('price', 490.1)])\n"
     ]
    }
   ],
   "source": [
    "# json的使用\n",
    "\n",
    "import json\n",
    "# json读写\n",
    "# 存储为字符串用json.dumps(),json.loads()\n",
    "# 存储为文件用json.dump(),json.load()\n",
    "data={\n",
    "    'name':'ACME','shares':100,'price':543.23\n",
    "}\n",
    "json_str=json.dumps(data)\n",
    "data_from_json=json.loads(json_str)\n",
    "\n",
    "# json文件的读写\n",
    "with open('./data/data.json','w') as f:\n",
    "    json.dump(data,f)\n",
    "with open('./data/data.json','r') as f:\n",
    "    data_from_json=json.load(f)\n",
    "\n",
    "#使用pprint打印更加美观\n",
    "from pprint import pprint\n",
    "pprint(data_from_json)\n",
    "\n",
    "#解码Json数据并保留其顺序\n",
    "from collections import OrderedDict\n",
    "s = '{\"name\": \"ACME\", \"shares\": 50, \"price\": 490.1}'\n",
    "data=json.loads(s,object_pairs_hook=OrderedDict)\n",
    "print(data)"
   ]
  },
  {
   "cell_type": "code",
   "execution_count": 2,
   "metadata": {},
   "outputs": [
    {
     "name": "stdout",
     "output_type": "stream",
     "text": [
      "{\"a\": true, \"b\": \"Hello\", \"c\": null, \"d\": false}\n"
     ]
    }
   ],
   "source": [
    "# json的使用\n",
    "\n",
    "import json\n",
    "\n",
    "#JSON编码的格式与python语法基本一样\n",
    "#差异:True会被映射为true,False会被映射为false,而None会被映射为null\n",
    "d={\n",
    "    'a':True,\n",
    "    'b':'Hello',\n",
    "    'c':None,\n",
    "    'd':False\n",
    "}\n",
    "print(json.dumps(d))"
   ]
  }
 ],
 "metadata": {
  "kernelspec": {
   "display_name": "Python 3",
   "language": "python",
   "name": "python3"
  },
  "language_info": {
   "codemirror_mode": {
    "name": "ipython",
    "version": 3
   },
   "file_extension": ".py",
   "mimetype": "text/x-python",
   "name": "python",
   "nbconvert_exporter": "python",
   "pygments_lexer": "ipython3",
   "version": "3.8.3"
  }
 },
 "nbformat": 4,
 "nbformat_minor": 4
}
