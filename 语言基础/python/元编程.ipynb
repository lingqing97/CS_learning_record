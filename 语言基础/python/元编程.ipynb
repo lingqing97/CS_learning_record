{
 "cells": [
  {
   "cell_type": "code",
   "execution_count": 19,
   "metadata": {},
   "outputs": [
    {
     "name": "stdout",
     "output_type": "stream",
     "text": [
      "I am doing some boring work before executing a_func\n",
      "I am the function which needs some decoration to remove my foul smell\n",
      "I am doing some boring work after executing a_func\n",
      "None\n",
      "I am doing some boring work before executing a_func\n",
      "I am doing some boring work before executing a_func\n",
      "I am the function which needs some decoration to remove my foul smell\n",
      "I am doing some boring work after executing a_func\n",
      "I am doing some boring work after executing a_func\n",
      "None\n"
     ]
    }
   ],
   "source": [
    "#装饰器\n",
    "\n",
    "#装饰器就是一个函数，它接受一个函数作为参数并返回一个新的函数\n",
    "\n",
    "def a_new_decorator(a_func):\n",
    "    \n",
    "    def wrapTheFunction():\n",
    "        print(\"I am doing some boring work before executing a_func\")\n",
    "        a_func()\n",
    "        print(\"I am doing some boring work after executing a_func\")\n",
    "        \n",
    "    return wrapTheFunction\n",
    "\n",
    "def a_func_requiring_decorator():\n",
    "    print(\"I am the function which needs some decoration to remove my foul smell\")\n",
    "    \n",
    "# print(a_func_requiring_decorator())\n",
    "# a_func_requiring_decorator=a_new_decorator(a_func_requiring_decorator)\n",
    "# print(a_func_requiring_decorator())\n",
    "\n",
    "#上述函数可以改写为如下装饰器\n",
    "@a_new_decorator\n",
    "def a_func_requiring_decorator():\n",
    "    print(\"I am the function which needs some decoration to remove my foul smell\")\n",
    "\n",
    "print(a_func_requiring_decorator())\n",
    "\n",
    "a_func_requiring_decorator=a_new_decorator(a_func_requiring_decorator)\n",
    "print(a_func_requiring_decorator())"
   ]
  },
  {
   "cell_type": "code",
   "execution_count": 21,
   "metadata": {},
   "outputs": [
    {
     "name": "stdout",
     "output_type": "stream",
     "text": [
      "I am doing boring work before executing a_func\n",
      "I am the function which needs some decoration toremove my foul smell\n",
      "I am doing boring work after executing a_func\n",
      "None\n",
      "a_function_requiring_decoration\n"
     ]
    }
   ],
   "source": [
    "#打印输入装饰器的函数名\n",
    "from functools import wraps\n",
    "\n",
    "def a_new_decorator(a_func):\n",
    "    #@wraps接受一个函数来进行修饰，可以让我们访问装饰前函数的属性\n",
    "    @wraps(a_func)\n",
    "    def wrapTheFunction():\n",
    "        print(\"I am doing boring work before executing a_func\")\n",
    "        a_func()\n",
    "        print(\"I am doing boring work after executing a_func\")\n",
    "    return wrapTheFunction\n",
    "\n",
    "@a_new_decorator\n",
    "def a_function_requiring_decoration():\n",
    "    print(\"I am the function which needs some decoration to\"\n",
    "         \"remove my foul smell\")\n",
    "\n",
    "\n",
    "print(a_function_requiring_decoration())\n",
    "print(a_function_requiring_decoration.__name__)"
   ]
  },
  {
   "cell_type": "code",
   "execution_count": 24,
   "metadata": {},
   "outputs": [
    {
     "name": "stdout",
     "output_type": "stream",
     "text": [
      "Doing some boring work.\n",
      "Function is running\n",
      "Doing some boring work.\n",
      "Function is running\n"
     ]
    }
   ],
   "source": [
    "#装饰器书写模板\n",
    "from functools import wraps\n",
    "\n",
    "def decorator_name(f):\n",
    "    @wraps(f)\n",
    "    def decorated(*args,**kwargs):\n",
    "        if not can_run:\n",
    "            return \"Function will not run.\"\n",
    "        #传入参数给f\n",
    "        return f(*args,**kwargs)\n",
    "    \n",
    "    return decorated\n",
    "\n",
    "@decorator_name\n",
    "def func():\n",
    "    return \"Function is running\"\n",
    "\n",
    "# can_run=True\n",
    "print(func())\n",
    "# can_fun=False\n",
    "print(func())"
   ]
  },
  {
   "cell_type": "code",
   "execution_count": 27,
   "metadata": {},
   "outputs": [
    {
     "name": "stdout",
     "output_type": "stream",
     "text": [
      "addition_funcwas called\n",
      "8\n"
     ]
    }
   ],
   "source": [
    "#装饰器在日志上的运用\n",
    "\n",
    "from functools import wraps\n",
    "\n",
    "def logit(func):\n",
    "    @wraps(func)\n",
    "    def with_logging(*args,**kwargs):\n",
    "            print(func.__name__+\"was called\")\n",
    "            return func(*args,**kwargs)\n",
    "    return with_logging\n",
    "\n",
    "@logit\n",
    "def addition_func(x):\n",
    "    return x+x\n",
    "\n",
    "result=addition_func(4)\n",
    "print(result)\n",
    "\n",
    "#上述两个函数可以理解为在addition_func外面多加了一层函数，最终还是返回addition_func这个函数"
   ]
  },
  {
   "cell_type": "code",
   "execution_count": 31,
   "metadata": {},
   "outputs": [
    {
     "name": "stdout",
     "output_type": "stream",
     "text": [
      "countdown 0.008550882339477539\n",
      "None\n",
      "countdown\n",
      "\n",
      "    Counts down\n",
      "    \n"
     ]
    }
   ],
   "source": [
    "#装饰器例子\n",
    "import time\n",
    "from functools import wraps\n",
    "\n",
    "def timethis(func):\n",
    "    @wraps(func)\n",
    "    def wrapper(*args,**kwargs):\n",
    "        start=time.time()\n",
    "        func(*args,**kwargs)\n",
    "        end=time.time()\n",
    "        print(func.__name__,end-start)\n",
    "    return wrapper\n",
    "\n",
    "@timethis\n",
    "def countdown(n):\n",
    "    '''\n",
    "    Counts down\n",
    "    '''\n",
    "    while n>0:\n",
    "        n-=1\n",
    "\n",
    "print(countdown(100000))\n",
    "\n",
    "#通过@wraps可以保存被装饰函数的元信息\n",
    "print(countdown.__name__)\n",
    "print(countdown.__doc__)\n",
    "#通过wraps直接调用被装饰函数\n",
    "countdown.__wrapped__(10000)"
   ]
  },
  {
   "cell_type": "code",
   "execution_count": 35,
   "metadata": {},
   "outputs": [
    {
     "name": "stdout",
     "output_type": "stream",
     "text": [
      "3\n"
     ]
    }
   ],
   "source": [
    "#定义一个可以接受参数的装饰器\n",
    "#在外层再封装一层函数\n",
    "from functools import wraps\n",
    "import logging\n",
    "\n",
    "def logged(level,name=None,message=None):\n",
    "    def decorate(func):\n",
    "        logname=name if name else func.__module__\n",
    "        log=logging.getLogger(logname)\n",
    "        logmsg=message if message else func.__name__\n",
    "        \n",
    "        @wraps(func)\n",
    "        def wrapper(*args,**kwargs):\n",
    "            log.log(level,logmsg)\n",
    "            return func(*args,**kwargs)\n",
    "        return wrapper\n",
    "    return decorate\n",
    "\n",
    "@logged(logging.DEBUG)\n",
    "def add(x,y):\n",
    "    return x+y\n",
    "\n",
    "@logged(logging.CRITICAL,'example')\n",
    "def spam():\n",
    "    print(\"Spam!\")\n",
    "    \n",
    "print(add(1,2))"
   ]
  },
  {
   "cell_type": "code",
   "execution_count": 42,
   "metadata": {},
   "outputs": [
    {
     "name": "stdout",
     "output_type": "stream",
     "text": [
      "Decorator1\n",
      "None\n",
      "Decorator2\n",
      "None\n"
     ]
    }
   ],
   "source": [
    "#在类中定义装饰器\n",
    "\n",
    "#在类中定义装饰器需要明确是作为一个实例方法还是一个类方法\n",
    "\n",
    "from functools import wraps\n",
    "\n",
    "class A:\n",
    "    #a作为self传递进去\n",
    "    def decorator1(self,func):\n",
    "        @wraps(func)\n",
    "        def wrapper(*arg,**kwargs):\n",
    "            print('Decorator1')\n",
    "            return func(*arg,**kwargs)\n",
    "        return wrapper\n",
    "    #cls不能少，A作为cls的参数传递进去\n",
    "    @classmethod\n",
    "    def decorator2(cls,func):\n",
    "        @wraps(func)\n",
    "        def wrapper(*args,**kwargs):\n",
    "            print('Decorator2')\n",
    "            return func(*args,**kwargs)\n",
    "        return wrapper\n",
    "\n",
    "a=A()\n",
    "#实例装饰器\n",
    "@a.decorator1\n",
    "def spam():\n",
    "    pass\n",
    "#类装饰器\n",
    "@A.decorator2\n",
    "def grok():\n",
    "    pass\n",
    "\n",
    "print(spam())\n",
    "print(grok())"
   ]
  }
 ],
 "metadata": {
  "kernelspec": {
   "display_name": "Python 3",
   "language": "python",
   "name": "python3"
  },
  "language_info": {
   "codemirror_mode": {
    "name": "ipython",
    "version": 3
   },
   "file_extension": ".py",
   "mimetype": "text/x-python",
   "name": "python",
   "nbconvert_exporter": "python",
   "pygments_lexer": "ipython3",
   "version": "3.8.3"
  }
 },
 "nbformat": 4,
 "nbformat_minor": 4
}
