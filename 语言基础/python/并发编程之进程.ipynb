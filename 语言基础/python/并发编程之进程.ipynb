{
 "cells": [
  {
   "cell_type": "markdown",
   "metadata": {},
   "source": [
    "### 进程创建"
   ]
  },
  {
   "cell_type": "code",
   "execution_count": 2,
   "metadata": {},
   "outputs": [
    {
     "name": "stdout",
     "output_type": "stream",
     "text": [
      "aaaa\n"
     ]
    }
   ],
   "source": [
    "import multiprocessing as mp\n",
    "\n",
    "#定义一个被进程调用的函数\n",
    "def job(a,b):\n",
    "    print('aaaa')\n",
    "\n",
    "if __name__=='__main__':\n",
    "    p1=mp.Process(target=job,args=(1,2))\n",
    "    p1.start()\n",
    "    p1.join()"
   ]
  },
  {
   "cell_type": "markdown",
   "metadata": {},
   "source": [
    "### 存储进程输出Queue\n",
    "\n",
    "Queue的功能是将每个核或线程的运算结果放在队里中，等到每个线程或核运算完毕后再从队列中取出结果，继续加载运算。原因很简单，**多进程或多线程调用的函数不能有返回值**，所以使用Queue存储多个线程或进程运算的结果。"
   ]
  },
  {
   "cell_type": "code",
   "execution_count": 4,
   "metadata": {},
   "outputs": [
    {
     "name": "stdout",
     "output_type": "stream",
     "text": [
      "3\n",
      "1\n"
     ]
    }
   ],
   "source": [
    "import multiprocessing as mp\n",
    "\n",
    "#定义一个没有返回值得调用函数\n",
    "def job(q,res):\n",
    "    q.put(res)\n",
    "\n",
    "\n",
    "if __name__=='__main__':\n",
    "    q=mp.Queue()\n",
    "    p1=mp.Process(target=job,args=(q,1))\n",
    "    p2=mp.Process(target=job,args=(q,3))\n",
    "    p1.start()\n",
    "    p2.start()\n",
    "    p1.join()\n",
    "    p2.join()\n",
    "    res1=q.get()\n",
    "    res2=q.get()\n",
    "    print(res1)\n",
    "    print(res2)"
   ]
  },
  {
   "cell_type": "markdown",
   "metadata": {},
   "source": [
    "### 进程池Pool\n",
    "\n",
    "进程池就是我们将所有运行的东西，放到池子里，python会自行解决多进程的问题。\n",
    "\n",
    "1. pool默认调动是CPU的核数,Pool调用的函数有返回值，而Process调用的函数则没有返回值\n",
    "2. 对Pool对象调用join()方法会等待所有子进程执行完毕，调用join()之前必须先调用close(),调用cloes()之后就不能继续添加新的Process\n",
    "3. map(func,seq)放入迭代参数，返回多个结果\n",
    "4. apply_async(func,parm)只能执行一次"
   ]
  },
  {
   "cell_type": "code",
   "execution_count": 2,
   "metadata": {},
   "outputs": [
    {
     "ename": "TypeError",
     "evalue": "job() missing 1 required positional argument: 'x'",
     "output_type": "error",
     "traceback": [
      "\u001b[0;31m---------------------------------------------------------------------------\u001b[0m",
      "\u001b[0;31mTypeError\u001b[0m                                 Traceback (most recent call last)",
      "\u001b[0;32m<ipython-input-2-fe0cd90da78f>\u001b[0m in \u001b[0;36m<module>\u001b[0;34m\u001b[0m\n\u001b[1;32m      6\u001b[0m \u001b[0;32mif\u001b[0m \u001b[0m__name__\u001b[0m\u001b[0;34m==\u001b[0m\u001b[0;34m'__main__'\u001b[0m\u001b[0;34m:\u001b[0m\u001b[0;34m\u001b[0m\u001b[0;34m\u001b[0m\u001b[0m\n\u001b[1;32m      7\u001b[0m     \u001b[0mpool\u001b[0m\u001b[0;34m=\u001b[0m\u001b[0mmp\u001b[0m\u001b[0;34m.\u001b[0m\u001b[0mPool\u001b[0m\u001b[0;34m(\u001b[0m\u001b[0;34m)\u001b[0m\u001b[0;34m\u001b[0m\u001b[0;34m\u001b[0m\u001b[0m\n\u001b[0;32m----> 8\u001b[0;31m     \u001b[0mres\u001b[0m\u001b[0;34m=\u001b[0m\u001b[0mpool\u001b[0m\u001b[0;34m.\u001b[0m\u001b[0mmap\u001b[0m\u001b[0;34m(\u001b[0m\u001b[0mjob\u001b[0m\u001b[0;34m(\u001b[0m\u001b[0;34m)\u001b[0m\u001b[0;34m,\u001b[0m\u001b[0mrange\u001b[0m\u001b[0;34m(\u001b[0m\u001b[0;36m10\u001b[0m\u001b[0;34m)\u001b[0m\u001b[0;34m)\u001b[0m\u001b[0;34m\u001b[0m\u001b[0;34m\u001b[0m\u001b[0m\n\u001b[0m\u001b[1;32m      9\u001b[0m     \u001b[0mprint\u001b[0m\u001b[0;34m(\u001b[0m\u001b[0mres\u001b[0m\u001b[0;34m)\u001b[0m\u001b[0;34m\u001b[0m\u001b[0;34m\u001b[0m\u001b[0m\n",
      "\u001b[0;31mTypeError\u001b[0m: job() missing 1 required positional argument: 'x'"
     ]
    }
   ],
   "source": [
    "import multiprocessing as mp\n",
    "\n",
    "def job(x):\n",
    "    return x*x\n",
    "\n",
    "if __name__=='__main__':\n",
    "    pool=mp.Pool()\n",
    "    res=pool.map(job,range(10))\n",
    "    print(res)"
   ]
  },
  {
   "cell_type": "code",
   "execution_count": 6,
   "metadata": {},
   "outputs": [
    {
     "name": "stdout",
     "output_type": "stream",
     "text": [
      "Parent process 1863.\n",
      "Run task 1 (2098)...\n",
      "Run task 0 (2097)...\n",
      "Run task 3 (2100)...\n",
      "Run task 2 (2099)...\n",
      "Waiting for all subprocess done...\n",
      "Task 3 runs 0.29 seconds.\n",
      "Run task 4 (2100)...\n",
      "Task 2 runs 1.75 seconds.\n",
      "Task 0 runs 2.59 seconds.\n",
      "Task 1 runs 2.72 seconds.\n",
      "Task 4 runs 2.93 seconds.\n",
      "All subprocess done.\n"
     ]
    }
   ],
   "source": [
    "from multiprocessing import Pool\n",
    "import os,time,random\n",
    "\n",
    "def long_time_test(name):\n",
    "    print('Run task %s (%s)...'%(name,os.getpid()))\n",
    "    start=time.time()\n",
    "    time.sleep(random.random()*3)\n",
    "    end=time.time()\n",
    "    print('Task %s runs %0.2f seconds.'%(name,(end-start)))\n",
    "\n",
    "if __name__=='__main__':\n",
    "    print('Parent process %s.'%os.getpid())\n",
    "    p=Pool(4)\n",
    "    for i in range(5):\n",
    "        p.apply_async(long_time_test,args=(i,))\n",
    "    print('Waiting for all subprocess done...')\n",
    "    p.close()\n",
    "    p.join()\n",
    "    print('All subprocess done.')"
   ]
  },
  {
   "cell_type": "markdown",
   "metadata": {},
   "source": [
    "### 共享内存\n",
    "\n",
    "定义共享内存中的数据可以被不同进程读取和修改。\n",
    "\n",
    "| Type code | C Type             | Python Type       | Minimum size in bytes |\n",
    "| --------- | ------------------ | ----------------- | --------------------- |\n",
    "| `'b'`     | signed char        | int               | 1                     |\n",
    "| `'B'`     | unsigned char      | int               | 1                     |\n",
    "| `'u'`     | Py_UNICODE         | Unicode character | 2                     |\n",
    "| `'h'`     | signed short       | int               | 2                     |\n",
    "| `'H'`     | unsigned short     | int               | 2                     |\n",
    "| `'i'`     | signed int         | int               | 2                     |\n",
    "| `'I'`     | unsigned int       | int               | 2                     |\n",
    "| `'l'`     | signed long        | int               | 4                     |\n",
    "| `'L'`     | unsigned long      | int               | 4                     |\n",
    "| `'q'`     | signed long long   | int               | 8                     |\n",
    "| `'Q'`     | unsigned long long | int               | 8                     |\n",
    "| `'f'`     | float              | float             | 4                     |\n",
    "| `'d'`     | double             | float             | 8                     |"
   ]
  },
  {
   "cell_type": "code",
   "execution_count": 7,
   "metadata": {},
   "outputs": [],
   "source": [
    "import multiprocessing as mp\n",
    "\n",
    "#通过使用Value将数据存储在一个共享的内存表中\n",
    "#其中d和i参数用来设置数据类型\n",
    "#d表示一个双精度浮点类型,i表示一个带符号的整型\n",
    "value1=mp.Value('i',0)\n",
    "value2=mp.Value('d',3.14)\n",
    "\n",
    "#这里的Array只能是一维的，不能是多维的，且需要定义数据形式\n",
    "array=mp.Array('i',[1,2,3,4])"
   ]
  },
  {
   "cell_type": "markdown",
   "metadata": {},
   "source": [
    "### 进程锁Lock"
   ]
  },
  {
   "cell_type": "code",
   "execution_count": 14,
   "metadata": {},
   "outputs": [
    {
     "name": "stdout",
     "output_type": "stream",
     "text": [
      "curr process 2749 1\n",
      "curr process 2749 2\n",
      "curr process 2750 5\n",
      "curr process 2749 6\n",
      "curr process 2749 7\n",
      "curr process 2749 8\n",
      "curr process 2750 11\n",
      "curr process 2750 14\n",
      "curr process 2750 17\n",
      "curr process 2750 20\n"
     ]
    }
   ],
   "source": [
    "#不加进程锁，两个进程争夺共享内存v\n",
    "import multiprocessing as mp\n",
    "import time,os\n",
    "\n",
    "def job(v,num):\n",
    "    for _ in range(5):\n",
    "        time.sleep(num)\n",
    "        v.value+=num   #v.value获取共享变量值\n",
    "        print('curr process',os.getpid(),v.value)\n",
    "\n",
    "def multicore():\n",
    "    v=mp.Value('i',0)\n",
    "    p1=mp.Process(target=job,args=(v,1))\n",
    "    p2=mp.Process(target=job,args=(v,3))\n",
    "    p1.start()\n",
    "    p2.start()\n",
    "    p1.join()\n",
    "    p2.join()\n",
    "\n",
    "if __name__=='__main__':\n",
    "    multicore()"
   ]
  },
  {
   "cell_type": "code",
   "execution_count": 17,
   "metadata": {},
   "outputs": [
    {
     "name": "stdout",
     "output_type": "stream",
     "text": [
      "3\n",
      "6\n",
      "9\n",
      "12\n",
      "15\n",
      "16\n",
      "17\n",
      "18\n",
      "19\n",
      "20\n"
     ]
    }
   ],
   "source": [
    "#使用进程锁，保证运行时一个进程对锁内内容的独占\n",
    "#使用l.acquire()加锁,l.release()释放锁\n",
    "import multiprocessing as mp\n",
    "import time\n",
    "\n",
    "def job(v,num,l):\n",
    "    l.acquire()\n",
    "    for _ in range(5):\n",
    "        time.sleep(num)\n",
    "        v.value+=num\n",
    "        print(v.value)\n",
    "    l.release()\n",
    "\n",
    "def multicore():\n",
    "    l=mp.Lock()\n",
    "    v=mp.Value('i',0)\n",
    "    p1=mp.Process(target=job,args=(v,3,l))\n",
    "    p2=mp.Process(target=job,args=(v,1,l))\n",
    "    p1.start()\n",
    "    p2.start()\n",
    "    p1.join()\n",
    "    p2.join()\n",
    "\n",
    "if __name__=='__main__':\n",
    "    multicore()"
   ]
  }
 ],
 "metadata": {
  "kernelspec": {
   "display_name": "Python 3",
   "language": "python",
   "name": "python3"
  },
  "language_info": {
   "codemirror_mode": {
    "name": "ipython",
    "version": 3
   },
   "file_extension": ".py",
   "mimetype": "text/x-python",
   "name": "python",
   "nbconvert_exporter": "python",
   "pygments_lexer": "ipython3",
   "version": "3.8.3"
  }
 },
 "nbformat": 4,
 "nbformat_minor": 2
}
