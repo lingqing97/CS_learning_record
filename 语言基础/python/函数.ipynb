{
 "cells": [
  {
   "cell_type": "code",
   "execution_count": 9,
   "metadata": {},
   "outputs": [
    {
     "name": "stdout",
     "output_type": "stream",
     "text": [
      "1.5\n",
      "2.5\n",
      "p:2.35,has attr:dtype=float size=32\n",
      "1\n",
      "(2, 3, 4)\n",
      "3\n",
      "{'key': 2, 'size': 3, 'name': 'w'}\n"
     ]
    }
   ],
   "source": [
    "#构造一个可接受任意数量参数的函数\n",
    "\n",
    "#接受任意数量参数的位置参数\n",
    "def avg(first,*rest):\n",
    "    #rest是一个tuple\n",
    "    return (first+sum(rest))/(1+len(rest))\n",
    "\n",
    "print(avg(1,2))\n",
    "print(avg(1,2,3,4))\n",
    "\n",
    "#接受任意数量参数的关键字参数\n",
    "def printDict(name,value,**attrs):\n",
    "    #attrs是一个字典\n",
    "    keyvals=['%s=%s'%item for item in attrs.items()]\n",
    "    attrvals=' '.join(keyvals)\n",
    "    print('{}:{:.2f},has attr:{}'.format(name,value,attrvals))\n",
    "\n",
    "printDict('p',2.3456,dtype='float',size=32)\n",
    "\n",
    "\n",
    "#总结\n",
    "#注意点:`**`参数只能出现在最后一个参数，而`*`参数后面仍然可以定义其他函数,但`*`必须是最后一个位置参数\n",
    "#*args,这里args相当于一个tuple,**kwargs这里kwargs相当于一个dict\n",
    "def a(x,*args,y):\n",
    "    pass\n",
    "def b(x,*args,y,**kwargs):\n",
    "    print(x)\n",
    "    print(args)\n",
    "    print(y)\n",
    "    print(kwargs)\n",
    "\n",
    "b(1,2,3,4,y=3,key=2,size=3,name='w')\n",
    "\n",
    "def anyattr(*args,**kwargs):\n",
    "    print(args) #a tuple\n",
    "    print(kwargs) #a dict"
   ]
  },
  {
   "cell_type": "code",
   "execution_count": 11,
   "metadata": {},
   "outputs": [
    {
     "name": "stdout",
     "output_type": "stream",
     "text": [
      "1024\n",
      "True\n"
     ]
    }
   ],
   "source": [
    "#强制关键字参数\n",
    "\n",
    "#将强制关键字参数放在某个`*`参数或者单个`*`后面就能达到这种效果\n",
    "\n",
    "def recv(maxsize,*,block):\n",
    "    print(maxsize)\n",
    "    print(block)\n",
    "\n",
    "# recv(1024,True) #TypeError\n",
    "recv(1024,block=True)"
   ]
  },
  {
   "cell_type": "code",
   "execution_count": 15,
   "metadata": {},
   "outputs": [
    {
     "name": "stdout",
     "output_type": "stream",
     "text": [
      "Help on function add in module __main__:\n",
      "\n",
      "add(x: int, y: int) -> int\n",
      "\n"
     ]
    }
   ],
   "source": [
    "# 使用函数参数注解\n",
    "\n",
    "#python解释器不会对这里的类型进行检测，运行时和没有加注解时没有任何差距，对于阅读源码的人很有帮助\n",
    "def add(x:int,y:int)->int:\n",
    "    return x+y\n",
    "\n",
    "help(add)"
   ]
  },
  {
   "cell_type": "code",
   "execution_count": 17,
   "metadata": {},
   "outputs": [
    {
     "name": "stdout",
     "output_type": "stream",
     "text": [
      "1 42\n",
      "1 2\n",
      "No b value supplied\n"
     ]
    }
   ],
   "source": [
    "#定义带默认值的函数\n",
    "def spam(a,b=42):\n",
    "    print(a,b)\n",
    "spam(1)\n",
    "spam(1,2)\n",
    "\n",
    "#测试某个默认参数是否有传递进来\n",
    "_no_value=object()\n",
    "def spam(a,b=_no_value):\n",
    "    if b is _no_value:\n",
    "        print('No b value supplied')\n",
    "\n",
    "spam(1)\n",
    "spam(1,2)\n",
    "spam(1,None)\n",
    "\n",
    "#特别注意：默认参数的值应该是不可变的对象，比如None,True,False,数字或者字符串，千万不要使用可变对象.\n"
   ]
  },
  {
   "cell_type": "code",
   "execution_count": 20,
   "metadata": {},
   "outputs": [
    {
     "name": "stdout",
     "output_type": "stream",
     "text": [
      "30\n",
      "30\n",
      "20\n",
      "30\n"
     ]
    }
   ],
   "source": [
    "#lambda表达式在定义时绑定值\n",
    "\n",
    "#为绑定值，自由变量x在运行时确定\n",
    "x=10\n",
    "a=lambda y:x+y\n",
    "x=20\n",
    "b=lambda y:x+y\n",
    "print(a(10))\n",
    "print(b(10))\n",
    "\n",
    "#绑定自由变量，使其在定义时固定\n",
    "x=10\n",
    "a=lambda y,x=x:x+y\n",
    "x=20\n",
    "b=lambda y,x=x:x+y\n",
    "print(a(10))\n",
    "print(b(10))"
   ]
  },
  {
   "cell_type": "code",
   "execution_count": 29,
   "metadata": {},
   "outputs": [
    {
     "name": "stdout",
     "output_type": "stream",
     "text": [
      "<html>\r\n",
      "\n",
      "<head>\r\n",
      "\n",
      "\t<script>\r\n",
      "\n",
      "\t\tlocation.replace(location.href.replace(\"https://\",\"http://\"));\r\n",
      "\n",
      "\t</script>\r\n",
      "\n",
      "</head>\r\n",
      "\n",
      "<body>\r\n",
      "\n",
      "\t<noscript><meta http-equiv=\"refresh\" content=\"0;url=http://www.baidu.com/\"></noscript>\r\n",
      "\n",
      "</body>\r\n",
      "\n",
      "</html>\n"
     ]
    }
   ],
   "source": [
    "#将只__init__的类转化为一个函数--->闭包\n",
    "#一个闭包就是一个函数，只不过在函数内部带上了一个额外的变量环境。\n",
    "\n",
    "#例子\n",
    "from urllib.request import urlopen\n",
    "\n",
    "# class UrlTemplate:\n",
    "#     def __init__(self,template):\n",
    "#         self.template=template\n",
    "#     def open(self,**kwargs):\n",
    "#         return urlopen(self.template.format_map(kwargs))\n",
    "\n",
    "# yahoo=UrlTemplate('http://finance.yahoo.com/d/quotes.csv?s={names}&f={fields}')\n",
    "# for line in yahoo.open(names='IBM,AAPL,FB', fields='sl1c1v'):\n",
    "#     print(line.decode('utf-8'))\n",
    "\n",
    "#将上述类转为闭包\n",
    "def urltemplate(template):\n",
    "    def opener(**kwargs):\n",
    "        return urlopen(template.format_map(kwargs))\n",
    "    return opener\n",
    "\n",
    "baidu=urltemplate('https://www.baidu.com/s?ie={ie}&wd={wd}')\n",
    "for line in baidu(ie='UTF-8',wd='123'):\n",
    "    print(line.decode('utf-8'))"
   ]
  },
  {
   "cell_type": "code",
   "execution_count": 35,
   "metadata": {},
   "outputs": [
    {
     "name": "stdout",
     "output_type": "stream",
     "text": [
      "Got: 3\n",
      "Got: xxyy\n",
      "[1] Got:3\n",
      "[2] Got:xxyy\n",
      "[1] Got:3\n",
      "[2] Got:xxxyyy\n"
     ]
    }
   ],
   "source": [
    "#回调函数的使用\n",
    "\n",
    "#定义一个需要回调函数的函数\n",
    "def apply_async(func,args,*,callback):\n",
    "    result=func(*args)\n",
    "    \n",
    "    callback(result)\n",
    "\n",
    "def print_result(result):\n",
    "    print('Got:',result)\n",
    "def add(x,y):\n",
    "    return x+y\n",
    "\n",
    "apply_async(add,(1,2),callback=print_result)\n",
    "apply_async(add,('xx','yy'),callback=print_result)\n",
    "\n",
    "#定义一个可以访问外部信息的回调函数\n",
    "#方法一：定义一个类\n",
    "class ResultHandler:\n",
    "    def __init__(self):\n",
    "        self._sequence=0\n",
    "    def handler(self,result):\n",
    "        self._sequence+=1\n",
    "        print('[{}] Got:{}'.format(self._sequence,result))\n",
    "\n",
    "r=ResultHandler()\n",
    "apply_async(add,(1,2),callback=r.handler)\n",
    "apply_async(add,('xx','yy'),callback=r.handler)\n",
    "\n",
    "#方法二：定义一个闭包\n",
    "def make_handler():\n",
    "    sequence=0\n",
    "    def handler(result):\n",
    "        #要修改内部变量的值需要使用nonlocal声明\n",
    "        nonlocal sequence\n",
    "        sequence+=1\n",
    "        print('[{}] Got:{}'.format(sequence,result))\n",
    "    return handler\n",
    "\n",
    "handler=make_handler()\n",
    "apply_async(add,(1,2),callback=handler)\n",
    "apply_async(add,('xxx','yyy'),callback=handler)"
   ]
  },
  {
   "cell_type": "code",
   "execution_count": 39,
   "metadata": {},
   "outputs": [
    {
     "name": "stdout",
     "output_type": "stream",
     "text": [
      "n= 0\n",
      "None\n",
      "n= 10\n",
      "None\n",
      "10\n"
     ]
    }
   ],
   "source": [
    "# 访问闭包中定义的变量\n",
    "\n",
    "def sample():\n",
    "    n=0\n",
    "    def func():\n",
    "        print('n=',n)\n",
    "    def get_n():\n",
    "        return n\n",
    "    def set_n(value):\n",
    "        #要修改内部变量的值需要使用\n",
    "        nonlocal n\n",
    "        n=value\n",
    "    #绑定\n",
    "    func.get_n=get_n\n",
    "    func.set_n=set_n\n",
    "    return func\n",
    "\n",
    "f=sample()\n",
    "print(f())\n",
    "f.set_n(10)\n",
    "print(f())\n",
    "print(f.get_n())"
   ]
  }
 ],
 "metadata": {
  "kernelspec": {
   "display_name": "Python 3",
   "language": "python",
   "name": "python3"
  },
  "language_info": {
   "codemirror_mode": {
    "name": "ipython",
    "version": 3
   },
   "file_extension": ".py",
   "mimetype": "text/x-python",
   "name": "python",
   "nbconvert_exporter": "python",
   "pygments_lexer": "ipython3",
   "version": "3.8.3"
  }
 },
 "nbformat": 4,
 "nbformat_minor": 4
}
