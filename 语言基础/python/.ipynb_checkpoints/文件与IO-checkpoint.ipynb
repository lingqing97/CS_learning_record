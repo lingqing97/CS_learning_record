{
 "cells": [
  {
   "cell_type": "code",
   "execution_count": 7,
   "metadata": {},
   "outputs": [
    {
     "name": "stdout",
     "output_type": "stream",
     "text": [
      "# Read the entire file as a single string\n",
      "\n",
      "with open('somefile.txt', 'rt') as f:\n",
      "\n",
      "    data = f.read()\n",
      "\n",
      "\n",
      "\n",
      "# Iterate over the lines of the file\n",
      "\n",
      "with open('somefile.txt', 'rt') as f:\n",
      "\n",
      "    for line in f:\n",
      "\n",
      "        # process line\n",
      "\n",
      "        ...\n"
     ]
    }
   ],
   "source": [
    "#读取各种不同编码的文本数据\n",
    "#读取文本数据使用'rt','wt'\n",
    "\n",
    "with open('somefile.txt','rt') as f:\n",
    "    lines=f.readlines()\n",
    "    for line in lines:\n",
    "        print(line)\n",
    "        \n",
    "#使用'w'模式会覆盖已存在的文件内容，可以使用'x'模式来解决，当文件存在时会报错\n",
    "with open('./hello.txt','xt') as f:\n",
    "    f.write('Hello\\n')\n",
    "\n",
    "#文件已存在会报错\n",
    "# with open('./hello.txt','xt') as f:\n",
    "#     f.write('Hello\\n')"
   ]
  },
  {
   "cell_type": "code",
   "execution_count": 5,
   "metadata": {},
   "outputs": [
    {
     "name": "stdout",
     "output_type": "stream",
     "text": [
      "ACME 50 91.5\n",
      "ACME,50,91.5\n",
      "ACME,50,91.5!!\n",
      "ACME,50,91.5\n"
     ]
    }
   ],
   "source": [
    "#print()函数相关属性\n",
    "\n",
    "#将print()输出重定向到一个文件中去\n",
    "with open('./test.txt','wt') as f:\n",
    "    print(\"hello world!\",file=f)\n",
    "    \n",
    "    \n",
    "#print()改变默认的分割符或者行尾符\n",
    "print('ACME',50,91.5)\n",
    " \n",
    "print('ACME',50,91.5,sep=',')\n",
    "\n",
    "print('ACME',50,91.5,sep=',',end='!!\\n')\n",
    "\n",
    "row=('ACME',50,91.5)\n",
    "print(*row,sep=',')"
   ]
  },
  {
   "cell_type": "code",
   "execution_count": 11,
   "metadata": {},
   "outputs": [
    {
     "name": "stdout",
     "output_type": "stream",
     "text": [
      "hello This is a test\n",
      "\n"
     ]
    }
   ],
   "source": [
    "#把文本或二进制字符串当成文件对象来处理\n",
    "import io\n",
    "#操作二进制数据使用io.BytesIO()\n",
    "s=io.StringIO()\n",
    "s.write('hello')\n",
    "print(' This is a test',file=s)\n",
    "print(s.getvalue())"
   ]
  },
  {
   "cell_type": "code",
   "execution_count": 15,
   "metadata": {},
   "outputs": [
    {
     "name": "stdout",
     "output_type": "stream",
     "text": [
      "hello\n",
      "\n"
     ]
    }
   ],
   "source": [
    "#读写一个gzip或者bz2格式的压缩文件\n",
    "#使用gzip或者bz2模块\n",
    "import gzip\n",
    "with gzip.open('test.gz','wt') as f:\n",
    "    f.write('hello\\n')\n",
    "with gzip.open('test.gz','rt') as f:\n",
    "    lines=f.readlines()\n",
    "    for line in lines:\n",
    "        print(line)\n",
    "\n",
    "import bz2\n",
    "with bz2.open('testbz2.bz2','wt') as f:\n",
    "    f.write('hello\\n')\n"
   ]
  },
  {
   "cell_type": "code",
   "execution_count": 35,
   "metadata": {},
   "outputs": [
    {
     "name": "stdout",
     "output_type": "stream",
     "text": [
      "data.csv\n",
      "/Users/beazley/Data\n",
      "tmp/data/data.csv\n",
      "('/Users/beazley/Data/data', '.csv')\n",
      "True\n",
      "False\n",
      "True\n",
      "False\n",
      "['数据结构与算法.ipynb', '数字日期和时间.ipynb', '文件与IO.ipynb', '迭代器与生成器.ipynb', '.ipynb_checkpoints', '字符串和文本.ipynb', 'data']\n",
      "['.ipynb_checkpoints', 'data']\n",
      "['数据结构与算法.ipynb', '数字日期和时间.ipynb', '文件与IO.ipynb', '迭代器与生成器.ipynb', '字符串和文本.ipynb']\n",
      "['./data/somefile.txt', './data/test.txt', './data/hello.txt']\n"
     ]
    }
   ],
   "source": [
    "#os模块\n",
    "\n",
    "#获取文件名，目录名，绝对路径\n",
    "import os\n",
    "\n",
    "path='/Users/beazley/Data/data.csv'\n",
    "\n",
    "#最后一个元素\n",
    "print(os.path.basename(path))\n",
    "\n",
    "#获取目录名\n",
    "print(os.path.dirname(path))\n",
    "\n",
    "#路径合并\n",
    "print(os.path.join('tmp','data',os.path.basename(path)))\n",
    "\n",
    "#文件与后缀名分离\n",
    "print(os.path.splitext(path))\n",
    "\n",
    "#检测文件或者目录是否存在\n",
    "print(os.path.exists('/etc/passwd'))\n",
    "print(os.path.exists('/tmp/spam'))\n",
    "\n",
    "#检测文件类型\n",
    "print(os.path.isfile('/etc/passwd'))\n",
    "print(os.path.isdir('/etc/passwd'))\n",
    "\n",
    "#使用os.path来进行文件测试时要注意文件权限的问题!!!!!\n",
    "\n",
    "#获取目录下的所有文件列表\n",
    "names=[name for name in os.listdir('./')]\n",
    "print(names)\n",
    "dirnames=[name for name in os.listdir('./') if os.path.isdir(os.path.join('./',name))]\n",
    "print(dirnames)\n",
    "pynames=[name for name in os.listdir('./') if name.endswith('.ipynb')]\n",
    "print(pynames)\n",
    "\n",
    "#文件名的匹配一般使用glob模块\n",
    "import glob\n",
    "pynames=glob.glob('./data/*.txt')\n",
    "print(pynames)"
   ]
  },
  {
   "cell_type": "code",
   "execution_count": 39,
   "metadata": {},
   "outputs": [
    {
     "name": "stdout",
     "output_type": "stream",
     "text": [
      "[12, 3, 4]\n",
      "[1, 2, 3]\n"
     ]
    }
   ],
   "source": [
    "#序列化Python对象\n",
    "import pickle\n",
    "\n",
    "#将对象保存到一个文件中\n",
    "data=[12,3,4]\n",
    "f=open('./data/list','wb')\n",
    "pickle.dump(data,f)\n",
    "f.close()\n",
    "f=open('./data/list','rb')\n",
    "a=pickle.load(f)\n",
    "print(a)\n",
    "\n",
    "#将对象保存到一个字符串中\n",
    "data=[1,2,3]\n",
    "s=pickle.dumps(data)\n",
    "#从字符串中读取\n",
    "a=pickle.loads(s)\n",
    "print(a)"
   ]
  }
 ],
 "metadata": {
  "kernelspec": {
   "display_name": "Python 3",
   "language": "python",
   "name": "python3"
  },
  "language_info": {
   "codemirror_mode": {
    "name": "ipython",
    "version": 3
   },
   "file_extension": ".py",
   "mimetype": "text/x-python",
   "name": "python",
   "nbconvert_exporter": "python",
   "pygments_lexer": "ipython3",
   "version": "3.8.3"
  }
 },
 "nbformat": 4,
 "nbformat_minor": 4
}
