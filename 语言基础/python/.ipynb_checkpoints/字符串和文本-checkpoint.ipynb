{
 "cells": [
  {
   "cell_type": "code",
   "execution_count": 3,
   "metadata": {},
   "outputs": [
    {
     "name": "stdout",
     "output_type": "stream",
     "text": [
      "['asdf', 'fjdk', 'afed', 'fjek', 'asdf', 'foo']\n",
      "['asdf', ' ', 'fjdk', ';', 'afed', ',', 'fjek', ',', 'asdf', ',', 'foo']\n"
     ]
    }
   ],
   "source": [
    "#使用多个界定符分割字符串\n",
    "#re.split()\n",
    "\n",
    "import re\n",
    "line='asdf fjdk; afed, fjek,asdf, foo'\n",
    "#限定符后可以跟若干个空格,[]这种是非捕获的形式\n",
    "print(re.split(r'[;,\\s]\\s*',line))\n",
    "\n",
    "#还可以使用捕获的形式(),这样会保留限定符\n",
    "print(re.split(r'(;|,|\\s)\\s*',line))"
   ]
  },
  {
   "cell_type": "code",
   "execution_count": 5,
   "metadata": {},
   "outputs": [
    {
     "name": "stdout",
     "output_type": "stream",
     "text": [
      "True\n",
      "False\n"
     ]
    }
   ],
   "source": [
    "#检查字符串的开头或者结尾\n",
    "#str.startswith(),str.endswith()\n",
    "#注意不要写成startwith()\n",
    "\n",
    "\n",
    "filename='spam.txt'\n",
    "print(filename.endswith('.txt'))\n",
    "print(filename.startswith('file:'))\n",
    "#检查多种匹配可能，可以将所有匹配项放入到一个元组中去\n",
    "#[name for name in filenames if name.startswith(('.c','.h'))]"
   ]
  },
  {
   "cell_type": "code",
   "execution_count": 9,
   "metadata": {},
   "outputs": [
    {
     "name": "stdout",
     "output_type": "stream",
     "text": [
      "hello world\n"
     ]
    }
   ],
   "source": [
    "#删除字符串中不需要的字符\n",
    "#strip(),lstrip(),rstrip()\n",
    "\n",
    "s='--hello world \\n'\n",
    "s=s.strip('-')\n",
    "s=s.lstrip()\n",
    "s=s.rstrip()\n",
    "print(s)"
   ]
  },
  {
   "cell_type": "code",
   "execution_count": 11,
   "metadata": {},
   "outputs": [
    {
     "name": "stdout",
     "output_type": "stream",
     "text": [
      "Hello world!        \n",
      "        Hello world!\n",
      "    Hello world!    \n",
      "Hello world!********\n",
      "********Hello world!\n",
      "****Hello world!****\n"
     ]
    }
   ],
   "source": [
    "#对齐格式化字符串\n",
    "#str.ljust(),str.rjust(),str.center()\n",
    "\n",
    "text='Hello world!'\n",
    "print(text.ljust(20))\n",
    "print(text.rjust(20))\n",
    "print(text.center(20))\n",
    "\n",
    "#指定填充字符\n",
    "print(text.ljust(20,'*'))\n",
    "print(text.rjust(20,'*'))\n",
    "print(text.center(20,'*'))"
   ]
  },
  {
   "cell_type": "code",
   "execution_count": 14,
   "metadata": {},
   "outputs": [
    {
     "name": "stdout",
     "output_type": "stream",
     "text": [
      "Is,Chicago,Not,Chicago\n",
      "ACME,50,91.1\n",
      "IS,Chicago,Not,Chicago?\n"
     ]
    }
   ],
   "source": [
    "#多个字符串合并\n",
    "#join()\n",
    "\n",
    "#例1\n",
    "parts=['Is','Chicago','Not','Chicago']\n",
    "print(','.join(parts))\n",
    "\n",
    "#例2\n",
    "data=['ACME',50,91.1]\n",
    "print(','.join(str(d) for d in data))\n",
    "\n",
    "#例3\n",
    "#定义生成器输出\n",
    "def sample():\n",
    "    yield 'IS'\n",
    "    yield 'Chicago'\n",
    "    yield 'Not'\n",
    "    yield 'Chicago?'\n",
    "    \n",
    "text=','.join(sample())\n",
    "print(text)"
   ]
  }
 ],
 "metadata": {
  "kernelspec": {
   "display_name": "Python 3",
   "language": "python",
   "name": "python3"
  },
  "language_info": {
   "codemirror_mode": {
    "name": "ipython",
    "version": 3
   },
   "file_extension": ".py",
   "mimetype": "text/x-python",
   "name": "python",
   "nbconvert_exporter": "python",
   "pygments_lexer": "ipython3",
   "version": "3.8.3"
  }
 },
 "nbformat": 4,
 "nbformat_minor": 4
}
