{
 "cells": [
  {
   "cell_type": "markdown",
   "metadata": {},
   "source": [
    "### 进程篇\n",
    "\n",
    "#### 进程的两种调用形式"
   ]
  },
  {
   "cell_type": "code",
   "execution_count": 3,
   "metadata": {},
   "outputs": [
    {
     "name": "stdout",
     "output_type": "stream",
     "text": [
      "Ending...\n"
     ]
    }
   ],
   "source": [
    "#方式一：直接调用\n",
    "import multiprocessing as mp\n",
    "import time\n",
    "from func import say_hi  #由于Ipython的限制，只能调用\n",
    "\n",
    "# def say_hi(words):\n",
    "#     time.sleep(2)\n",
    "#     print(\"I say:{}\".format(words))\n",
    "#     time.sleep(2)\n",
    "\n",
    "if __name__=='__main__':\n",
    "    process_1=mp.Process(target=say_hi,args=(\"hello world!\",),name=\"Process_1\")\n",
    "    process_2=mp.Process(target=say_hi,args=(\"Good!\",),name=\"Process_2\")\n",
    "\n",
    "    process_1.start()\n",
    "    process_2.start()\n",
    "\n",
    "    process_1.join()\n",
    "    process_2.join()\n",
    "\n",
    "    print(\"Ending...\")"
   ]
  },
  {
   "cell_type": "code",
   "execution_count": 7,
   "metadata": {},
   "outputs": [
    {
     "name": "stdout",
     "output_type": "stream",
     "text": [
      "Ending...\n"
     ]
    }
   ],
   "source": [
    "#继承类\n",
    "import multiprocessing as mp\n",
    "import time\n",
    "from func import MyProcess\n",
    "\n",
    "# class MyProcess(mp.Process):\n",
    "#     def __init__(self,name):\n",
    "#         super().__init__()\n",
    "#         self._name=name\n",
    "#     def run(self):\n",
    "#         print(\"%s is running\"%self._name)\n",
    "#         time.sleep(2)\n",
    "#         print(\"%s is done\"%self._name)\n",
    "        \n",
    "if __name__=='__main__':\n",
    "    process_1=MyProcess(\"hello world!\")\n",
    "    process_2=MyProcess(\"Good!\")\n",
    "    \n",
    "    process_1.start()\n",
    "    process_2.start()\n",
    "    \n",
    "    process_1.join()\n",
    "    process_2.join()\n",
    "    \n",
    "    print(\"Ending...\")\n",
    "    "
   ]
  },
  {
   "cell_type": "markdown",
   "metadata": {},
   "source": [
    "#### 查看进程的pid与ppid\n",
    "\n",
    "使用`pid`和`ppid`可以分别查看子进程和父进程的进程ID。"
   ]
  },
  {
   "cell_type": "code",
   "execution_count": 2,
   "metadata": {},
   "outputs": [
    {
     "name": "stdout",
     "output_type": "stream",
     "text": [
      "主 18179 17043\n"
     ]
    }
   ],
   "source": [
    "import multiprocessing as mp\n",
    "import time,os\n",
    "from func import task\n",
    "\n",
    "# def task():\n",
    "#     print(\"%s is running,parent id is <%s>\"%(os.getpid(),os.getppid()))\n",
    "#     time.sleep(2)\n",
    "#     print(\"ts is done,parent id is <%s>\"%(os.getpid(),os.getppid()))\n",
    "\n",
    "if __name__=='__main__':\n",
    "    p=mp.Process(target=task)\n",
    "    p.start()\n",
    "    \n",
    "    print(\"主\",os.getpid(),os.getppid())"
   ]
  },
  {
   "cell_type": "markdown",
   "metadata": {},
   "source": [
    "#### 进程之间的内存空间是隔离的\n",
    "\n",
    "**与线程不同，进程没有任何共享状态，进程修改的数据，改动仅限于该进程内。**"
   ]
  },
  {
   "cell_type": "code",
   "execution_count": 8,
   "metadata": {},
   "outputs": [],
   "source": [
    "from multiprocessing import process\n",
    "\n",
    "n=100\n",
    "\n",
    "def work():\n",
    "    global n\n",
    "    n=0\n",
    "    print(\"子进程内:\",n)  #打印:0\n",
    "\n",
    "if __name__=='__main__':\n",
    "    p=Process(target=work,)\n",
    "    p.start()\n",
    "    p.join()\n",
    "    print(\"主进程内:\",n) #打印100"
   ]
  },
  {
   "cell_type": "markdown",
   "metadata": {},
   "source": [
    "### 队列的使用 \n",
    "\n",
    "multiprocessing模块提供了IPC进程之间的通信，队列以及管道。\n",
    "\n",
    "Queue([maxsize]):创建共享的进程队列，Queue是多进程安全的队列，可以使用Queue实现多进程之间的数据传递。\n",
    "\n",
    "maxsize是队列中允许最大项数，可以放置任意类型的数据，省略则无大小限制。\n",
    "\n",
    "主要方法:\n",
    "\n",
    "　　* `q.put()`方法用以插入数据到队列中。数据不宜过大。\n",
    "\n",
    "　　* `q.get()`方法可以从队列读取并且删除一个元素。"
   ]
  },
  {
   "cell_type": "code",
   "execution_count": 3,
   "metadata": {},
   "outputs": [
    {
     "name": "stdout",
     "output_type": "stream",
     "text": [
      "True\n",
      "1\n",
      "2\n",
      "3\n",
      "True\n"
     ]
    }
   ],
   "source": [
    "from multiprocessing import Process,Queue\n",
    " \n",
    "q=Queue(3)\n",
    " \n",
    "#put ,get ,put_nowait,get_nowait,full,empty\n",
    "q.put(1)\n",
    "q.put(2)\n",
    "q.put(3)\n",
    "print(q.full())  # 判断是否满了\n",
    "# q.put(4) #再放就阻塞住了\n",
    " \n",
    "print(q.get())\n",
    "print(q.get())\n",
    "print(q.get())\n",
    "print(q.empty())  # 判断是否空了\n",
    "# print(q.get()) #再取就阻塞住了"
   ]
  },
  {
   "cell_type": "code",
   "execution_count": null,
   "metadata": {},
   "outputs": [],
   "source": [
    "#使用队列实现生产者消费者模型\n",
    "from multiprocessing import Process, Queue\n",
    "import time\n",
    " \n",
    "def producer(q, name):\n",
    "    for i in range(3):\n",
    "        res = '包子%s' % i\n",
    "        time.sleep(0.5)\n",
    "        print('%s 生产了%s' % (name, res))\n",
    " \n",
    "        q.put(res)\n",
    " \n",
    "def consumer(q, name):\n",
    "    while True:\n",
    "        res = q.get()\n",
    "        if res is None: break\n",
    "        time.sleep(1)\n",
    "        print('%s 吃了%s' % (name, res))\n",
    " \n",
    " \n",
    "if __name__ == '__main__':\n",
    "    # 容器\n",
    "    q = Queue()\n",
    " \n",
    "    # 生产者们\n",
    "    p1 = Process(target=producer, args=(q, '生产者1'))\n",
    "    p2 = Process(target=producer, args=(q, '生产者2'))\n",
    "    p3 = Process(target=producer, args=(q, '生产者3'))\n",
    " \n",
    "    # 消费者们\n",
    "    c1 = Process(target=consumer, args=(q, '消费者1'))\n",
    "    c2 = Process(target=consumer, args=(q, '消费者2'))\n",
    " \n",
    "    p1.start()\n",
    "    p2.start()\n",
    "    p3.start()\n",
    "    c1.start()\n",
    "    c2.start()\n",
    " \n",
    "    p1.join()\n",
    "    p2.join()\n",
    "    p3.join()\n",
    "    q.put(None)\n",
    "    q.put(None)\n",
    "    print('主')"
   ]
  },
  {
   "cell_type": "markdown",
   "metadata": {},
   "source": [
    "### 共享内存\n",
    "\n",
    "共享内存也可以实现进程间的通信。定义共享内存中的数据可以被不同进程读取和修改。\n",
    "\n",
    "| Type code | C Type             | Python Type       | Minimum size in bytes |\n",
    "| --------- | ------------------ | ----------------- | --------------------- |\n",
    "| `'b'`     | signed char        | int               | 1                     |\n",
    "| `'B'`     | unsigned char      | int               | 1                     |\n",
    "| `'u'`     | Py_UNICODE         | Unicode character | 2                     |\n",
    "| `'h'`     | signed short       | int               | 2                     |\n",
    "| `'H'`     | unsigned short     | int               | 2                     |\n",
    "| `'i'`     | signed int         | int               | 2                     |\n",
    "| `'I'`     | unsigned int       | int               | 2                     |\n",
    "| `'l'`     | signed long        | int               | 4                     |\n",
    "| `'L'`     | unsigned long      | int               | 4                     |\n",
    "| `'q'`     | signed long long   | int               | 8                     |\n",
    "| `'Q'`     | unsigned long long | int               | 8                     |\n",
    "| `'f'`     | float              | float             | 4                     |\n",
    "| `'d'`     | double             | float             | 8                     |"
   ]
  },
  {
   "cell_type": "code",
   "execution_count": 4,
   "metadata": {},
   "outputs": [],
   "source": [
    "import multiprocessing as mp\n",
    "\n",
    "#通过使用Value将数据存储在一个共享的内存表中\n",
    "#其中d和i参数用来设置数据类型\n",
    "#d表示一个双精度浮点类型,i表示一个带符号的整型\n",
    "value1=mp.Value('i',0)\n",
    "value2=mp.Value('d',3.14)\n",
    "\n",
    "#这里的Array只能是一维的，不能是多维的，且需要定义数据形式\n",
    "array=mp.Array('i',[1,2,3,4])"
   ]
  },
  {
   "cell_type": "markdown",
   "metadata": {},
   "source": [
    "### 进程池Pool\n",
    "\n",
    "进程池就是我们将所有运行的东西，放到池子里，python会自行解决多进程的问题。\n",
    "\n",
    "1. pool默认调动是CPU的核数,Pool调用的函数有返回值，而Process调用的函数则没有返回值\n",
    "2. 对Pool对象调用join()方法会等待所有子进程执行完毕，调用join()之前必须先调用close(),调用cloes()之后就不能继续添加新的Process\n",
    "3. map(func,seq)放入迭代参数，返回多个结果\n",
    "4. apply_async(func,parm)只能执行一次"
   ]
  },
  {
   "cell_type": "code",
   "execution_count": 6,
   "metadata": {},
   "outputs": [
    {
     "name": "stdout",
     "output_type": "stream",
     "text": [
      "Parent process 1863.\n",
      "Run task 1 (2098)...\n",
      "Run task 0 (2097)...\n",
      "Run task 3 (2100)...\n",
      "Run task 2 (2099)...\n",
      "Waiting for all subprocess done...\n",
      "Task 3 runs 0.29 seconds.\n",
      "Run task 4 (2100)...\n",
      "Task 2 runs 1.75 seconds.\n",
      "Task 0 runs 2.59 seconds.\n",
      "Task 1 runs 2.72 seconds.\n",
      "Task 4 runs 2.93 seconds.\n",
      "All subprocess done.\n"
     ]
    }
   ],
   "source": [
    "from multiprocessing import Pool\n",
    "import os,time,random\n",
    "\n",
    "def long_time_test(name):\n",
    "    print('Run task %s (%s)...'%(name,os.getpid()))\n",
    "    start=time.time()\n",
    "    time.sleep(random.random()*3)\n",
    "    end=time.time()\n",
    "    print('Task %s runs %0.2f seconds.'%(name,(end-start)))\n",
    "\n",
    "if __name__=='__main__':\n",
    "    print('Parent process %s.'%os.getpid())\n",
    "    p=Pool(4)\n",
    "    for i in range(5):\n",
    "        p.apply_async(long_time_test,args=(i,))\n",
    "    print('Waiting for all subprocess done...')\n",
    "    p.close()\n",
    "    p.join()\n",
    "    print('All subprocess done.')"
   ]
  },
  {
   "cell_type": "markdown",
   "metadata": {},
   "source": [
    "### 进程锁Lock"
   ]
  },
  {
   "cell_type": "code",
   "execution_count": 14,
   "metadata": {},
   "outputs": [
    {
     "name": "stdout",
     "output_type": "stream",
     "text": [
      "curr process 2749 1\n",
      "curr process 2749 2\n",
      "curr process 2750 5\n",
      "curr process 2749 6\n",
      "curr process 2749 7\n",
      "curr process 2749 8\n",
      "curr process 2750 11\n",
      "curr process 2750 14\n",
      "curr process 2750 17\n",
      "curr process 2750 20\n"
     ]
    }
   ],
   "source": [
    "#不加进程锁，两个进程争夺共享内存v\n",
    "import multiprocessing as mp\n",
    "import time,os\n",
    "\n",
    "def job(v,num):\n",
    "    for _ in range(5):\n",
    "        time.sleep(num)\n",
    "        v.value+=num   #v.value获取共享变量值\n",
    "        print('curr process',os.getpid(),v.value)\n",
    "\n",
    "def multicore():\n",
    "    v=mp.Value('i',0)\n",
    "    p1=mp.Process(target=job,args=(v,1))\n",
    "    p2=mp.Process(target=job,args=(v,3))\n",
    "    p1.start()\n",
    "    p2.start()\n",
    "    p1.join()\n",
    "    p2.join()\n",
    "\n",
    "if __name__=='__main__':\n",
    "    multicore()"
   ]
  },
  {
   "cell_type": "code",
   "execution_count": 17,
   "metadata": {},
   "outputs": [
    {
     "name": "stdout",
     "output_type": "stream",
     "text": [
      "3\n",
      "6\n",
      "9\n",
      "12\n",
      "15\n",
      "16\n",
      "17\n",
      "18\n",
      "19\n",
      "20\n"
     ]
    }
   ],
   "source": [
    "#使用进程锁，保证运行时一个进程对锁内内容的独占\n",
    "#使用l.acquire()加锁,l.release()释放锁\n",
    "import multiprocessing as mp\n",
    "import time\n",
    "\n",
    "def job(v,num,l):\n",
    "    l.acquire()\n",
    "    for _ in range(5):\n",
    "        time.sleep(num)\n",
    "        v.value+=num\n",
    "        print(v.value)\n",
    "    l.release()\n",
    "\n",
    "def multicore():\n",
    "    l=mp.Lock()\n",
    "    v=mp.Value('i',0)\n",
    "    p1=mp.Process(target=job,args=(v,3,l))\n",
    "    p2=mp.Process(target=job,args=(v,1,l))\n",
    "    p1.start()\n",
    "    p2.start()\n",
    "    p1.join()\n",
    "    p2.join()\n",
    "\n",
    "if __name__=='__main__':\n",
    "    multicore()"
   ]
  },
  {
   "cell_type": "markdown",
   "metadata": {},
   "source": [
    "#### 后话\n",
    "\n",
    "##### 多线程与多进程的区别\n",
    "\n",
    "1. 开启速度\n",
    "    * 线程的创建开销极小\n",
    "    * 创建进程，操作系统要申请内存空间，拷贝父进程地址空间到子进程，开销远大于线程\n",
    "2. pid的不同\n",
    "    * 在主进程下开启多个线程,每个线程都跟主进程的pid一样\n",
    "    * 开多个进程,每个进程都有不同的pid\n",
    "    * 同一进程内的多个线程共享该进程的地址空间，父进程与子进程不共享地址空间, 进程之间的地址空间是隔离的\n",
    "\n",
    "3. 多线程适用于IO密集型任务，多进程适用于计算密集型任务。\n",
    "\n",
    "##### 应用：\n",
    "\n",
    "* 多线程用于IO密集型，如socket，爬虫，web\n",
    "* 多进程用于计算密集型，如金融分析"
   ]
  }
 ],
 "metadata": {
  "kernelspec": {
   "display_name": "Python 3",
   "language": "python",
   "name": "python3"
  },
  "language_info": {
   "codemirror_mode": {
    "name": "ipython",
    "version": 3
   },
   "file_extension": ".py",
   "mimetype": "text/x-python",
   "name": "python",
   "nbconvert_exporter": "python",
   "pygments_lexer": "ipython3",
   "version": "3.8.3"
  }
 },
 "nbformat": 4,
 "nbformat_minor": 2
}
