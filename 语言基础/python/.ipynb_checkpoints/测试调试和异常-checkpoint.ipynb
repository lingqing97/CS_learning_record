{
 "cells": [
  {
   "cell_type": "markdown",
   "metadata": {},
   "source": [
    "### 异常处理\n",
    "\n",
    "```python\n",
    "try:\n",
    "    <语句>  #运行别的代码\n",
    "except (Exception1[, Exception2[,...ExceptionN]]]):\n",
    "    #发生任何一个异常执行该代码\n",
    "    <语句>  #发生异常执行代码\n",
    "else:\n",
    "    <语句>  #未发生异常执行代码\n",
    "finally:\n",
    "    <语句>  #无论是否发生异常都执行代码\n",
    "```\n",
    "\n",
    "```python\n",
    "raise [Exception [, args [, traceback]]]  #触发异常\n",
    "```\n",
    "\n",
    "```python\n",
    "#自定义异常类\n",
    "#需要继承异常类\n",
    "\n",
    "class Networkerror(RuntimeError):\n",
    "    def __init__(self, arg):\n",
    "        self.args = arg\n",
    "        \n",
    "try:\n",
    "    raise Networkerror(\"Bad hostname\")\n",
    "except Networkerror,e:\n",
    "    print e.args\n",
    "    raise  #往上级抛\n",
    "```"
   ]
  }
 ],
 "metadata": {
  "kernelspec": {
   "display_name": "Python 3",
   "language": "python",
   "name": "python3"
  },
  "language_info": {
   "codemirror_mode": {
    "name": "ipython",
    "version": 3
   },
   "file_extension": ".py",
   "mimetype": "text/x-python",
   "name": "python",
   "nbconvert_exporter": "python",
   "pygments_lexer": "ipython3",
   "version": "3.8.3"
  }
 },
 "nbformat": 4,
 "nbformat_minor": 4
}
