{
 "cells": [
  {
   "cell_type": "code",
   "execution_count": 1,
   "metadata": {},
   "outputs": [
    {
     "name": "stdout",
     "output_type": "stream",
     "text": [
      "1.2\n",
      "1.3\n",
      "-1.3\n"
     ]
    }
   ],
   "source": [
    "# 对浮点数执行指定精度的舍入运算\n",
    "# round()\n",
    "    \n",
    "print(round(1.23,1))\n",
    "\n",
    "print(round(1.27,1))\n",
    "\n",
    "print(round(-1.27,1))\n",
    "\n",
    "# 当一个值刚好在两个边界的中间的时候，round函数返回离它最近的偶数，对1.5或者2.5的舍入运算都会得到2\n"
   ]
  },
  {
   "cell_type": "code",
   "execution_count": 2,
   "metadata": {},
   "outputs": [
    {
     "name": "stdout",
     "output_type": "stream",
     "text": [
      "1234.57\n",
      "    1234.6\n",
      "    1234.6\n",
      "  1234.6  \n"
     ]
    }
   ],
   "source": [
    "#格式化输出单个数字\n",
    "\n",
    "x=1234.56789\n",
    "\n",
    "#四舍五入的规则和round()一样\n",
    "print(format(x,'0.2f'))\n",
    "\n",
    "#右移10个字符\n",
    "print(format(x,'>10.1f'))\n",
    "\n",
    "#左移\n",
    "print(format(x,'>10.1f'))\n",
    "\n",
    "#Centered\n",
    "print(format(x,'^10.1f'))"
   ]
  },
  {
   "cell_type": "code",
   "execution_count": 6,
   "metadata": {},
   "outputs": [
    {
     "name": "stdout",
     "output_type": "stream",
     "text": [
      "inf\n",
      "-inf\n",
      "nan\n",
      "inf\n",
      "inf\n",
      "nan\n",
      "nan\n",
      "nan\n",
      "False\n",
      "True\n"
     ]
    }
   ],
   "source": [
    "#无穷大、负无穷、NaN(非数字)\n",
    "\n",
    "a=float('inf')\n",
    "b=float('-inf')\n",
    "c=float('nan')\n",
    "\n",
    "print(a)\n",
    "print(b)\n",
    "print(c)\n",
    "\n",
    "#无穷大数在执行数学计算时会传播\n",
    "a=float('inf')\n",
    "print(a+45)\n",
    "print(a*10)\n",
    "\n",
    "#NaN值会在所有操作中传播，而不会产生异常\n",
    "c=float('nan')\n",
    "print(c+23)\n",
    "print(c/2)\n",
    "print(c*2)\n",
    "\n",
    "#两个Nan值的比较操作总是返回False\n",
    "print(float('nan')==float('nan'))\n",
    "#要比较是否为NaN可以使用math.isnan()\n",
    "import math\n",
    "print(math.isnan(float('nan')))"
   ]
  },
  {
   "cell_type": "code",
   "execution_count": 13,
   "metadata": {},
   "outputs": [
    {
     "name": "stdout",
     "output_type": "stream",
     "text": [
      "1\n",
      "5\n",
      "2\n",
      "[4, 5]\n",
      "[1, 3, 5, 4, 6, 2]\n",
      "2\n",
      "0.1846089482482196\n"
     ]
    }
   ],
   "source": [
    "#随机选择\n",
    "#random模块\n",
    "\n",
    "import random\n",
    "\n",
    "#修改初始化种子,若设定为具体值则每次运算结果都一样\n",
    "#random.seed()默认初始化种子随系统变化\n",
    "random.seed(1000)\n",
    "\n",
    "values=[1,2,3,4,5,6]\n",
    "#随机抽取一个元素\n",
    "print(random.choice(values))\n",
    "print(random.choice(values))\n",
    "print(random.choice(values))\n",
    "\n",
    "#随机提取N个不同元素的样本\n",
    "print(random.sample(values,2))\n",
    "\n",
    "#打乱序列中元素的顺序\n",
    "#in-place\n",
    "random.shuffle(values)\n",
    "print(values)\n",
    "\n",
    "#生成随机整数\n",
    "print(random.randint(0,10))\n",
    "\n",
    "#生成0~1之间均匀分布的浮点数\n",
    "print(random.random())\n"
   ]
  }
 ],
 "metadata": {
  "kernelspec": {
   "display_name": "Python 3",
   "language": "python",
   "name": "python3"
  },
  "language_info": {
   "codemirror_mode": {
    "name": "ipython",
    "version": 3
   },
   "file_extension": ".py",
   "mimetype": "text/x-python",
   "name": "python",
   "nbconvert_exporter": "python",
   "pygments_lexer": "ipython3",
   "version": "3.8.3"
  }
 },
 "nbformat": 4,
 "nbformat_minor": 4
}
