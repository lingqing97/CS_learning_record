{
 "cells": [
  {
   "cell_type": "code",
   "execution_count": 9,
   "metadata": {},
   "outputs": [
    {
     "name": "stdout",
     "output_type": "stream",
     "text": [
      "H\n",
      "e\n",
      "l\n",
      "50\n",
      "91.1\n",
      "[10, 8, 7, 1, 9, 5, 10]\n",
      "3\n",
      "ACME\n",
      "2012\n"
     ]
    }
   ],
   "source": [
    "#分割序列\n",
    "s='Hello'\n",
    "a,b,c,d,e=s\n",
    "print(a)\n",
    "print(b)\n",
    "print(c)\n",
    "\n",
    "#使用`_`丢弃不需要的变量\n",
    "data =['ACME',50,91.1,(2012,12,21)]\n",
    "_,shares,price,_=data\n",
    "print(shares)\n",
    "print(price)\n",
    "\n",
    "#通过`*`将多个值赋给一个变量\n",
    "#通过这种方式获取到的始终是列表类型\n",
    "*trailing,current=[10,8,7,1,9,5,10,3]\n",
    "print(trailing)\n",
    "print(current)\n",
    "\n",
    "#使用`*_`或`ign`丢弃多个不需要的值\n",
    "record=('ACME',50,123.45,(12,18,2012))\n",
    "name,*_,(*_,year)=record\n",
    "# name,*ign,(*ign,year)=record\n",
    "print(name)\n",
    "print(year)"
   ]
  },
  {
   "cell_type": "code",
   "execution_count": 13,
   "metadata": {},
   "outputs": [
    {
     "name": "stdout",
     "output_type": "stream",
     "text": [
      "deque([1, 2, 3], maxlen=3)\n",
      "deque([2, 3, 4], maxlen=3)\n",
      "deque([3, 4, 5], maxlen=3)\n",
      "deque([1, 2, 3])\n",
      "deque([4, 1, 2, 3])\n",
      "deque([4, 1, 2])\n",
      "deque([1, 2])\n"
     ]
    }
   ],
   "source": [
    "#collections.deque\n",
    "\n",
    "from collections import deque\n",
    "\n",
    "#当队列已满时，最老的元素会自动被移除掉\n",
    "q=deque(maxlen=3)\n",
    "q.append(1)\n",
    "q.append(2)\n",
    "q.append(3)\n",
    "print(q)\n",
    "q.append(4)\n",
    "print(q)\n",
    "q.append(5)\n",
    "print(q)\n",
    "\n",
    "#在队列的两端添加和弹出元素\n",
    "#不设置最大队列大小则会得到一个无限大的队列\n",
    "q=deque()\n",
    "q.append(1)\n",
    "q.append(2)\n",
    "q.append(3)\n",
    "print(q)\n",
    "q.appendleft(4)\n",
    "print(q)\n",
    "q.pop()\n",
    "print(q)\n",
    "q.popleft()\n",
    "print(q)"
   ]
  },
  {
   "cell_type": "code",
   "execution_count": 1,
   "metadata": {},
   "outputs": [
    {
     "name": "stdout",
     "output_type": "stream",
     "text": [
      "[42, 37, 23]\n",
      "[-4, 1, 2]\n",
      "[{'name': 'FB', 'shares': 200, 'price': 21.09}, {'name': 'AAPL', 'shares': 50, 'price': 34.1}]\n",
      "[{'name': 'IBM', 'shares': 100, 'price': 91.1}, {'name': 'AAPL', 'shares': 50, 'price': 34.1}]\n",
      "[2, 3, 5, 4, 6, 8]\n",
      "[3, 4, 5, 8, 6]\n",
      "[4, 6, 5, 8]\n",
      "[4, 6, 5, 8, 10]\n"
     ]
    }
   ],
   "source": [
    "#heapq\n",
    "\n",
    "import heapq\n",
    "\n",
    "#获取最大/最小的N个元素\n",
    "nums=[1,8,2,23,7,-4,18,23,42,37,2]\n",
    "print(heapq.nlargest(3,nums))\n",
    "print(heapq.nsmallest(3,nums))\n",
    "\n",
    "#指定按哪个元素排序\n",
    "portfolio=[\n",
    "    {'name':'IBM','shares':100,'price':91.1},\n",
    "    {'name':'AAPL','shares':50,'price':34.1},\n",
    "    {'name':'FB','shares':200,'price':21.09}\n",
    "]\n",
    "cheap=heapq.nsmallest(2,portfolio,key=lambda s:s['price'])\n",
    "expensive=heapq.nlargest(2,portfolio,key=lambda s:s['price'])\n",
    "print(cheap)\n",
    "print(expensive)\n",
    "\n",
    "#将列表初始化为heap\n",
    "heap=[3,2,5,4,6,8]\n",
    "#in-place\n",
    "heapq.heapify(heap)\n",
    "print(heap)\n",
    "heapq.heappop(heap)\n",
    "print(heap)\n",
    "heapq.heappop(heap)\n",
    "print(heap)\n",
    "heapq.heappush(heap,10)\n",
    "print(heap)"
   ]
  },
  {
   "cell_type": "code",
   "execution_count": 6,
   "metadata": {},
   "outputs": [
    {
     "name": "stdout",
     "output_type": "stream",
     "text": [
      "Item(002)\n",
      "Item(001)\n",
      "Item(003)\n"
     ]
    }
   ],
   "source": [
    "#通过heapq实现优先队列\n",
    "import heapq\n",
    "\n",
    "class PriorityQueue():\n",
    "    def __init__(self):\n",
    "        self._queue=[]\n",
    "        self._index=0\n",
    "        heapq.heapify(self._queue)\n",
    "    def push(self,item,priority):\n",
    "        #heapq从小到大排序\n",
    "        heapq.heappush(self._queue,(-priority,self._index,item))\n",
    "        self._index=self._index+1\n",
    "    def pop(self):\n",
    "        return heapq.heappop(self._queue)[-1]\n",
    "\n",
    "class Item():\n",
    "    def __init__(self,name):\n",
    "        self._name=name\n",
    "    def __repr__(self):\n",
    "        return \"Item({})\".format(self._name)\n",
    "    \n",
    "q=PriorityQueue()\n",
    "#相同优先级按照插入顺序输出\n",
    "q.push(Item('001'),1)\n",
    "q.push(Item('002'),4)\n",
    "q.push(Item('003'),1)\n",
    "print(q.pop())\n",
    "print(q.pop())\n",
    "print(q.pop())"
   ]
  },
  {
   "cell_type": "code",
   "execution_count": 11,
   "metadata": {},
   "outputs": [
    {
     "name": "stdout",
     "output_type": "stream",
     "text": [
      "defaultdict(<class 'list'>, {'a': [1, 2, 4]})\n",
      "defaultdict(<class 'set'>, {'a': {1, 2}})\n"
     ]
    }
   ],
   "source": [
    "#collections.defaultdict\n",
    "\n",
    "from collections import defaultdict\n",
    "\n",
    "#defaultdict是一个键对应多个值的字典\n",
    "#Using list as the default_factory\n",
    "d=defaultdict(list)\n",
    "\n",
    "d['a'].append(1)\n",
    "d['a'].append(2)\n",
    "d['a'].append(4)\n",
    "print(d)\n",
    "\n",
    "#Using set as the default_factory\n",
    "d=defaultdict(set)\n",
    "d['a'].add(1)\n",
    "d['a'].add(2)\n",
    "d['a'].add(2)\n",
    "print(d)"
   ]
  },
  {
   "cell_type": "code",
   "execution_count": 13,
   "metadata": {},
   "outputs": [
    {
     "name": "stdout",
     "output_type": "stream",
     "text": [
      "foo 3\n",
      "bar 2\n",
      "spam 3\n",
      "grok 4\n"
     ]
    }
   ],
   "source": [
    "#collections.OrderedDict\n",
    "\n",
    "from collections import OrderedDict\n",
    "\n",
    "#OrderedDict在迭代操作的时候它会保持元素被插入时的顺序\n",
    "d=OrderedDict()\n",
    "d['foo']=1\n",
    "d['bar']=2\n",
    "d['spam']=3\n",
    "d['grok']=4\n",
    "#已经存在的键重复赋值不会改变键的顺序\n",
    "d['foo']=3\n",
    "for key in d:\n",
    "    print(key,d[key])\n",
    "    \n",
    "#！！！OrderedDict内部维护着一个根据键插入顺序的双向链表，所以它的大小是普通字典的两倍"
   ]
  },
  {
   "cell_type": "code",
   "execution_count": 23,
   "metadata": {},
   "outputs": [
    {
     "name": "stdout",
     "output_type": "stream",
     "text": [
      "(10.75, 'FB')\n",
      "(612.78, 'AAPL')\n",
      "[(10.75, 'FB'), (37.2, 'HPQ'), (45.23, 'ACME'), (205.55, 'IBM'), (612.78, 'AAPL')]\n",
      "对字典求交、差:\n",
      "{'x', 'y'}\n",
      "{'z'}\n",
      "{('y', 2)}\n",
      "{'x': 1, 'y': 2}\n"
     ]
    }
   ],
   "source": [
    "#对字典求最大值、最小值、排序\n",
    "prices={\n",
    "    'ACME':45.23,\n",
    "    'AAPL':612.78,\n",
    "    'IBM':205.55,\n",
    "    'HPQ':37.20,\n",
    "    'FB':10.75\n",
    "}\n",
    "min_price=min(zip(prices.values(),prices.keys()))\n",
    "max_price=max(zip(prices.values(),prices.keys()))\n",
    "print(min_price)\n",
    "print(max_price)\n",
    "prices_sorted=sorted(zip(prices.values(),prices.keys()))\n",
    "print(prices_sorted)\n",
    "\n",
    "\n",
    "#对字典求交、差\n",
    "print(\"对字典求交、差:\")\n",
    "a={\n",
    "    'x':1,\n",
    "    'y':2,\n",
    "    'z':3\n",
    "}\n",
    "b={\n",
    "    'w':10,\n",
    "    'x':11,\n",
    "    'y':2\n",
    "}\n",
    "#Find keys in common\n",
    "print(a.keys() & b.keys())\n",
    "#Find keys in a that are not in b\n",
    "print(a.keys()-b.keys())\n",
    "#Find (key,value) pairs in common\n",
    "print(a.items() & b.items())\n",
    "#Make a new dictionary\n",
    "c={key:a[key] for key in a.keys()-{'z','w'}}\n",
    "print(c)"
   ]
  },
  {
   "cell_type": "code",
   "execution_count": 25,
   "metadata": {},
   "outputs": [
    {
     "name": "stdout",
     "output_type": "stream",
     "text": [
      "[{'x': 1, 'y': 2}, {'x': 1, 'y': 3}, {'x': 2, 'y': 4}]\n",
      "[{'x': 1, 'y': 2}, {'x': 2, 'y': 4}]\n"
     ]
    }
   ],
   "source": [
    "#在一个序列上保持元素顺序的同时消除重复的值\n",
    "def dedupe(items):\n",
    "    seen=set()\n",
    "    for item in items:\n",
    "        if item not in seen:\n",
    "            yield item\n",
    "            seen.add(item)\n",
    "            \n",
    "a=[1,5,2,1,9,1,5,10]\n",
    "list(dedupe(a))\n",
    "#加强版\n",
    "def dedupe(items,key=None):\n",
    "    seen=set()\n",
    "    for item in items:\n",
    "        #将不可哈希序列转为hashable类型\n",
    "        val=item if key is None else key(item)\n",
    "        if val not in seen:\n",
    "            yield item\n",
    "            seen.add(val)\n",
    "a=[{'x':1,'y':2},{'x':1,'y':3},{'x':1,'y':2},{'x':2,'y':4}]\n",
    "print(list(dedupe(a,key=lambda d:(d['x'],d['y']))))\n",
    "print(list(dedupe(a,key=lambda d:d['x'])))"
   ]
  },
  {
   "cell_type": "code",
   "execution_count": 26,
   "metadata": {},
   "outputs": [
    {
     "name": "stdout",
     "output_type": "stream",
     "text": [
      "[2, 3]\n",
      "[2, 3]\n",
      "2\n",
      "4\n",
      "None\n"
     ]
    }
   ],
   "source": [
    "#切片对象\n",
    "items=[0,1,2,3,4,5,6]\n",
    "a=slice(2,4)# 相当于切片2:4\n",
    "print(items[2:4])\n",
    "print(items[a])\n",
    "print(a.start)\n",
    "print(a.stop)\n",
    "print(a.step)"
   ]
  },
  {
   "cell_type": "code",
   "execution_count": 4,
   "metadata": {},
   "outputs": [
    {
     "name": "stdout",
     "output_type": "stream",
     "text": [
      "[('eyes', 8), ('the', 5), ('look', 4)]\n",
      "1\n",
      "8\n",
      "Counter与数学运算操作相结合\n",
      "Counter({'eyes': 9, 'the': 5, 'look': 4, 'my': 4, 'into': 3, 'not': 2, 'around': 2, \"don't\": 1, \"you're\": 1, 'under': 1, 'why': 1, 'are': 1, 'you': 1, 'looking': 1, 'in': 1})\n",
      "Counter({'eyes': 7, 'the': 5, 'look': 4, 'into': 3, 'my': 2, 'around': 2, \"don't\": 1, \"you're\": 1, 'under': 1})\n"
     ]
    }
   ],
   "source": [
    "#collections.Counter 计数类\n",
    "from collections import Counter\n",
    "\n",
    "words = [\n",
    "    'look', 'into', 'my', 'eyes', 'look', 'into', 'my', 'eyes',\n",
    "    'the', 'eyes', 'the', 'eyes', 'the', 'eyes', 'not', 'around', 'the',\n",
    "    'eyes', \"don't\", 'look', 'around', 'the', 'eyes', 'look', 'into',\n",
    "    'my', 'eyes', \"you're\", 'under'\n",
    "]\n",
    "word_counts=Counter(words)\n",
    "#统计出现频率最高的3个单词\n",
    "print(word_counts.most_common(3))\n",
    "#Counter对象就是一个字典，将元素映射到它出现的次数上\n",
    "print(word_counts['not'])\n",
    "print(word_counts['eyes'])\n",
    "#Counter与数学运算操作相结合\n",
    "print(\"Counter与数学运算操作相结合\")\n",
    "morewords=['why','are','you','not','looking','in','my','eyes']\n",
    "a=Counter(words)\n",
    "b=Counter(morewords)\n",
    "print(a+b)\n",
    "print(a-b)"
   ]
  },
  {
   "cell_type": "code",
   "execution_count": 5,
   "metadata": {},
   "outputs": [
    {
     "name": "stdout",
     "output_type": "stream",
     "text": [
      "[{'fname': 'Big', 'lname': 'Jones', 'uid': 1004}, {'fname': 'Brian', 'lname': 'Jones', 'uid': 1003}, {'fname': 'David', 'lname': 'Beazley', 'uid': 1002}, {'fname': 'John', 'lname': 'Cleese', 'uid': 1001}]\n",
      "[{'fname': 'John', 'lname': 'Cleese', 'uid': 1001}, {'fname': 'David', 'lname': 'Beazley', 'uid': 1002}, {'fname': 'Brian', 'lname': 'Jones', 'uid': 1003}, {'fname': 'Big', 'lname': 'Jones', 'uid': 1004}]\n"
     ]
    }
   ],
   "source": [
    "#operator.itemgetter对内置类型排序\n",
    "from operator import itemgetter\n",
    "rows = [\n",
    "    {'fname': 'Brian', 'lname': 'Jones', 'uid': 1003},\n",
    "    {'fname': 'David', 'lname': 'Beazley', 'uid': 1002},\n",
    "    {'fname': 'John', 'lname': 'Cleese', 'uid': 1001},\n",
    "    {'fname': 'Big', 'lname': 'Jones', 'uid': 1004}\n",
    "]\n",
    "#也可以写成lambda形式,但lambda速度没这么快,sorted(rows,key=lambda r:r['fname'])\n",
    "rows_by_fname=sorted(rows,key=itemgetter('fname'))\n",
    "#sorted(rows,key=lambda r:r['uid'])\n",
    "rows_by_uid=sorted(rows,key=itemgetter('uid'))\n",
    "print(rows_by_fname)\n",
    "print(rows_by_uid)"
   ]
  },
  {
   "cell_type": "code",
   "execution_count": 13,
   "metadata": {},
   "outputs": [
    {
     "name": "stdout",
     "output_type": "stream",
     "text": [
      "[User(23), User(3), User(99)]\n",
      "[User(3), User(23), User(99)]\n"
     ]
    }
   ],
   "source": [
    "#operator.attrgetter对自定义类型排序\n",
    "from operator import attrgetter\n",
    "class User:\n",
    "    def __init__(self,user_id):\n",
    "        self.user_id=user_id\n",
    "    \n",
    "    def __repr__(self):\n",
    "        return \"User({})\".format(self.user_id)\n",
    "    \n",
    "users=[User(23),User(3),User(99)]\n",
    "print(users)\n",
    "# 使用lambda表达式速度没这么快，print(sorted(users,key=lambda u:u.user_id))\n",
    "print(sorted(users,key=attrgetter('user_id')))"
   ]
  },
  {
   "cell_type": "code",
   "execution_count": 2,
   "metadata": {},
   "outputs": [
    {
     "name": "stdout",
     "output_type": "stream",
     "text": [
      "{'address': '5412 N CLARK', 'date': '07/01/2012'}\n",
      "{'address': '5148 N CLARK', 'date': '07/04/2012'}\n",
      "{'address': '5800 E 58TH', 'date': '07/02/2012'}\n",
      "{'address': '2122 N CLARK', 'date': '07/03/2012'}\n",
      "{'address': '5645 N RAVENSWOOD', 'date': '07/02/2012'}\n",
      "{'address': '1060 W ADDISON', 'date': '07/02/2012'}\n",
      "{'address': '4801 N BROADWAY', 'date': '07/01/2012'}\n",
      "{'address': '1039 W GRANVILLE', 'date': '07/04/2012'}\n",
      "{'address': '5412 N CLARK', 'date': '07/01/2012'}\n",
      "{'address': '4801 N BROADWAY', 'date': '07/01/2012'}\n"
     ]
    }
   ],
   "source": [
    "#按给定的字段进行分组\n",
    "from operator import itemgetter\n",
    "from itertools import groupby\n",
    "\n",
    "rows = [\n",
    "    {'address': '5412 N CLARK', 'date': '07/01/2012'},\n",
    "    {'address': '5148 N CLARK', 'date': '07/04/2012'},\n",
    "    {'address': '5800 E 58TH', 'date': '07/02/2012'},\n",
    "    {'address': '2122 N CLARK', 'date': '07/03/2012'},\n",
    "    {'address': '5645 N RAVENSWOOD', 'date': '07/02/2012'},\n",
    "    {'address': '1060 W ADDISON', 'date': '07/02/2012'},\n",
    "    {'address': '4801 N BROADWAY', 'date': '07/01/2012'},\n",
    "    {'address': '1039 W GRANVILLE', 'date': '07/04/2012'},\n",
    "]\n",
    "rows.sort(key=itemgetter('date'))\n",
    "for date,items in groupby(rows,key=itemgetter('date')):\n",
    "    print(date)\n",
    "    for item in items:\n",
    "        print(item)\n",
    "#也可以使用defaultdict实现,上面的方法一般较快，两种方法都常用\n",
    "# from collections import defaultdict\n",
    "# rows_by_date=defaultdict(list)\n",
    "# for row in rows:\n",
    "#     print(row)\n",
    "#     rows_by_date[row['date']].append(row)\n",
    "\n",
    "# for row in rows_by_date['07/01/2012']:\n",
    "#     print(row)"
   ]
  },
  {
   "cell_type": "code",
   "execution_count": 6,
   "metadata": {},
   "outputs": [
    {
     "name": "stdout",
     "output_type": "stream",
     "text": [
      "1\n",
      "4\n",
      "10\n",
      "2\n",
      "3\n",
      "['1', '2', '-3', '4', '5']\n"
     ]
    }
   ],
   "source": [
    "#过滤数据\n",
    "\n",
    "#方法一：使用列表推导。小数据常用\n",
    "mylist=[1,4,-5,10,-7,2,3,-1]\n",
    "[n for n in mylist if n>0]\n",
    "\n",
    "#方法二：使用生成器表达式迭代。节省内存\n",
    "pos=(n for n in mylist if n>0)\n",
    "for x in pos:\n",
    "    print(x)\n",
    "\n",
    "#方法三：使用filter()函数。过滤的时候需要处理一些异常或者其他复杂情况\n",
    "values=['1','2','-3','-','4','N/A','5']\n",
    "def is_int(val):\n",
    "    try:\n",
    "        x=int(val)\n",
    "        return True\n",
    "    except ValueError:\n",
    "        return False\n",
    "ivals=list(filter(is_int,values))\n",
    "print(ivals)"
   ]
  },
  {
   "cell_type": "code",
   "execution_count": 8,
   "metadata": {},
   "outputs": [
    {
     "name": "stdout",
     "output_type": "stream",
     "text": [
      "{'AAPL': 612.78, 'IBM': 205.55}\n"
     ]
    }
   ],
   "source": [
    "#构建字典的子集\n",
    "\n",
    "\n",
    "#使用字典推导生成一个字典的子集\n",
    "prices = {\n",
    "    'ACME': 45.23,\n",
    "    'AAPL': 612.78,\n",
    "    'IBM': 205.55,\n",
    "    'HPQ': 37.20,\n",
    "    'FB': 10.75\n",
    "}\n",
    "#速度较快，推荐使用\n",
    "p1={key:value for key,value in prices.items() if value>200}\n",
    "print(p1)"
   ]
  },
  {
   "cell_type": "code",
   "execution_count": 10,
   "metadata": {},
   "outputs": [
    {
     "name": "stdout",
     "output_type": "stream",
     "text": [
      "55\n"
     ]
    }
   ],
   "source": [
    "#转换并同时计算数据\n",
    "nums=[1,2,3,4,5]\n",
    "#显示的写法s=sum((x*x for x in nums))。可以看出实际上是使用了生成式迭代器\n",
    "s=sum(x*x for x in nums)\n",
    "print(s)"
   ]
  }
 ],
 "metadata": {
  "kernelspec": {
   "display_name": "Python 3",
   "language": "python",
   "name": "python3"
  },
  "language_info": {
   "codemirror_mode": {
    "name": "ipython",
    "version": 3
   },
   "file_extension": ".py",
   "mimetype": "text/x-python",
   "name": "python",
   "nbconvert_exporter": "python",
   "pygments_lexer": "ipython3",
   "version": "3.8.3"
  }
 },
 "nbformat": 4,
 "nbformat_minor": 4
}
