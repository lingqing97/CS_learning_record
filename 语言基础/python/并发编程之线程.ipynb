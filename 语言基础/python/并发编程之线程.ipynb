{
 "cells": [
  {
   "cell_type": "markdown",
   "metadata": {},
   "source": [
    "### 线程篇"
   ]
  },
  {
   "cell_type": "markdown",
   "metadata": {},
   "source": [
    "#### 线程的两种调用形式"
   ]
  },
  {
   "cell_type": "code",
   "execution_count": 5,
   "metadata": {},
   "outputs": [
    {
     "name": "stdout",
     "output_type": "stream",
     "text": [
      "I says:I'm thread_1\n",
      "I says:I'm thread_1\n",
      "T1\n",
      "T2\n"
     ]
    }
   ],
   "source": [
    "#直接调用\n",
    "\n",
    "import threading\n",
    "\n",
    "def say_hi(words):\n",
    "    print(\"I say:{}\".format(words))\n",
    "    \n",
    "#这里注意:args参数即使是一个参数也要加上后面的`,`\n",
    "#如果不对Thread进行命名这系统会默认命名\n",
    "thread_1=threading.Thread(target=say_hi,args=(\"I'm thread_1\",),name='T1')\n",
    "thread_2=threading.Thread(target=say_hi,args=(\"I'm thread_1\",),name='T2')\n",
    "\n",
    "#start()函数会调用Thread类的run()函数\n",
    "thread_1.start()\n",
    "thread_2.start()\n",
    "\n",
    "print(thread_1.getName())\n",
    "print(thread_2.getName())"
   ]
  },
  {
   "cell_type": "code",
   "execution_count": 8,
   "metadata": {},
   "outputs": [
    {
     "name": "stdout",
     "output_type": "stream",
     "text": [
      "running on number:1running on number:2\n",
      "\n",
      "\n",
      "ending....\n"
     ]
    }
   ],
   "source": [
    "#继承类\n",
    "import threading\n",
    "import time\n",
    "\n",
    "class MyThread(threading.Thread):\n",
    "    def __init__(self,num):\n",
    "        super().__init__()\n",
    "        self.num=num\n",
    "    #每个线程类都必须定义run()函数\n",
    "    def run(self):\n",
    "        print(\"running on number:{}\".format(self.num))\n",
    "        time.sleep(3)\n",
    "        \n",
    "t1=MyThread(1)\n",
    "t2=MyThread(2)\n",
    "\n",
    "t1.start()\n",
    "t2.start()\n",
    "\n",
    "print(\"\\nending....\")"
   ]
  },
  {
   "cell_type": "markdown",
   "metadata": {},
   "source": [
    "#### Thread类的方法\n",
    "\n",
    "* join()：在子线程完成运行之前，这个子线程的父线程将一直被阻塞。\n",
    "\n",
    "* setDaemon(True)：\n",
    "\n",
    "         将线程声明为守护线程，必须在start() 方法调用之前设置， 如果不设置为守护线程程序会被无限挂起。这个方法基本和join是相反的。当我们 在程序运行中，执行一个主线程，如果主线程又创建一个子线程，主线程和子线程 就分兵两路，分别运行，那么当主线程完成想退出时，会检验子线程是否完成。如 果子线程未完成，则主线程会等待子线程完成后再退出。但是有时候我们需要的是只要主线程完成了，不管子线程是否完成，都要和主线程一起退出，这时就可以用setDaemon方法啦。\n",
    "\n",
    "* run():  线程被cpu调度后自动执行线程对象的run方法\n",
    "* start():启动线程活动。\n",
    "* isAlive(): 返回线程是否活动的。\n",
    "* getName(): 返回线程名。\n",
    "* setName(): 设置线程名。\n",
    "\n",
    "threading模块提供的一些方法：\n",
    "* threading.currentThread(): 返回当前的线程变量。\n",
    "* threading.enumerate(): 返回一个包含正在运行的线程的list。正在运行指线程启动后、结束前，不包括启动前和终止后的线程。\n",
    "* threading.activeCount(): 返回正在运行的线程数量，与len(threading.enumerate())有相同的结果。"
   ]
  },
  {
   "cell_type": "markdown",
   "metadata": {},
   "source": [
    "####  同步锁 \n",
    "\n",
    "\n",
    "多个线程操作同一个数据，可能会发生数据错乱的问题，因为一个线程拿到数据后，还没来得及对数据进行操作，cpu就有可能去执行另外一个线程，另外一个线程拿到的则是之前线程没有处理完的数据。利用同步锁可以解决该问题。"
   ]
  },
  {
   "cell_type": "code",
   "execution_count": 12,
   "metadata": {},
   "outputs": [
    {
     "name": "stdout",
     "output_type": "stream",
     "text": [
      "19\n",
      "18\n",
      "17\n",
      "16\n",
      "15\n",
      "14\n",
      "13\n",
      "12\n",
      "11\n",
      "10\n",
      "9\n",
      "8\n",
      "7\n",
      "6\n",
      "5\n",
      "4\n",
      "3\n",
      "2\n",
      "1\n",
      "0\n"
     ]
    }
   ],
   "source": [
    "#同步锁实例\n",
    "\n",
    "import threading\n",
    "import time\n",
    "\n",
    "R=threading.Lock()\n",
    "\n",
    "num=20\n",
    "\n",
    "def sub():\n",
    "    global num\n",
    "    R.acquire()\n",
    "    temp=num-1\n",
    "    time.sleep(0.1)\n",
    "    num=temp\n",
    "    print(num)\n",
    "    R.release()\n",
    "\n",
    "thread_list=[]\n",
    "for i in range(20):\n",
    "    thread=threading.Thread(target=sub)\n",
    "    thread_list.append(thread)\n",
    "    thread.start()\n",
    "\n",
    "for thread in thread_list:\n",
    "    thread.join()\n"
   ]
  },
  {
   "cell_type": "markdown",
   "metadata": {},
   "source": [
    "#### 死锁\n",
    "\n",
    "所谓死锁： 是指两个或两个以上的进程或线程在执行过程中，因争夺资源而造成的一种互相等待的现象，若无外力作用，它们都将无法推进下去。此时称系统处于死锁状态或系统产生了死锁，这些永远在互相等待的进程称为死锁进程。"
   ]
  },
  {
   "cell_type": "code",
   "execution_count": 15,
   "metadata": {},
   "outputs": [
    {
     "name": "stdout",
     "output_type": "stream",
     "text": [
      "Thread_1 get Lock A\n",
      "Thread_2 get Lock B\n"
     ]
    },
    {
     "ename": "KeyboardInterrupt",
     "evalue": "",
     "output_type": "error",
     "traceback": [
      "\u001b[0;31m---------------------------------------------------------------------------\u001b[0m",
      "\u001b[0;31mKeyboardInterrupt\u001b[0m                         Traceback (most recent call last)",
      "\u001b[0;32m<ipython-input-15-259d73fb90fe>\u001b[0m in \u001b[0;36m<module>\u001b[0;34m\u001b[0m\n\u001b[1;32m     40\u001b[0m \u001b[0mthread_2\u001b[0m\u001b[0;34m.\u001b[0m\u001b[0mstart\u001b[0m\u001b[0;34m(\u001b[0m\u001b[0;34m)\u001b[0m\u001b[0;34m\u001b[0m\u001b[0;34m\u001b[0m\u001b[0m\n\u001b[1;32m     41\u001b[0m \u001b[0;34m\u001b[0m\u001b[0m\n\u001b[0;32m---> 42\u001b[0;31m \u001b[0mthread_1\u001b[0m\u001b[0;34m.\u001b[0m\u001b[0mjoin\u001b[0m\u001b[0;34m(\u001b[0m\u001b[0;34m)\u001b[0m\u001b[0;34m\u001b[0m\u001b[0;34m\u001b[0m\u001b[0m\n\u001b[0m\u001b[1;32m     43\u001b[0m \u001b[0mthread_2\u001b[0m\u001b[0;34m.\u001b[0m\u001b[0mjoin\u001b[0m\u001b[0;34m(\u001b[0m\u001b[0;34m)\u001b[0m\u001b[0;34m\u001b[0m\u001b[0;34m\u001b[0m\u001b[0m\n\u001b[1;32m     44\u001b[0m \u001b[0;34m\u001b[0m\u001b[0m\n",
      "\u001b[0;32m~/anaconda3/lib/python3.8/threading.py\u001b[0m in \u001b[0;36mjoin\u001b[0;34m(self, timeout)\u001b[0m\n\u001b[1;32m   1009\u001b[0m \u001b[0;34m\u001b[0m\u001b[0m\n\u001b[1;32m   1010\u001b[0m         \u001b[0;32mif\u001b[0m \u001b[0mtimeout\u001b[0m \u001b[0;32mis\u001b[0m \u001b[0;32mNone\u001b[0m\u001b[0;34m:\u001b[0m\u001b[0;34m\u001b[0m\u001b[0;34m\u001b[0m\u001b[0m\n\u001b[0;32m-> 1011\u001b[0;31m             \u001b[0mself\u001b[0m\u001b[0;34m.\u001b[0m\u001b[0m_wait_for_tstate_lock\u001b[0m\u001b[0;34m(\u001b[0m\u001b[0;34m)\u001b[0m\u001b[0;34m\u001b[0m\u001b[0;34m\u001b[0m\u001b[0m\n\u001b[0m\u001b[1;32m   1012\u001b[0m         \u001b[0;32melse\u001b[0m\u001b[0;34m:\u001b[0m\u001b[0;34m\u001b[0m\u001b[0;34m\u001b[0m\u001b[0m\n\u001b[1;32m   1013\u001b[0m             \u001b[0;31m# the behavior of a negative timeout isn't documented, but\u001b[0m\u001b[0;34m\u001b[0m\u001b[0;34m\u001b[0m\u001b[0;34m\u001b[0m\u001b[0m\n",
      "\u001b[0;32m~/anaconda3/lib/python3.8/threading.py\u001b[0m in \u001b[0;36m_wait_for_tstate_lock\u001b[0;34m(self, block, timeout)\u001b[0m\n\u001b[1;32m   1025\u001b[0m         \u001b[0;32mif\u001b[0m \u001b[0mlock\u001b[0m \u001b[0;32mis\u001b[0m \u001b[0;32mNone\u001b[0m\u001b[0;34m:\u001b[0m  \u001b[0;31m# already determined that the C code is done\u001b[0m\u001b[0;34m\u001b[0m\u001b[0;34m\u001b[0m\u001b[0m\n\u001b[1;32m   1026\u001b[0m             \u001b[0;32massert\u001b[0m \u001b[0mself\u001b[0m\u001b[0;34m.\u001b[0m\u001b[0m_is_stopped\u001b[0m\u001b[0;34m\u001b[0m\u001b[0;34m\u001b[0m\u001b[0m\n\u001b[0;32m-> 1027\u001b[0;31m         \u001b[0;32melif\u001b[0m \u001b[0mlock\u001b[0m\u001b[0;34m.\u001b[0m\u001b[0macquire\u001b[0m\u001b[0;34m(\u001b[0m\u001b[0mblock\u001b[0m\u001b[0;34m,\u001b[0m \u001b[0mtimeout\u001b[0m\u001b[0;34m)\u001b[0m\u001b[0;34m:\u001b[0m\u001b[0;34m\u001b[0m\u001b[0;34m\u001b[0m\u001b[0m\n\u001b[0m\u001b[1;32m   1028\u001b[0m             \u001b[0mlock\u001b[0m\u001b[0;34m.\u001b[0m\u001b[0mrelease\u001b[0m\u001b[0;34m(\u001b[0m\u001b[0;34m)\u001b[0m\u001b[0;34m\u001b[0m\u001b[0;34m\u001b[0m\u001b[0m\n\u001b[1;32m   1029\u001b[0m             \u001b[0mself\u001b[0m\u001b[0;34m.\u001b[0m\u001b[0m_stop\u001b[0m\u001b[0;34m(\u001b[0m\u001b[0;34m)\u001b[0m\u001b[0;34m\u001b[0m\u001b[0;34m\u001b[0m\u001b[0m\n",
      "\u001b[0;31mKeyboardInterrupt\u001b[0m: "
     ]
    }
   ],
   "source": [
    "#有两个线程，线程1拿到了A锁，但是他只有拿到B锁才能把A锁释放，\n",
    "#线程2拿到了B锁，他要拿到A锁才能释放B锁，结果这两个线程就死掉了\n",
    "\n",
    "import threading\n",
    "import time\n",
    "\n",
    "A=threading.Lock()\n",
    "B=threading.Lock()\n",
    "\n",
    "def getB():\n",
    "    A.acquire()\n",
    "    print(\"Thread_1 get Lock A\")\n",
    "    time.sleep(2)\n",
    "    B.acquire()\n",
    "    print(\"Thread_1 get Lock B\")\n",
    "    time.sleep(2)\n",
    "    A.release()\n",
    "    print(\"Thread_1 release Lock A\")\n",
    "    B.release()\n",
    "    time.sleep(2)\n",
    "    print(\"Thread_1 release Lock B\")\n",
    "    \n",
    "def getA():\n",
    "    B.acquire()\n",
    "    print(\"Thread_2 get Lock B\")\n",
    "    time.sleep(2)\n",
    "    A.acquire()\n",
    "    print(\"Thread_2 get Lock A\")\n",
    "    time.sleep(2)\n",
    "    B.release()\n",
    "    print(\"Thread_2 release Lock B\")\n",
    "    time.sleep(2)\n",
    "    A.release()\n",
    "    print(\"Thread_2 release Lock A\")\n",
    "\n",
    "thread_1=threading.Thread(target=getB)\n",
    "thread_2=threading.Thread(target=getA)\n",
    "\n",
    "thread_1.start()\n",
    "thread_2.start()\n",
    "\n",
    "thread_1.join()\n",
    "thread_2.join()\n",
    "\n",
    "print(\"Ending...\")"
   ]
  },
  {
   "cell_type": "markdown",
   "metadata": {},
   "source": [
    "#### 递归锁\n",
    "\n",
    "相当于把一块用了很多锁的代码块，看做一个整体，当这个代码块所有的锁都释放了，才能被其他的方法或者线程拿到锁\n",
    "\n",
    "RLock内部共同维护着一个Lock和一个counter变量，Counter记录了acquire的次数，从而使得资源可以被多次require。\n",
    "\n",
    "递归锁的实现原理很简单，**当加锁，递归锁的引用计数+1，解锁则-1.当引用计数为0，才能被其他线程或者方法拿到锁**。"
   ]
  },
  {
   "cell_type": "code",
   "execution_count": 2,
   "metadata": {},
   "outputs": [
    {
     "name": "stdout",
     "output_type": "stream",
     "text": [
      "Thread_1 counter==1\n",
      "Thread_1 counter==2\n",
      "Thread_1 counter==1\n",
      "Thread_1 counter==0Thread_2 counter==1\n",
      "\n",
      "Thread_2 counter==2\n",
      "Thread_2 counter==1\n",
      "Thread_2 counter==0\n",
      "Ending...\n"
     ]
    }
   ],
   "source": [
    "import threading\n",
    "import time\n",
    "\n",
    "A=B=threading.RLock()\n",
    "\n",
    "def getB():\n",
    "    A.acquire()\n",
    "    print(\"Thread_1 counter==1\")\n",
    "    time.sleep(2)\n",
    "    B.acquire()\n",
    "    print(\"Thread_1 counter==2\")\n",
    "    time.sleep(2)\n",
    "    A.release()\n",
    "    print(\"Thread_1 counter==1\")\n",
    "    time.sleep(2)\n",
    "    B.release()\n",
    "    print(\"Thread_1 counter==0\")\n",
    "    \n",
    "def getA():\n",
    "    B.acquire()\n",
    "    print(\"Thread_2 counter==1\")\n",
    "    time.sleep(2)\n",
    "    A.acquire()\n",
    "    print(\"Thread_2 counter==2\")\n",
    "    time.sleep(2)\n",
    "    B.release()\n",
    "    print(\"Thread_2 counter==1\")\n",
    "    time.sleep(2)\n",
    "    A.release()\n",
    "    print(\"Thread_2 counter==0\")\n",
    "\n",
    "thread_1=threading.Thread(target=getB)\n",
    "thread_2=threading.Thread(target=getA)\n",
    "\n",
    "thread_1.start()\n",
    "thread_2.start()\n",
    "\n",
    "thread_1.join()\n",
    "thread_2.join()\n",
    "\n",
    "print('Ending...')"
   ]
  },
  {
   "cell_type": "markdown",
   "metadata": {},
   "source": [
    "#### 事件Event\n",
    "\n",
    "* class threading.Event\n",
    "\n",
    ">An event manages a flag that can be set to true with the `set()` method and reset to false with the `clear()` method. The `wait()` method blocks(阻塞) until the flag is true. The flag is initially false.`is_set()` return True if and only if the internal flag is true"
   ]
  },
  {
   "cell_type": "code",
   "execution_count": 4,
   "metadata": {},
   "outputs": [
    {
     "name": "stdout",
     "output_type": "stream",
     "text": [
      "Thread_1 wait for event...\n",
      "Thread_2 wait for event...\n",
      "MainThread set event...\n",
      "Thread_2 recv the event...Thread_1 recv the event...\n",
      "\n",
      "Ending...\n"
     ]
    }
   ],
   "source": [
    "#set->wait->clear(由不同的调用者调用)\n",
    "\n",
    "#threading.Event可以使一个线程等待其他线程的通知。\n",
    "#其内置了一个标志，初始值为False。\n",
    "#线程通过wait()方法进入等待状态，直到另一个线程调用set()方法将内置标志设置为True时，Event通知所有等待状态的线程恢复运行；\n",
    "#调用clear()时重置为 False。还可以通过isSet()方法查询Envent对象内置状态的当前值。\n",
    "\n",
    "import threading\n",
    "import time\n",
    "\n",
    "event=threading.Event()\n",
    "\n",
    "def func():\n",
    "    print('%s wait for event...'%threading.currentThread().getName())\n",
    "    event.wait()\n",
    "    print('%s recv the event...'%threading.currentThread().getName())\n",
    "    \n",
    "thread_1=threading.Thread(target=func,name='Thread_1')\n",
    "thread_2=threading.Thread(target=func,name='Thread_2')\n",
    "\n",
    "thread_1.start()\n",
    "thread_2.start()\n",
    "\n",
    "time.sleep(2)\n",
    "\n",
    "print(\"MainThread set event...\")\n",
    "event.set()\n",
    "\n",
    "thread_1.join()\n",
    "thread_2.join()\n",
    "print(\"Ending...\")"
   ]
  },
  {
   "cell_type": "markdown",
   "metadata": {},
   "source": [
    "#### 信号量\n",
    "\n",
    "信号量用来控制线程并发数的，Semaphore管理一个内置的计数器，每当调用`acquire()`时$-1$，调用`release()`时$+1$。 计数器不能小于$0$，当计数器为$0$时，`acquire()`将阻塞线程至同步锁定状态，直到其他线程调用`release()`."
   ]
  },
  {
   "cell_type": "code",
   "execution_count": 5,
   "metadata": {},
   "outputs": [
    {
     "name": "stdout",
     "output_type": "stream",
     "text": [
      "Thread-8\n",
      "Thread-9\n",
      "Thread-10Thread-11\n",
      "\n",
      "Thread-12\n",
      "Thread-13Thread-14Thread-16Thread-17\n",
      "\n",
      "\n",
      "\n",
      "Thread-15\n",
      "Thread-18Thread-19Thread-20Thread-21\n",
      "\n",
      "\n",
      "Thread-22\n",
      "\n",
      "Thread-23\n",
      "Thread-25Thread-26Thread-24\n",
      "\n",
      "\n",
      "Thread-27\n",
      "Ending...\n"
     ]
    }
   ],
   "source": [
    "import threading\n",
    "import time\n",
    "\n",
    "class MyThread(threading.Thread):\n",
    "    def run(self):\n",
    "        #acquire()如果发生阻塞则返回False,否则返回True\n",
    "        if semaphore.acquire():\n",
    "            print(self.name)\n",
    "            time.sleep(5)\n",
    "            semaphore.release()\n",
    "\n",
    "semaphore=threading.Semaphore(5)\n",
    "thread_list=[]\n",
    "for i in range(20):\n",
    "    thread=MyThread()\n",
    "    thread_list.append(thread)\n",
    "    thread.start()\n",
    "for thread in thread_list:\n",
    "    thread.join()\n",
    "\n",
    "print(\"Ending...\")"
   ]
  },
  {
   "cell_type": "markdown",
   "metadata": {},
   "source": [
    "#### FIFO同步队列\n",
    "\n",
    "```python\n",
    "import Queue\n",
    "q = Queue.Queue(maxsize = 10)\n",
    "```\n",
    "Queue.Queue类即是一个队列的同步实现。队列长度可为无限或者有限。可通过Queue的构造函数的可选参数maxsize来设定队列长度。如果maxsize小于1就表示队列长度无限。\n",
    "\n",
    "Python Queue模块有三种队列及构造函数:\n",
    "1. Python Queue模块的FIFO队列先进先出。   class queue.Queue(maxsize)\n",
    "2. LIFO类似于栈，即先进后出。               class queue.LifoQueue(maxsize)\n",
    "3. 还有一种是优先级队列级别越低越先出来。        class queue.PriorityQueue(maxsize)"
   ]
  },
  {
   "cell_type": "markdown",
   "metadata": {},
   "source": [
    "##### 后话\n",
    "\n",
    "由于GIL(`Global Interpreter Lock`)的存在，python中的多线程其实并不是真正的多线程。在有些情况下多线程甚至比单线程要慢。多线程在多IO的场景下使用性能较好，在计算量密集的场景下使用多进程更优。\n",
    "\n"
   ]
  }
 ],
 "metadata": {
  "kernelspec": {
   "display_name": "Python 3",
   "language": "python",
   "name": "python3"
  },
  "language_info": {
   "codemirror_mode": {
    "name": "ipython",
    "version": 3
   },
   "file_extension": ".py",
   "mimetype": "text/x-python",
   "name": "python",
   "nbconvert_exporter": "python",
   "pygments_lexer": "ipython3",
   "version": "3.8.3"
  }
 },
 "nbformat": 4,
 "nbformat_minor": 4
}
