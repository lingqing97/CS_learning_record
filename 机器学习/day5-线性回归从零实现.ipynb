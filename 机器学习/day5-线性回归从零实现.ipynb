{
 "cells": [
  {
   "cell_type": "markdown",
   "metadata": {},
   "source": [
    "### 前言\n",
    "\n",
    "在前面，我们已经推导过多元线性回归的闭式解，其形式为:\n",
    "$$w=(X^TX)^{-1}X^Ty$$\n",
    "多元线性回归的模型为:\n",
    "$$y_i=x^T_i(X^TX)^{-1}X^Ty$$\n",
    "上述公式中包含$(X^TX)^{-1}$,也就是需要对矩阵求逆，因此这个方程只在逆矩阵存在的时候适用。然而，矩阵的逆可能并不存在，因此必须要在代码中对此作出判断。"
   ]
  },
  {
   "cell_type": "markdown",
   "metadata": {},
   "source": [
    "### 从零实现线性回归"
   ]
  },
  {
   "cell_type": "code",
   "execution_count": 1,
   "metadata": {},
   "outputs": [],
   "source": [
    "#导入库\n",
    "import numpy as np\n",
    "import pandas as pd"
   ]
  },
  {
   "cell_type": "code",
   "execution_count": 2,
   "metadata": {},
   "outputs": [],
   "source": [
    "class LinearRegression():\n",
    "    def __init__(self):\n",
    "        self.ws=np.mat([])\n",
    "    \n",
    "    def fit(self,X_train,Y_train):\n",
    "        xMat=np.mat(X_train,dtype='float')\n",
    "        yMat=np.mat(Y_train,dtype='float').T\n",
    "        xTx=xMat.T*xMat\n",
    "        #print(np.shape(xMat),np.shape(yMat),np.shape(xTx))\n",
    "        if np.linalg.det(xTx)==0.0:#矩阵行列式为0，则矩阵不可逆\n",
    "            print(\"Cannot do inverse\")\n",
    "            return\n",
    "        self.ws=xTx.I*xMat.T*yMat\n",
    "        #print(np.shape(self.ws))\n",
    "    \n",
    "    def predict(self,X_test):\n",
    "        xMat=np.mat(X_test,dtype='float')\n",
    "        #print(np.shape(xMat))\n",
    "        y_predict=xMat*self.ws #这里不用转置，因为我们的输入数据是行向量\n",
    "        return np.array(y_predict.T)"
   ]
  },
  {
   "cell_type": "code",
   "execution_count": 3,
   "metadata": {},
   "outputs": [],
   "source": [
    "#读取数据\n",
    "dataset=pd.read_csv(\"datasets/50_Startups.csv\")\n",
    "X=dataset.iloc[:,:-1].values\n",
    "Y=dataset.iloc[:,4].values"
   ]
  },
  {
   "cell_type": "code",
   "execution_count": 4,
   "metadata": {},
   "outputs": [
    {
     "name": "stdout",
     "output_type": "stream",
     "text": [
      "[0.0 0.0 1.0 165349.2 136897.8 471784.1]\n"
     ]
    }
   ],
   "source": [
    "#将文本标签转为数值类型\n",
    "from sklearn.preprocessing import LabelEncoder,OneHotEncoder\n",
    "from sklearn.compose import ColumnTransformer\n",
    "labelEncoder=LabelEncoder()\n",
    "X[:,3]=labelEncoder.fit_transform(X[:,3])\n",
    "columnTransformer=ColumnTransformer([('Country',OneHotEncoder(),[3])],remainder='passthrough')\n",
    "X=columnTransformer.fit_transform(X)\n",
    "print(X[0])"
   ]
  },
  {
   "cell_type": "code",
   "execution_count": 5,
   "metadata": {},
   "outputs": [
    {
     "name": "stdout",
     "output_type": "stream",
     "text": [
      "[0.0 1.0 165349.2 136897.8 471784.1]\n"
     ]
    }
   ],
   "source": [
    "#躲避虚拟变量陷阱\n",
    "X=X[:,1:]\n",
    "print(X[0])"
   ]
  },
  {
   "cell_type": "code",
   "execution_count": 6,
   "metadata": {},
   "outputs": [],
   "source": [
    "#划分训练集和测试集\n",
    "from sklearn.model_selection import train_test_split\n",
    "X_train,X_test,Y_train,Y_test=train_test_split(X,Y,test_size=0.2,random_state=0)"
   ]
  },
  {
   "cell_type": "code",
   "execution_count": 7,
   "metadata": {},
   "outputs": [],
   "source": [
    "#训练模型\n",
    "model=LinearRegression()\n",
    "model.fit(X_train,Y_train)"
   ]
  },
  {
   "cell_type": "code",
   "execution_count": 8,
   "metadata": {},
   "outputs": [
    {
     "name": "stdout",
     "output_type": "stream",
     "text": [
      "[[116862.44205399 118661.40080974 124952.97891883  60680.01036438\n",
      "  170151.07265605 124051.51460777  55021.33309142 105530.20331088\n",
      "  115467.09705302 155985.45674131]]\n",
      "[103282.38 144259.4  146121.95  77798.83 191050.39 105008.31  81229.06\n",
      "  97483.56 110352.25 166187.94]\n"
     ]
    }
   ],
   "source": [
    "#预测数据\n",
    "Y_pred=model.predict(X_test)\n",
    "print(Y_pred)\n",
    "print(Y_test)"
   ]
  }
 ],
 "metadata": {
  "kernelspec": {
   "display_name": "Python 3",
   "language": "python",
   "name": "python3"
  },
  "language_info": {
   "codemirror_mode": {
    "name": "ipython",
    "version": 3
   },
   "file_extension": ".py",
   "mimetype": "text/x-python",
   "name": "python",
   "nbconvert_exporter": "python",
   "pygments_lexer": "ipython3",
   "version": "3.7.6"
  }
 },
 "nbformat": 4,
 "nbformat_minor": 2
}
