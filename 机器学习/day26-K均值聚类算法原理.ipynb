{
 "cells": [
  {
   "cell_type": "markdown",
   "metadata": {},
   "source": [
    "### 聚类任务\n",
    "\n",
    "聚类试图将数据集中的样本划分为若干个通常是不相交的子集，每个子集称为一个“簇”。\n",
    "\n",
    "#### 性能度量\n",
    "\n",
    "聚类的目标是使得“簇内相似度”高且“簇间相似度”低。\n",
    "\n",
    "聚类度量大致分为两类，一类是将聚类结果与某个“参考模型”进行比较，称为“外部指标”；另一类是直接考察聚类结果而不利用任何参考模型，称为“内部指标”。\n",
    "\n",
    "#### 距离计算\n",
    "\n",
    "在讨论距离计算时，属性是否定义了“序”关系更为重要，比如定义域{1,2,3}能直接在属性值上计算距离，这样的属性称为**有序距离**；而定义域{飞机，火车，轮船}这样的离散属性则不能直接在属性值上计算距离，称为**无序距离**。\n",
    "\n",
    "对于有序属性，可以用闵可夫斯基距离计算:\n",
    "$$\n",
    "\\operatorname{dist}_{\\operatorname{mk}}\\left(\\boldsymbol{x}_{i}, \\boldsymbol{x}_{j}\\right)=\\left(\\sum_{u=1}^{n}\\left|x_{i u}-x_{j u}\\right|^{p}\\right)^{\\frac{1}{p}}\n",
    "$$\n",
    "当p=2时，闵可夫斯基距离即欧式距离；当p=1时，闵可夫斯基距离即曼哈顿距离。\n",
    "\n",
    "对于无序属性，可以用VDM距离计算:\n",
    "$$\n",
    "\\operatorname{VDM}_{p}(a, b)=\\sum_{i=1}^{k}\\left|\\frac{m_{u, a, i}}{m_{u, a}}-\\frac{m_{u, b, i}}{m_{u, b}}\\right|^{p}\n",
    "$$\n",
    "上式为属性 $u$ 上两个离散值 $a$ 与 $b$之间的 VDM 距离,$m_{u, a}$ 表示在属性 $u$ 上取值为 $a$ 的样本数, $m_{u, a, i}$ 表示在第 $i$ 个样本簇中在属性 $u$ 上取值为 $a$ 的样本数, $k$ 为样本簇数."
   ]
  },
  {
   "cell_type": "markdown",
   "metadata": {},
   "source": [
    "### K均值算法\n",
    "\n",
    "K均值聚类算法是一种基于原型的聚类，“原型”是指样本空间中具有代表性的点。\n",
    "\n",
    "给定样本集 $D=\\left\\{x_{1}, x_{2}, \\ldots, x_{m}\\right\\},$ “ $k$ 均值” $(k$ -means)算法针对聚类所得簇划分 $\\mathcal{C}=\\left\\{C_{1}, C_{2}, \\ldots, C_{k}\\right\\}$ 最小化平方误差\n",
    "$$\n",
    "E=\\sum_{i=1}^{k} \\sum_{\\boldsymbol{x} \\in C_{i}}\\left\\|\\boldsymbol{x}-\\boldsymbol{\\mu}_{i}\\right\\|^{2}\n",
    "$$\n",
    "其中 $\\boldsymbol{\\mu}_{i}=\\frac{1}{\\left|C_{i}\\right|} \\sum_{\\boldsymbol{x} \\in C_{i}} \\boldsymbol{x}$ 是簇 $C_{i}$ 的均值向量. 直观来看, 上式在一定程度上刻画了簇内样本围绕簇均值向量的紧密程度，E 值越小则簇内样本相似度越高.\n",
    "\n",
    "最小化K均值聚类的平方误差是一个NP难问题，因此我们通过迭代优化来近似求解式。\n",
    "\n",
    "K均值算法的伪代码如下:\n",
    "![avatar](../image/机器学习_K均值算法_图1.jpg)"
   ]
  }
 ],
 "metadata": {
  "kernelspec": {
   "display_name": "Python 3",
   "language": "python",
   "name": "python3"
  },
  "language_info": {
   "codemirror_mode": {
    "name": "ipython",
    "version": 3
   },
   "file_extension": ".py",
   "mimetype": "text/x-python",
   "name": "python",
   "nbconvert_exporter": "python",
   "pygments_lexer": "ipython3",
   "version": "3.8.3"
  }
 },
 "nbformat": 4,
 "nbformat_minor": 2
}
