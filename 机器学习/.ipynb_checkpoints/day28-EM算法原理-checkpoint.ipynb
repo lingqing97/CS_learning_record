{
 "cells": [
  {
   "cell_type": "markdown",
   "metadata": {},
   "source": [
    "### EM算法\n",
    "\n",
    "EM算法的每次迭代由两步组成:E步，求期望;M步，求极大。所以这一算法称为**期望极大算法**。\n",
    "\n",
    "EM算法是用于含有隐变量的模型的参数估计。\n",
    "\n",
    "未观测变量的学名是“隐变量”(latent variable)。令X表示已观测变量集, Z 表示隐变量集, $\\Theta$ 表示模型参数. 若欲对 $\\Theta$ 做极大似然估计, 则应最大化 对数似然\n",
    "$$\n",
    "L L(\\Theta \\mid \\mathbf{X}, \\mathbf{Z})=\\ln P(\\mathbf{X}, \\mathbf{Z} \\mid \\Theta)\n",
    "$$\n",
    "\n",
    "EM 算法的两个步骤是:\n",
    "\n",
    "- E 步 (Expectation): 以当前参数 $\\Theta^{t}$ 推断隐变量分布 $P\\left(\\mathbf{Z} \\mid \\mathbf{X}, \\Theta^{t}\\right),$ 并计 算对数似然 $L L(\\Theta \\mid \\mathbf{X}, \\mathbf{Z})$ 关于Z的期望\n",
    "$$\n",
    "Q\\left(\\Theta \\mid \\Theta^{t}\\right)=\\mathbb{E}_{\\mathbf{Z} \\mid \\mathbf{X}, \\Theta^{t}} L L(\\Theta \\mid \\mathbf{X}, \\mathbf{Z})\n",
    "$$\n",
    "- M 步 (Maximization): 寻找参数最大化期望似然, 即\n",
    "$$\n",
    "\\Theta^{t+1}=\\underset{\\Theta}{\\arg \\max } Q\\left(\\Theta \\mid \\Theta^{t}\\right)\n",
    "$$"
   ]
  },
  {
   "cell_type": "markdown",
   "metadata": {},
   "source": [
    "#### EM算法在非监督学习中的应用\n",
    "\n",
    "有时训练数据只有输入没有对应的输出 $\\left\\{\\left(x_{1}, \\cdot\\right),\\left(x_{2}, \\cdot\\right), \\cdots,\\left(x_{N}, \\cdot\\right)\\right\\},$ 从这样的数 据学习模型称为非监督学习问题。EM 算法可以用于生成模型的非监督学习. 生成模型由联合概率分布 $P(X, Y)$ 表示，可以认为非监督学习训练数据是联合概率分布产生的数据，X为观测数据，Y为未观测数据."
   ]
  },
  {
   "cell_type": "markdown",
   "metadata": {},
   "source": [
    "（未完待续。。。）"
   ]
  }
 ],
 "metadata": {
  "kernelspec": {
   "display_name": "Python 3",
   "language": "python",
   "name": "python3"
  },
  "language_info": {
   "codemirror_mode": {
    "name": "ipython",
    "version": 3
   },
   "file_extension": ".py",
   "mimetype": "text/x-python",
   "name": "python",
   "nbconvert_exporter": "python",
   "pygments_lexer": "ipython3",
   "version": "3.7.6"
  }
 },
 "nbformat": 4,
 "nbformat_minor": 2
}
