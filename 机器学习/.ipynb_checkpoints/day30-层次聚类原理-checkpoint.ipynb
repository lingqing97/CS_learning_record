{
 "cells": [
  {
   "cell_type": "markdown",
   "metadata": {},
   "source": [
    "### 层次聚类\n",
    "\n",
    "层次聚类试图在不同层次对数据集进行划分，从而形成树形的聚类结构。\n",
    "\n",
    "下图是层次聚类的动图:\n",
    "![avatar](../image/层次聚类.gif)\n",
    "\n",
    "AGENS是一种采用自底向上聚合策略的层次聚类算法。"
   ]
  },
  {
   "cell_type": "markdown",
   "metadata": {},
   "source": [
    "### AGNES算法\n",
    "\n",
    "AGNES算法先将数据集中的每个样本看做一个初始聚类簇，然后再算法运行的每一步中找出距离最近的两个聚类簇进行合并，该过程不断重复，直至达到预设的聚类簇个数。\n",
    "\n",
    "这里的关键是如何计算聚类簇之间的距离，常用以下几种距离:\n",
    "$$\n",
    "\\begin{aligned}\n",
    "&\\text { 最小距离: } d_{\\min }\\left(C_{i}, C_{j}\\right)=\\min _{\\boldsymbol{x} \\in C_{i}, \\boldsymbol{z} \\in C_{j}} \\operatorname{dist}(\\boldsymbol{x}, \\boldsymbol{z})\\\\\n",
    "&\\text { 最大距离: } d_{\\max }\\left(C_{i}, C_{j}\\right)=\\max _{\\boldsymbol{x} \\in C_{i}, \\boldsymbol{z} \\in C_{j}} \\operatorname{dist}(\\boldsymbol{x}, \\boldsymbol{z})\\\\\n",
    "&\\text { 平均距离: } d_{\\mathrm{avg}}\\left(C_{i}, C_{j}\\right)=\\frac{1}{\\left|C_{i}\\right|\\left|C_{j}\\right|} \\sum_{\\boldsymbol{x} \\in C_{i}} \\sum_{\\boldsymbol{z} \\in C_{i}} \\operatorname{dist}(\\boldsymbol{x}, \\boldsymbol{z})\n",
    "\\end{aligned}\n",
    "$$\n",
    "\n",
    "当距离采用最小距离、最大距离和平均距离时，AGNES算法相应低称为“单链接”、“全链接”、“均链接”算法。\n",
    "\n",
    "AGNES算法伪代码如下:\n",
    "![avatar](../image/机器学习_聚类_层次聚类.jpg)"
   ]
  }
 ],
 "metadata": {
  "kernelspec": {
   "display_name": "Python 3",
   "language": "python",
   "name": "python3"
  },
  "language_info": {
   "codemirror_mode": {
    "name": "ipython",
    "version": 3
   },
   "file_extension": ".py",
   "mimetype": "text/x-python",
   "name": "python",
   "nbconvert_exporter": "python",
   "pygments_lexer": "ipython3",
   "version": "3.7.6"
  }
 },
 "nbformat": 4,
 "nbformat_minor": 2
}
