{
 "cells": [
  {
   "cell_type": "markdown",
   "metadata": {},
   "source": [
    "### 简单线性回归\n",
    "\n",
    "简单线性回归：使用单一特征来预测响应值。\n",
    "\n",
    "因变量$y=b_0+b_1x_1$，通过$min\\{SUM(y_i-y_p)^2\\}$,其中$y_i$为实际值,$y_p$为预测值。"
   ]
  },
  {
   "cell_type": "markdown",
   "metadata": {},
   "source": [
    "#### 数据预处理\n",
    "\n",
    "- 导入相关库\n",
    "- 导入数据集\n",
    "- 划分数据集"
   ]
  },
  {
   "cell_type": "code",
   "execution_count": 1,
   "metadata": {},
   "outputs": [],
   "source": [
    "import pandas as pd\n",
    "import numpy as np\n",
    "import matplotlib.pyplot as plt"
   ]
  },
  {
   "cell_type": "code",
   "execution_count": 2,
   "metadata": {},
   "outputs": [
    {
     "name": "stdout",
     "output_type": "stream",
     "text": [
      "    Hours  Scores\n",
      "0     2.5      21\n",
      "1     5.1      47\n",
      "2     3.2      27\n",
      "3     8.5      75\n",
      "4     3.5      30\n",
      "5     1.5      20\n",
      "6     9.2      88\n",
      "7     5.5      60\n",
      "8     8.3      81\n",
      "9     2.7      25\n",
      "10    7.7      85\n",
      "11    5.9      62\n",
      "12    4.5      41\n",
      "13    3.3      42\n",
      "14    1.1      17\n",
      "15    8.9      95\n",
      "16    2.5      30\n",
      "17    1.9      24\n",
      "18    6.1      67\n",
      "19    7.4      69\n",
      "20    2.7      30\n",
      "21    4.8      54\n",
      "22    3.8      35\n",
      "23    6.9      76\n",
      "24    7.8      86\n"
     ]
    }
   ],
   "source": [
    "dataset=pd.read_csv('datasets/studentscores.csv')\n",
    "print(dataset)"
   ]
  },
  {
   "cell_type": "code",
   "execution_count": 10,
   "metadata": {},
   "outputs": [],
   "source": [
    "X=dataset.iloc[:,:1].values\n",
    "Y=dataset.iloc[:,1].values"
   ]
  },
  {
   "cell_type": "markdown",
   "metadata": {},
   "source": [
    "train_test_split是交叉验证中常用的函数，功能是从样本中随机的按比例选取train_data和test_data，形式为:\n",
    "X_train,X_test,Y_train,Y_test=train_test_split(train_data,train_target,test_size,random_state)\n",
    "参数说明:\n",
    "\n",
    "- test_size:测试样本占比\n",
    "- random_state:随机种子；种子不同，产生不同的随机数。"
   ]
  },
  {
   "cell_type": "code",
   "execution_count": 11,
   "metadata": {},
   "outputs": [],
   "source": [
    "from sklearn.model_selection import train_test_split\n",
    "X_train,X_test,Y_train,Y_test=train_test_split(X,Y,test_size=1/4,random_state=0)"
   ]
  },
  {
   "cell_type": "markdown",
   "metadata": {},
   "source": [
    "#### 训练简单线性回归模型"
   ]
  },
  {
   "cell_type": "markdown",
   "metadata": {},
   "source": [
    "linear_model.LinearRegression()用法\n",
    "函数原型：\n",
    "class sklearn.linear_model.LinearRegression(fit_intercept,normalize,copy_X,n_jobs)\n",
    "参数说明:\n",
    "\n",
    "- fit_intercept:布尔型,默认为true；表示是否对训练数据进行中心化；\n",
    "- normalize:布尔型，默认为false；表示是否对数据进行归一化处理；\n",
    "- copy_X:布尔型，默认为true；表示是否将中心化、归一化后的数据覆盖原数据\n",
    "- n_jobs:整型，默认为1;表示是否使用多个CPU计算\n",
    "\n",
    "返回值说明:\n",
    "\n",
    "- coef_:数组变量，形状为(n_features,)或(n_targets,n_featrues)\n",
    "- intercept_:数组变量，表示线性模型中的独立项\n",
    "\n",
    "方法:\n",
    "\n",
    "- fit(X,y,[n_jobs]):对训练集X,y进行训练\n",
    "- predict(X):使用训练得到的模型对输入X进行预测\n",
    "- score(X,y):返回以X为样本,y为标签的预测结果评分，最后得分为1.0，得分一般比1.0低"
   ]
  },
  {
   "cell_type": "code",
   "execution_count": 12,
   "metadata": {},
   "outputs": [
    {
     "data": {
      "text/plain": [
       "LinearRegression(copy_X=True, fit_intercept=True, n_jobs=None, normalize=False)"
      ]
     },
     "execution_count": 12,
     "metadata": {},
     "output_type": "execute_result"
    }
   ],
   "source": [
    "from sklearn.linear_model import LinearRegression\n",
    "\n",
    "model=LinearRegression()\n",
    "model.fit(X_train,Y_train)"
   ]
  },
  {
   "cell_type": "markdown",
   "metadata": {},
   "source": [
    "#### 预测结果"
   ]
  },
  {
   "cell_type": "code",
   "execution_count": 13,
   "metadata": {},
   "outputs": [],
   "source": [
    "Y_pred=model.predict(X_test)"
   ]
  },
  {
   "cell_type": "markdown",
   "metadata": {},
   "source": [
    "#### 可视化"
   ]
  },
  {
   "cell_type": "markdown",
   "metadata": {},
   "source": [
    "##### 训练集结果可视化"
   ]
  },
  {
   "cell_type": "code",
   "execution_count": 15,
   "metadata": {},
   "outputs": [
    {
     "data": {
      "image/png": "[encoded data removed]",
      "text/plain": [
       "<Figure size 432x288 with 1 Axes>"
      ]
     },
     "metadata": {
      "needs_background": "light"
     },
     "output_type": "display_data"
    }
   ],
   "source": [
    "plt.scatter(X_train,Y_train,color='r')\n",
    "plt.plot(X_train,model.predict(X_train),color='b')\n",
    "plt.show()"
   ]
  },
  {
   "cell_type": "markdown",
   "metadata": {},
   "source": [
    "##### 测试集结果可视化"
   ]
  },
  {
   "cell_type": "code",
   "execution_count": 16,
   "metadata": {},
   "outputs": [
    {
     "data": {
      "image/png": "[encoded data removed]",
      "text/plain": [
       "<Figure size 432x288 with 1 Axes>"
      ]
     },
     "metadata": {
      "needs_background": "light"
     },
     "output_type": "display_data"
    }
   ],
   "source": [
    "plt.scatter(X_test,Y_test,color='r')\n",
    "plt.plot(X_test,model.predict(X_test),color='b')\n",
    "plt.show()"
   ]
  },
  {
   "cell_type": "markdown",
   "metadata": {},
   "source": [
    "### 多元线性回归\n",
    "\n",
    "多元线性回归需要注意：\n",
    "\n",
    "- 想要回归分析的结果是成功需要确定:\n",
    "    - 自变量和因变量是线性的\n",
    "- 过多的变量会降低模型的精确度，可以适当减少一些无关的变量。\n",
    "- 非数值型数据需先转为数值型数据（也叫虚拟变量）。\n",
    "- **虚拟变量陷阱**\n",
    "    - 虚拟变量陷阱是指两个以上（包括两个）变量之间高度相关的情形。即存在一个能够被其他变量预测出来的变量。比如性别中，可以通过女性类别类推断男性性别。\n",
    "    - **解决的办法是:**类别变量减去一，即假如有m个类别，那么在构建模型时取m-1个虚拟变量。\n",
    "\n",
    "多元线性回归步骤总结:\n",
    "\n",
    "- 数据预处理\n",
    "    - 导入相关库\n",
    "    - 导入数据\n",
    "    - 处理缺少值\n",
    "    - 将非数值型数据转为数值型数据\n",
    "    - 特征缩放:归一化等\n",
    "- 训练模型\n",
    "    - 定义LinearRegression类的实例model\n",
    "    - 调用modle.fit()方法进行训练\n",
    "- 预测结果\n",
    "    - 使用model.predict()方法来预测结果"
   ]
  },
  {
   "cell_type": "markdown",
   "metadata": {},
   "source": [
    "#### 数据预处理"
   ]
  },
  {
   "cell_type": "code",
   "execution_count": 1,
   "metadata": {},
   "outputs": [],
   "source": [
    "import numpy as np\n",
    "import pandas as pd"
   ]
  },
  {
   "cell_type": "code",
   "execution_count": 2,
   "metadata": {},
   "outputs": [],
   "source": [
    "dataset=pd.read_csv('datasets/50_Startups.csv')\n",
    "X=dataset.iloc[:,:-1].values\n",
    "Y=dataset.iloc[:,4].values"
   ]
  },
  {
   "cell_type": "markdown",
   "metadata": {},
   "source": [
    "preprocessing.LabelEncoder是用来对分类型特征值进行编码，即对不连续的数值或文本进行编码。其方法包括:\n",
    "\n",
    "- fit(y):统计y中的不重复的键\n",
    "- fit_transform(y):先执行fit(),之后将y中每个文本数据转为索引值\n",
    "```python\n",
    ">>> le = preprocessing.LabelEncoder()\n",
    ">>> le.fit([\"paris\", \"paris\", \"tokyo\", \"amsterdam\"])\n",
    "LabelEncoder()\n",
    ">>> list(le.classes_)\n",
    "['amsterdam', 'paris', 'tokyo']\n",
    ">>> le.transform([\"tokyo\", \"tokyo\", \"paris\"]) \n",
    "array([2, 2, 1])\n",
    "```\n",
    "\n",
    "preprocessing.OneHotEncoder将数据转为One-Hot编码，One-Hot编码是分类变量作为二进制向量的表示。\n",
    "\n",
    "```python\n",
    "#旧版OneHotEncoder用法\n",
    "from sklearn.preprocessing import  OneHotEncoder\n",
    "\n",
    "enc = OneHotEncoder()\n",
    "enc.fit([[0, 0, 3],\n",
    "         [1, 1, 0],\n",
    "         [0, 2, 1],\n",
    "         [1, 0, 2]])\n",
    "\n",
    "ans = enc.transform([[0, 1, 3]]).toarray()  # 如果不加 toarray() 的话，输出的是稀疏的存储格式，即索引加值的形式，也可以通过参数指定 sparse = False 来达到同样的效果\n",
    "print(ans) # 输出 [[ 1.  0.  0.  1.  0.  0.  0.  0.  1.]]\n",
    "```\n",
    "下面解释输出结果的意思。对于输入数组，这依旧是把每一行当作一个样本，每一列当作一个特征，\n",
    "\n",
    "- 我们先来看第一个特征，即第一列 [0,1,0,1]，也就是说它有两个取值 0 或者 1，那么 one-hot 就会使用两位来表示这个特征，[1,0] 表示 0， [0,1] 表示 1，在上例输出结果中的前两位 [1,0...] 也就是表示该特征为 0\n",
    "- 第二个特征，第二列 [0,1,2,0]，它有三种值，那么 one-hot 就会使用三位来表示这个特征，[1,0,0] 表示 0， [0,1,0] 表示 1，[0,0,1] 表示 2，在上例输出结果中的第三位到第六位 [...0,1,0,0...] 也就是表示该特征为 1\n",
    "- 第三个特征，第三列 [3,0,1,2]，它有四种值，那么 one-hot 就会使用四位来表示这个特征，[1,0,0,0] 表示 0， [0,1,0,0] 表示 1，[0,0,1,0] 表示 2，[0,0,0,1] 表示 3，在上例输出结果中的最后四位 [...0,0,0,1] 也就是表示该特征为 3\n",
    "\n",
    "```python\n",
    "#新版用法\n",
    "from sklearn.compose import ColumnTransformer\n",
    "from sklearn.preprocessing import OneHotEncoder\n",
    "#ColumnTransform([(名称，转换器，列)],...)\n",
    "#remainder='passthrough'表示未指定的列自动通过\n",
    "#remainder='drop'表示未指定的列将被删除\n",
    "ct=ColumnTransform([('Country',OneHotEncoder,[1])],remainder='passthrough')\n",
    "X=ct.fit_transform(X)\n",
    "```"
   ]
  },
  {
   "cell_type": "code",
   "execution_count": 3,
   "metadata": {},
   "outputs": [
    {
     "name": "stdout",
     "output_type": "stream",
     "text": [
      "[0.0 0.0 1.0 165349.2 136897.8 471784.1]\n"
     ]
    }
   ],
   "source": [
    "#将非数值数据转为数值型数据\n",
    "from sklearn.preprocessing import LabelEncoder,OneHotEncoder\n",
    "from sklearn.compose import ColumnTransformer\n",
    "labelEncoder=LabelEncoder()\n",
    "X[:,3]=labelEncoder.fit_transform(X[:,3])\n",
    "ct=ColumnTransformer([('Country',OneHotEncoder(),[3])],remainder='passthrough')\n",
    "X=ct.fit_transform(X)\n",
    "print(X[0])"
   ]
  },
  {
   "cell_type": "code",
   "execution_count": 4,
   "metadata": {},
   "outputs": [],
   "source": [
    "#躲避虚拟变量陷阱\n",
    "X=X[:,1:]"
   ]
  },
  {
   "cell_type": "code",
   "execution_count": 6,
   "metadata": {},
   "outputs": [],
   "source": [
    "#拆分数据为训练集和测试集\n",
    "from sklearn.model_selection import train_test_split\n",
    "X_train,X_test,Y_train,Y_test=train_test_split(X,Y,test_size=0.2,random_state=0)"
   ]
  },
  {
   "cell_type": "markdown",
   "metadata": {},
   "source": [
    "#### 模型训练"
   ]
  },
  {
   "cell_type": "code",
   "execution_count": 7,
   "metadata": {},
   "outputs": [
    {
     "data": {
      "text/plain": [
       "LinearRegression(copy_X=True, fit_intercept=True, n_jobs=None, normalize=False)"
      ]
     },
     "execution_count": 7,
     "metadata": {},
     "output_type": "execute_result"
    }
   ],
   "source": [
    "from sklearn.linear_model import LinearRegression\n",
    "model=LinearRegression()\n",
    "model.fit(X_train,Y_train)"
   ]
  },
  {
   "cell_type": "markdown",
   "metadata": {},
   "source": [
    "### 预测"
   ]
  },
  {
   "cell_type": "code",
   "execution_count": 9,
   "metadata": {},
   "outputs": [
    {
     "name": "stdout",
     "output_type": "stream",
     "text": [
      "[103282.38 144259.4  146121.95  77798.83 191050.39 105008.31  81229.06\n",
      "  97483.56 110352.25 166187.94]\n",
      "[103015.20159796 132582.27760816 132447.73845175  71976.09851259\n",
      " 178537.48221054 116161.24230163  67851.69209676  98791.73374688\n",
      " 113969.43533012 167921.0656955 ]\n"
     ]
    }
   ],
   "source": [
    "Y_pred=model.predict(X_test)\n",
    "print(Y_test)\n",
    "print(Y_pred)"
   ]
  }
 ],
 "metadata": {
  "kernelspec": {
   "display_name": "Python 3",
   "language": "python",
   "name": "python3"
  },
  "language_info": {
   "codemirror_mode": {
    "name": "ipython",
    "version": 3
   },
   "file_extension": ".py",
   "mimetype": "text/x-python",
   "name": "python",
   "nbconvert_exporter": "python",
   "pygments_lexer": "ipython3",
   "version": "3.7.6"
  }
 },
 "nbformat": 4,
 "nbformat_minor": 2
}
