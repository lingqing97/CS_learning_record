{
 "cells": [
  {
   "cell_type": "markdown",
   "metadata": {},
   "source": [
    "### Apriori算法实现"
   ]
  },
  {
   "cell_type": "code",
   "execution_count": 1,
   "metadata": {},
   "outputs": [],
   "source": [
    "import numpy as np\n",
    "import pandas as pd"
   ]
  },
  {
   "cell_type": "code",
   "execution_count": 2,
   "metadata": {},
   "outputs": [],
   "source": [
    "#辅助函数\n",
    "def createC1(dataset):\n",
    "    '''\n",
    "    对数据集生成1-项集\n",
    "    Args:\n",
    "        dataset:输入数据,list\n",
    "    '''\n",
    "    C1=[]\n",
    "    for data in dataset:\n",
    "        for item in data:\n",
    "            if [item] not in C1:\n",
    "                C1.append([item])\n",
    "    C1.sort()\n",
    "    #frozenset冻结的集合，即不可变的集合，因为之后要作为字典的键\n",
    "    return list(map(frozenset,C1))\n",
    "\n",
    "def scanD(D,Ck,minSupport):\n",
    "    '''\n",
    "    计算每个项集的支持度\n",
    "    Args:\n",
    "        D(List):输入的数据库\n",
    "        Ck:输入的项集\n",
    "        minSupport:最小支持度阈值\n",
    "    Returns:\n",
    "        retList(List):满足条件的频繁项集\n",
    "        supportData(Dict):每个项集和它对应的支持度\n",
    "    '''\n",
    "    ssCnt={}\n",
    "    #统计每个项集在数据集中出现的次数\n",
    "    for c in Ck:\n",
    "        for data in D:\n",
    "            if c.issubset(data):\n",
    "                if c not in ssCnt:\n",
    "                    ssCnt[c]=1\n",
    "                else:\n",
    "                    ssCnt[c]+=1\n",
    "    #数据总量\n",
    "    num=float(len(D)) \n",
    "    retList=[]\n",
    "    supportData={}\n",
    "    #计算每个项集的支持度\n",
    "    for key in ssCnt:\n",
    "        support=ssCnt[key]/num\n",
    "        if support>=minSupport:\n",
    "            retList.insert(0,key)\n",
    "        supportData[key]=support\n",
    "    #返回满足条件的项集和所有项集的支持度字典\n",
    "    return retList,supportData"
   ]
  },
  {
   "cell_type": "code",
   "execution_count": 3,
   "metadata": {},
   "outputs": [
    {
     "name": "stdout",
     "output_type": "stream",
     "text": [
      "[frozenset({1}), frozenset({2}), frozenset({3}), frozenset({4}), frozenset({5})]\n",
      "[frozenset({5}), frozenset({3}), frozenset({2}), frozenset({1})]\n",
      "{frozenset({1}): 0.5, frozenset({2}): 0.75, frozenset({3}): 0.75, frozenset({4}): 0.25, frozenset({5}): 0.75}\n"
     ]
    }
   ],
   "source": [
    "#测试\n",
    "data=[[1,3,4],[2,3,5],[1,2,3,5],[2,5]]\n",
    "C1=createC1(data)\n",
    "L1,supportData0=scanD(data,C1,0.5)\n",
    "print(C1)\n",
    "print(L1)\n",
    "print(supportData0)"
   ]
  },
  {
   "cell_type": "markdown",
   "metadata": {},
   "source": [
    "#### 完整的Apriori算法\n",
    "\n",
    "整个Apriori算法的伪代码如下:\n",
    "* 当集合中项的个数大于0时\n",
    "    * 构建一个k个项组成的候选项集的列表\n",
    "    * 检查数据以确认每个项集都是频繁的\n",
    "    * 保留频繁项集并构建k+1项组成的候选项集的列表"
   ]
  },
  {
   "cell_type": "code",
   "execution_count": 4,
   "metadata": {},
   "outputs": [],
   "source": [
    "def aprioriGen(Lk,k):\n",
    "    '''\n",
    "    将项集两两合并\n",
    "    Args:\n",
    "        Lk(set):输入的项集\n",
    "        k:项集元素个数k\n",
    "    Returns:\n",
    "        retList:合并后得到的k项集\n",
    "    '''\n",
    "    retList=[]\n",
    "    lenLk=len(Lk)\n",
    "    for i in range(lenLk):\n",
    "        for j in range(i+1,lenLk):\n",
    "            L1=list(Lk[i])\n",
    "            L2=list(Lk[j])\n",
    "            L1.sort()\n",
    "            L2.sort()\n",
    "            #只将除了最后一个元素，前面元素都相同的合并\n",
    "            #比如{0,1},{0,2},{1,2}\n",
    "            #若不这样则会得到三个{0,1,2}\n",
    "            if L1[:-1]==L2[:-1]:\n",
    "                retList.append(Lk[i]|Lk[j])\n",
    "\n",
    "    return retList\n",
    "\n",
    "def apriori(dataSet,minSupport=0.5):\n",
    "    '''\n",
    "    Apriori算法核心函数\n",
    "    Args:\n",
    "        dataset:输入的数据\n",
    "        minSupport:最小支持度阈值\n",
    "    Returns:\n",
    "        L:包含L1,L2,..Lk的列表\n",
    "        supportData:记录各项集支持度的字典\n",
    "    '''\n",
    "    C1=createC1(dataSet)\n",
    "    D=list(map(set,dataSet))\n",
    "    #L1为全为1-项集的集合\n",
    "    L1,supportData=scanD(D,C1,minSupport)\n",
    "    #L将包含L1,L2,..Lk\n",
    "    L=[L1]\n",
    "    k=2\n",
    "    #当Lk为空时，循环退出\n",
    "    while((len(L[-1]))>0):\n",
    "        Ck=aprioriGen(L[-1],k)\n",
    "        Lk,supK=scanD(D,Ck,minSupport)\n",
    "        supportData.update(supK)\n",
    "        L.append(Lk)\n",
    "        k+=1\n",
    "    return L,supportData"
   ]
  },
  {
   "cell_type": "code",
   "execution_count": 5,
   "metadata": {},
   "outputs": [
    {
     "name": "stdout",
     "output_type": "stream",
     "text": [
      "[[frozenset({5}), frozenset({3}), frozenset({2}), frozenset({1})], [frozenset({1, 3}), frozenset({2, 3}), frozenset({2, 5}), frozenset({3, 5})], [frozenset({2, 3, 5})], []]\n",
      "{frozenset({1}): 0.5, frozenset({2}): 0.75, frozenset({3}): 0.75, frozenset({4}): 0.25, frozenset({5}): 0.75, frozenset({3, 5}): 0.5, frozenset({2, 5}): 0.75, frozenset({1, 5}): 0.25, frozenset({2, 3}): 0.5, frozenset({1, 3}): 0.5, frozenset({1, 2}): 0.25, frozenset({2, 3, 5}): 0.5}\n"
     ]
    }
   ],
   "source": [
    "L,supportData=apriori(data,0.5)\n",
    "print(L)\n",
    "print(supportData)"
   ]
  },
  {
   "cell_type": "markdown",
   "metadata": {},
   "source": [
    "### 根据Apriori算法生成规则\n",
    "\n",
    "假设规则{A,B,C}->{D}不满足最小可信度要求，那么所有已{A,B,C}子集为规则左部的也不会满足最小可信度要求，即{A,B}->{C,D},{A,C}->{B,D},{B,C}->{A,D},{A}->{B,C,D},{B}->{A,C,D},{C}->{A,B,D}.\n",
    "\n",
    "以{A,B}->{C,D}为例说明:\n",
    "\n",
    "因为{A,B,C}->{D}可信度小于阈值，即\n",
    "$$\n",
    "\\frac{support(A,B,C,D)}{support(A,B,C)}<min\\_support\n",
    "$$\n",
    "又因为\n",
    "$$\n",
    "support(A,B)>=support(A,B,C)\n",
    "$$\n",
    "所以\n",
    "$$\n",
    "\\frac{support(A,B,C,D)}{support(A,B)}<\\frac{support(A,B,C,D)}{support(A,B,C)}<min\\_support\n",
    "$$\n",
    "\n",
    "利用该性质来减少计算的规则数目。"
   ]
  },
  {
   "cell_type": "code",
   "execution_count": 6,
   "metadata": {},
   "outputs": [],
   "source": [
    "#参考:https://github.com/stonycat/ML-in-Action-Code-and-Note/blob/master/ch11/apriori.py\n",
    "def generateRules(L,supportData,minConf=0.7):\n",
    "    '''\n",
    "    生成规则的核心函数\n",
    "    Args:\n",
    "        L:\n",
    "        supportData:\n",
    "        minConf:\n",
    "    Returns:\n",
    "        \n",
    "    '''\n",
    "    bigRuleList=[]\n",
    "    for i in range(1, len(L)):  #只获取有两个或者更多集合的项目，从1,即第二个元素开始，L[0]是单个元素的\n",
    "        # 两个及以上的才可能有关联一说，单个元素的项集不存在关联问题\n",
    "        for freqSet in L[i]:\n",
    "            H1 = [frozenset([item]) for item in freqSet]\n",
    "            #该函数遍历L中的每一个频繁项集并对每个频繁项集创建只包含单个元素集合的列表H1\n",
    "            if (i > 1):\n",
    "            #如果频繁项集元素数目超过2,那么会考虑对它做进一步的合并\n",
    "                rulesFromConseq(freqSet, H1, supportData, bigRuleList, minConf)\n",
    "            else:#第一层时，后件数为1\n",
    "                calcConf(freqSet, H1, supportData, bigRuleList, minConf)# 调用函数2\n",
    "    return bigRuleList  \n",
    "\n",
    "#生成候选规则集合：计算规则的可信度以及找到满足最小可信度要求的规则\n",
    "def calcConf(freqSet, H, supportData, brl, minConf=0.7):\n",
    "    #针对项集中只有两个元素时，计算可信度\n",
    "    prunedH = []#返回一个满足最小可信度要求的规则列表\n",
    "    for conseq in H:#后件，遍历 H中的所有项集并计算它们的可信度值\n",
    "        conf = supportData[freqSet]/supportData[freqSet-conseq] #可信度计算，结合支持度数据\n",
    "        if conf >= minConf:\n",
    "            print (freqSet-conseq,'-->',conseq,'conf:',conf)\n",
    "            #如果某条规则满足最小可信度值,那么将这些规则输出到屏幕显示\n",
    "            brl.append((freqSet-conseq, conseq, conf))#添加到规则里，brl 是前面通过检查的 bigRuleList\n",
    "            prunedH.append(conseq)#同样需要放入列表到后面检查\n",
    "    return prunedH\n",
    "\n",
    "#合并\n",
    "def rulesFromConseq(freqSet, H, supportData, brl, minConf=0.7):\n",
    "    #参数:一个是频繁项集,另一个是可以出现在规则右部的元素列表 H\n",
    "    m = len(H[0])\n",
    "    if (len(freqSet) > (m + 1)): #频繁项集元素数目大于单个集合的元素数\n",
    "        Hmp1 = aprioriGen(H, m+1)#存在不同顺序、元素相同的集合，合并具有相同部分的集合\n",
    "        Hmp1 = calcConf(freqSet, Hmp1, supportData, brl, minConf)#计算可信度\n",
    "        if (len(Hmp1) > 1):    #满足最小可信度要求的规则列表多于1,则递归\n",
    "            rulesFromConseq(freqSet, Hmp1, supportData, brl, minConf)"
   ]
  },
  {
   "cell_type": "code",
   "execution_count": 7,
   "metadata": {},
   "outputs": [
    {
     "name": "stdout",
     "output_type": "stream",
     "text": [
      "frozenset({1}) --> frozenset({3}) conf: 1.0\n",
      "frozenset({5}) --> frozenset({2}) conf: 1.0\n",
      "frozenset({2}) --> frozenset({5}) conf: 1.0\n"
     ]
    }
   ],
   "source": [
    "#测试\n",
    "rules=generateRules(L,supportData,minConf=0.7)"
   ]
  },
  {
   "cell_type": "code",
   "execution_count": 8,
   "metadata": {},
   "outputs": [
    {
     "name": "stdout",
     "output_type": "stream",
     "text": [
      "frozenset({3}) --> frozenset({1}) conf: 0.6666666666666666\n",
      "frozenset({1}) --> frozenset({3}) conf: 1.0\n",
      "frozenset({3}) --> frozenset({2}) conf: 0.6666666666666666\n",
      "frozenset({2}) --> frozenset({3}) conf: 0.6666666666666666\n",
      "frozenset({5}) --> frozenset({2}) conf: 1.0\n",
      "frozenset({2}) --> frozenset({5}) conf: 1.0\n",
      "frozenset({5}) --> frozenset({3}) conf: 0.6666666666666666\n",
      "frozenset({3}) --> frozenset({5}) conf: 0.6666666666666666\n",
      "frozenset({5}) --> frozenset({2, 3}) conf: 0.6666666666666666\n",
      "frozenset({3}) --> frozenset({2, 5}) conf: 0.6666666666666666\n",
      "frozenset({2}) --> frozenset({3, 5}) conf: 0.6666666666666666\n"
     ]
    }
   ],
   "source": [
    "rules=generateRules(L,supportData,minConf=0.5)"
   ]
  }
 ],
 "metadata": {
  "kernelspec": {
   "display_name": "Python 3",
   "language": "python",
   "name": "python3"
  },
  "language_info": {
   "codemirror_mode": {
    "name": "ipython",
    "version": 3
   },
   "file_extension": ".py",
   "mimetype": "text/x-python",
   "name": "python",
   "nbconvert_exporter": "python",
   "pygments_lexer": "ipython3",
   "version": "3.7.6"
  }
 },
 "nbformat": 4,
 "nbformat_minor": 2
}
