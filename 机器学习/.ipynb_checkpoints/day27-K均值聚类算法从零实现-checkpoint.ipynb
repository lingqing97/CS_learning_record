{
 "cells": [
  {
   "cell_type": "markdown",
   "metadata": {},
   "source": [
    "### K-均值聚类算法特点\n",
    "\n",
    "* 优点:容易实现\n",
    "* 缺点:可能收敛到局部最小值，在大规模数据上收敛较慢"
   ]
  },
  {
   "cell_type": "markdown",
   "metadata": {},
   "source": [
    "### Sklearn.cluster.Kmeans\n",
    "\n",
    "class sklearn.cluster.KMeans(n_clusters=8, *, init='k-means++', n_init=10, max_iter=300, tol=0.0001,...)\n",
    "\n",
    "常见参数:\n",
    "* n_clusters:即k值\n",
    "* max_iter:最大迭代次数"
   ]
  },
  {
   "cell_type": "markdown",
   "metadata": {},
   "source": [
    "### K-均值聚类算法从零实现\n",
    "\n",
    "* 创建k个点作为起始质心（经常是随机选择）\n",
    "* 当任意一个点的簇分配结果发生改变时\n",
    "    * 对数据集中的每个数据点\n",
    "        * 对每个质心 \n",
    "            * 计算质心与数据点之间的距离 \n",
    "        * 将数据点分配到距其最近的薪 \n",
    "    * 对每一个簇，计算簇中所有点的均值并将均值作为质心"
   ]
  },
  {
   "cell_type": "code",
   "execution_count": 1,
   "metadata": {},
   "outputs": [],
   "source": [
    "import numpy as np\n",
    "import pandas as pd"
   ]
  },
  {
   "cell_type": "code",
   "execution_count": 2,
   "metadata": {},
   "outputs": [],
   "source": [
    "#K-均值聚类支持函数\n",
    "def distEclud(vecA,vecB):\n",
    "    '''\n",
    "    计算两个向量的欧式距离\n",
    "    Args:\n",
    "        vecA:输入向量1\n",
    "        vecB:输入向量2\n",
    "    Returns:\n",
    "        返回欧式距离\n",
    "    '''\n",
    "    return np.sqrt(np.sum((vecA-vecB)**2))\n",
    "\n",
    "def rand_center(data,k):\n",
    "    '''\n",
    "    随机生成k个簇中心\n",
    "    Args:\n",
    "        data:输入数据,shape(m,n)\n",
    "        k:簇中心数量，即k值\n",
    "    Returns:\n",
    "        生成的k个簇中心\n",
    "    '''\n",
    "    n=data.shape[1]\n",
    "    center=np.zeros((k,n))\n",
    "    for i in range(n):\n",
    "        dmin,dmax=np.min(data[:,i]),np.max(data[:,i])\n",
    "        center[:,i]=dmin+(dmax-dmin)*np.random.rand(k)\n",
    "    return center\n",
    "\n",
    "def isCenterChanged(centerA,centerB):\n",
    "    '''\n",
    "    判断两个簇中心是否发生改变\n",
    "    Args:\n",
    "        centerA:簇中心1,shape(k,n)\n",
    "        centerB:簇中心2,shape(k,n)\n",
    "    Returns:\n",
    "        两个簇中心是否相同\n",
    "    '''\n",
    "    set1=set(tuple(c) for c in centerA)\n",
    "    set2=set(tuple(c) for c in centerB)\n",
    "    return (set1==set2)"
   ]
  },
  {
   "cell_type": "code",
   "execution_count": 3,
   "metadata": {},
   "outputs": [],
   "source": [
    "#K-均值聚类算法\n",
    "def Kmeans(data,k,distfunc=distEclud,createCent=rand_center):\n",
    "    '''\n",
    "    K-均值聚类算法实现\n",
    "    Args:\n",
    "        data:输入数据,shape(m,n)\n",
    "        k:簇中心数量\n",
    "        distfunc:距离计算函数，默认为欧式距离\n",
    "        createCent:随机簇生成函数\n",
    "    Returns:\n",
    "        center:输出的簇中心,shape(k,n)\n",
    "        label:每个样本点所在的簇,shape(m,1)\n",
    "        np.sum(assement):误差平方和(SSE)，这里的误差是样本点到簇中心的距离\n",
    "    '''\n",
    "    m=data.shape[0]\n",
    "    #随机生成k个簇中心\n",
    "    center=createCent(data,k)\n",
    "    #记录每个样本点最近的簇中心\n",
    "    label=np.zeros(m,dtype=np.int)\n",
    "    #记录误差\n",
    "    assement=np.zeros(m)\n",
    "    centerChanged=True\n",
    "    while centerChanged:\n",
    "        old_center=center.copy()\n",
    "        for i in range(m):\n",
    "            min_dist,min_index=np.inf,-1\n",
    "            for j in range(k):\n",
    "                #计算每个样本点与簇中心的距离\n",
    "                dist=distfunc(data[i],center[j])\n",
    "                if dist<min_dist:\n",
    "                    min_dist=dist\n",
    "                    min_index=j\n",
    "                    label[i]=j\n",
    "            #这里的误差是当前点到簇中心的距离\n",
    "            assement[i]=distfunc(data[i],center[label[i]])**2\n",
    "        #更新簇中心\n",
    "        for m in range(k):\n",
    "            center[m]=np.mean(data[label==m],axis=0)\n",
    "        #判断簇中心是否发生改变\n",
    "        if isCenterChanged(old_center,center):\n",
    "            centerChanged=False\n",
    "\n",
    "    return center,label,np.sum(assement)"
   ]
  },
  {
   "cell_type": "code",
   "execution_count": 4,
   "metadata": {},
   "outputs": [
    {
     "data": {
      "text/plain": [
       "<matplotlib.collections.PathCollection at 0x124a51090>"
      ]
     },
     "execution_count": 4,
     "metadata": {},
     "output_type": "execute_result"
    },
    {
     "data": {
      "image/png": "[encoded data removed]",
      "text/plain": [
       "<Figure size 432x288 with 1 Axes>"
      ]
     },
     "metadata": {
      "needs_background": "light"
     },
     "output_type": "display_data"
    }
   ],
   "source": [
    "#测试\n",
    "from sklearn import datasets\n",
    "import matplotlib.pyplot as plt\n",
    "iris=datasets.load_iris()\n",
    "X,y=iris.data,iris.target\n",
    "#这里取两个维度，方便可视化\n",
    "data=X[:,[1,3]]\n",
    "plt.scatter(data[:,0],data[:,1])"
   ]
  },
  {
   "cell_type": "code",
   "execution_count": 5,
   "metadata": {},
   "outputs": [],
   "source": [
    "#由于Kmeans受初始随机簇中心的影响，所以多运行几次，取最优值\n",
    "best_assement=np.inf\n",
    "best_center=None\n",
    "best_label=None\n",
    "for i in range(10):\n",
    "    center,label,assement=Kmeans(data,2)\n",
    "    if assement<best_assement:\n",
    "        best_assement=assement\n",
    "        best_center=center\n",
    "        best_label=label\n",
    "\n",
    "data0=data[best_label==0]\n",
    "data1=data[best_label==1]"
   ]
  },
  {
   "cell_type": "code",
   "execution_count": 6,
   "metadata": {},
   "outputs": [
    {
     "data": {
      "image/png": "[encoded data removed]",
      "text/plain": [
       "<Figure size 864x360 with 2 Axes>"
      ]
     },
     "metadata": {
      "needs_background": "light"
     },
     "output_type": "display_data"
    }
   ],
   "source": [
    "fig, (ax1,ax2) = plt.subplots(1,2,figsize=(12,5))\n",
    "ax1.scatter(data[:,0],data[:,1],c='c',s=30,marker='o')\n",
    "ax2.scatter(data0[:,0],data0[:,1],c='r')\n",
    "ax2.scatter(data1[:,0],data1[:,1],c='c')\n",
    "ax2.scatter(center[:,0],center[:,1],c='b',s=120,marker='o')\n",
    "plt.show()"
   ]
  }
 ],
 "metadata": {
  "kernelspec": {
   "display_name": "Python 3",
   "language": "python",
   "name": "python3"
  },
  "language_info": {
   "codemirror_mode": {
    "name": "ipython",
    "version": 3
   },
   "file_extension": ".py",
   "mimetype": "text/x-python",
   "name": "python",
   "nbconvert_exporter": "python",
   "pygments_lexer": "ipython3",
   "version": "3.7.6"
  }
 },
 "nbformat": 4,
 "nbformat_minor": 2
}
