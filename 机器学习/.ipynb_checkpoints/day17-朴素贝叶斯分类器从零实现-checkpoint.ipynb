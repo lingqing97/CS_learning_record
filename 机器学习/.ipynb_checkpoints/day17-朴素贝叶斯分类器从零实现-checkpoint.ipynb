{
 "cells": [
  {
   "cell_type": "markdown",
   "metadata": {},
   "source": [
    "### 前言\n",
    "\n",
    "我们以sklearn自带的鸢尾花数据作为实验数据,以下实现的朴素贝叶斯分类器只能处理连续类型数据。\n",
    "\n",
    "\n",
    "sklearn的鸢尾花数据详细信息可以查看:[sklearn.load_iris](https://scikit-learn.org/stable/modules/generated/sklearn.datasets.load_iris.html)"
   ]
  },
  {
   "cell_type": "markdown",
   "metadata": {},
   "source": [
    "### 朴素贝叶斯分类器从零实现"
   ]
  },
  {
   "cell_type": "code",
   "execution_count": 1,
   "metadata": {},
   "outputs": [],
   "source": [
    "import numpy as np\n",
    "from collections import Counter"
   ]
  },
  {
   "cell_type": "code",
   "execution_count": 2,
   "metadata": {},
   "outputs": [],
   "source": [
    "#实现高斯朴素贝叶斯分类器\n",
    "#参考:https://blog.csdn.net/zhenghaitian/article/details/83830801\n",
    "class GaussianNB():\n",
    "    def __init__(self,lamb=1):\n",
    "        self.lamb=lamb #修正参数，若使用拉普拉斯修正则为1\n",
    "        self.prior=dict() #存储各类的先验概率\n",
    "        self.conditional=dict() #存储条件概率\n",
    "    \n",
    "    def calcGaussian(self,x,label):\n",
    "        '''\n",
    "        计算高斯分布的概率密度\n",
    "        :param x:读取的数据1*n\n",
    "        :param label:类别\n",
    "        :return G:高斯概率密度\n",
    "        '''\n",
    "        exponent = np.exp(-(pow(x-self.conditional[label][0],2)/(2*self.conditional[label][1])))\n",
    "        return (1.0 / np.sqrt(2*np.pi*self.conditional[label][1])) * exponent\n",
    "\n",
    "    def fit(self,data,target):\n",
    "        '''\n",
    "        :param data:训练集m*n,m为样本数，n为特征数,np.array类型\n",
    "        :param target:标签集1*m,np.array类型\n",
    "        :return:不返回任何值\n",
    "        '''\n",
    "        labels=Counter(target)  #统计各类别的样本个数\n",
    "        m,n=data.shape\n",
    "        target=target.reshape((-1,1))\n",
    "        k=len(labels.keys())  #类别数\n",
    "        for label,amount in labels.items():  #计算各类的先验概率\n",
    "            self.prior[label]=(amount+self.lamb)/(m+k*self.lamb)  #进行修正\n",
    "        self.conditional=dict()\n",
    "        for label in labels:#遍历每一类\n",
    "            feature_data=data[target[:,0]==label,:] #获取该类所有数据\n",
    "            feature_mean=np.mean(feature_data,axis=0) #计算该类所有特征各自的均值,即计算每一列均值\n",
    "            feature_var=np.var(feature_data,axis=0) #计算该类所有特征各自的方差,即计算每一列方差\n",
    "            self.conditional[label]=np.vstack((feature_mean,feature_var)) #通过字典存储均值和方差\n",
    "            \n",
    "                    \n",
    "    def predict(self,data):\n",
    "        '''\n",
    "        计算概率时把连乘换成取对数相加，防止下溢（即太多小于1的数相乘，结果会变成0）\n",
    "        :param data:测试集m*n,np.array类型\n",
    "        :return y_pred:返回的预测结果m*1,np.array类型\n",
    "        '''\n",
    "        y_pred=[]\n",
    "        m,n=data.shape\n",
    "        for y in data: #遍历所有样本\n",
    "            best_poster,best_label=-np.inf,-1\n",
    "            for label in self.prior: #计算逐个类别的概率\n",
    "                poster=np.log(self.prior[label]) #类先验概率\n",
    "                prob=self.calcGaussian(y,label)\n",
    "                poster+=np.sum(np.log(prob))\n",
    "                if poster > best_poster: #获取后验概率最大的类别\n",
    "                    best_poster=poster\n",
    "                    best_label=label\n",
    "            y_pred.append(best_label)\n",
    "        \n",
    "        return np.array(y_pred)\n",
    "                    "
   ]
  },
  {
   "cell_type": "code",
   "execution_count": 3,
   "metadata": {},
   "outputs": [
    {
     "name": "stdout",
     "output_type": "stream",
     "text": [
      "[5.1 3.5 1.4 0.2]\n",
      "['setosa' 'versicolor' 'virginica']\n"
     ]
    }
   ],
   "source": [
    "#读取数据集\n",
    "from sklearn import datasets\n",
    "iris=datasets.load_iris()\n",
    "#划分训练集和测试集\n",
    "from sklearn.model_selection import train_test_split\n",
    "X_train,X_test,Y_train,Y_test=train_test_split(iris.data,iris.target,test_size=0.2,random_state=0)\n",
    "print(iris.data[0,:5])\n",
    "print(iris.target_names)"
   ]
  },
  {
   "cell_type": "code",
   "execution_count": 4,
   "metadata": {},
   "outputs": [],
   "source": [
    "#训练模型\n",
    "model=GaussianNB()\n",
    "model.fit(X_train,Y_train)"
   ]
  },
  {
   "cell_type": "code",
   "execution_count": 5,
   "metadata": {},
   "outputs": [],
   "source": [
    "#预测\n",
    "y_pred=model.predict(X_test)"
   ]
  },
  {
   "cell_type": "code",
   "execution_count": 6,
   "metadata": {},
   "outputs": [
    {
     "name": "stdout",
     "output_type": "stream",
     "text": [
      "0.9666666666666667\n"
     ]
    }
   ],
   "source": [
    "#计算正确率\n",
    "accuracy=np.sum((y_pred==Y_test).astype(int))/Y_test.shape[0]\n",
    "print(accuracy)"
   ]
  }
 ],
 "metadata": {
  "kernelspec": {
   "display_name": "Python 3",
   "language": "python",
   "name": "python3"
  },
  "language_info": {
   "codemirror_mode": {
    "name": "ipython",
    "version": 3
   },
   "file_extension": ".py",
   "mimetype": "text/x-python",
   "name": "python",
   "nbconvert_exporter": "python",
   "pygments_lexer": "ipython3",
   "version": "3.7.6"
  }
 },
 "nbformat": 4,
 "nbformat_minor": 2
}
