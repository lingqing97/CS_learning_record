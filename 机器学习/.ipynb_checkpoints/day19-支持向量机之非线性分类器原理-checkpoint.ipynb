{
 "cells": [
  {
   "cell_type": "markdown",
   "metadata": {},
   "source": [
    "### 核方法\n",
    "参考:[白板推机器学习](https://www.bilibili.com/video/BV1Lb411N7Sa)\n",
    "\n",
    "![avatar](../image/机器学习_支持向量机_核方法_图2.jpg)\n",
    "![avatar](../image/机器学习_支持向量机_核方法_图1.jpg)"
   ]
  },
  {
   "cell_type": "markdown",
   "metadata": {},
   "source": [
    "当样本在当前空间线性不可分时，可以通过核技巧来优化。\n",
    "\n",
    "引入核函数有两大作用：\n",
    "1. 将样本映射到高维空间使得样本可分；\n",
    "2. 避免了计算复杂的內积运算，优化了计算量；\n",
    "\n",
    "在SVM中，我们使用的是正定核函数，正定核函数的定义有两个(上图已表明)。\n",
    "\n",
    "若一个核函数是正定核函数则它满足**对称性和正定性。**\n",
    "\n",
    "我们希望样本在特征空间内线性可分，因此特征空间的好坏至关重要. 需注意的是，在不知道特征映射的形式时，我们并不知道什么样的核函数是合适的，而核函数也仅是隐式地定义了这个特征空间。于是，“核区数选择”成为支持向量机的最大变数。若核函数\n",
    "选择不合适，则意味着将样本映射到了一个不合适的特征空间，很可能导致性\n",
    "能不佳.\n",
    "\n",
    "常用的核函数有:\n",
    "![avatar](../image/机器学习_支持向量机_核方法_图3.jpg)"
   ]
  },
  {
   "cell_type": "markdown",
   "metadata": {},
   "source": [
    "前面我们已经知道求解SVM的强对偶问题是:\n",
    "\n",
    "\\begin{array}{ll}\n",
    "\\max_{\\alpha} & L(\\alpha)=\\sum_{i=1}^{n} \\alpha_{i}-\\frac{1}{2} \\sum_{i, j=1}^{n} \\alpha_{i} \\alpha_{j} y_{i} y_{j} x_{i}^{T} x_{j}\\\\\n",
    "\\text { s.t. } & 0 \\le \\alpha_{i} \\le C \\\\\n",
    "& \\Sigma_{i=1}^{m}a_iy_i=0 \\\\\n",
    "\\end{array}\n",
    "\n",
    "通过$\\phi$将样本映射到高维的特征空间,并引入核函数:\n",
    "\n",
    "$$\n",
    "\\kappa\\left(\\boldsymbol{x}_{i}, \\boldsymbol{x}_{j}\\right)=\\left\\langle\\phi\\left(\\boldsymbol{x}_{i}\\right), \\phi\\left(\\boldsymbol{x}_{j}\\right)\\right\\rangle=\\phi\\left(\\boldsymbol{x}_{i}\\right)^{\\mathrm{T}} \\phi\\left(\\boldsymbol{x}_{j}\\right)\n",
    "$$\n",
    "此时，模型可表示为:\n",
    "$$\n",
    "\\begin{aligned}\n",
    "f(\\boldsymbol{x}) &=\\boldsymbol{w}^{\\mathrm{T}} \\phi(\\boldsymbol{x})+b \\\\\n",
    "&=\\sum_{i=1}^{m} \\alpha_{i} y_{i} \\phi\\left(\\boldsymbol{x}_{i}\\right)^{\\mathrm{T}} \\phi(\\boldsymbol{x})+b \\\\\n",
    "&=\\sum_{i=1}^{m} \\alpha_{i} y_{i} \\kappa\\left(\\boldsymbol{x}, \\boldsymbol{x}_{i}\\right)+b\n",
    "\\end{aligned}\n",
    "$$\n",
    "\n",
    "同时强对偶问题可写成:\n",
    "\n",
    "\\begin{array}{ll}\n",
    "\\max_{\\alpha} & L(\\alpha)=\\sum_{i=1}^{n} \\alpha_{i}-\\frac{1}{2} \\sum_{i, j=1}^{n} \\alpha_{i} \\alpha_{j} y_{i} y_{j} \\kappa\\left(\\boldsymbol{x}_{i}, \\boldsymbol{x}_{j}\\right)\\\\\n",
    "\\text { s.t. } & 0 \\le \\alpha_{i} \\le C \\\\\n",
    "& \\Sigma_{i=1}^{m}a_iy_i=0 \\\\\n",
    "\\end{array}"
   ]
  }
 ],
 "metadata": {
  "kernelspec": {
   "display_name": "Python 3",
   "language": "python",
   "name": "python3"
  },
  "language_info": {
   "codemirror_mode": {
    "name": "ipython",
    "version": 3
   },
   "file_extension": ".py",
   "mimetype": "text/x-python",
   "name": "python",
   "nbconvert_exporter": "python",
   "pygments_lexer": "ipython3",
   "version": "3.7.6"
  }
 },
 "nbformat": 4,
 "nbformat_minor": 2
}
