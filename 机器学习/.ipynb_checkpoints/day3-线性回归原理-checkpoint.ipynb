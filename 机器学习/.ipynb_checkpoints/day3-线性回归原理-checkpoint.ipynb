{
 "cells": [
  {
   "cell_type": "markdown",
   "metadata": {},
   "source": [
    "### 线性回归\n",
    "\n",
    "给定数据集D=$\\{(x_1,y_1),(x_2,y_2),...(x_m,y_m)\\}$，其中$x_i=(x_(i1);x_(i2);...;x_(id)),y_i\\in R$.线性回归试图学得一个线性模型以尽可能准确地预测实值输出标记。"
   ]
  },
  {
   "cell_type": "markdown",
   "metadata": {},
   "source": [
    "#### 简单线性回归\n",
    "\n",
    "先考虑最简单的情形:输入属性的数目只有一个。即简化为$D=\\{(x_i,y_i)\\}^m_{i=1}$.\n",
    "\n",
    "线性回归试图学得:\n",
    "$$f(x_i)=wx_i+b,使得f(x_i)约等于y_i$$\n",
    "\n",
    "我们可以基于均方误差来求解，即让均方误差最小化。其中，基于均方误差最小化来进行模型求解的方法称为“最小二乘法”。\n",
    "\n",
    "在当前情形下，均方误差最小化可表示为:\n",
    "$$(w^{*},b^{*})=argmin_{w,b}\\sum^{m}_{i=1}(f(x_i)-y_i)^2$$\n",
    "$$=argmin_{w,b}\\sum^{m}_{i=1}(y_i-wx_i-b)^2$$\n",
    "\n",
    "求解$E_{(w,b)}=\\sum^{m}_{i=1}(y_i-wx_i-b)^2$最小化的过程，称为线性回归模型的最小二乘“参数估计”，将$E_{(w,b)}$分别对w和b求导为零求解最优的闭式解。"
   ]
  },
  {
   "cell_type": "markdown",
   "metadata": {},
   "source": [
    "#### 多元线性回归\n",
    "\n",
    "当样本由d个属性描述时，此时我们试图学得:\n",
    "$$f(x_i)=w^{T}x_i+b，使得f(x_i)约等于y_i$$\n",
    "为了简化问题，我们引入向量，定义如下:\n",
    "$$w=(w_1;w_1;,,,;w_d;b)$$\n",
    "$$X=\\begin{pmatrix}\n",
    "x_{11} & ... & x_{1d} & 1\\\\ \n",
    "x_{21} & ... & x_{2d} & 1\\\\ \n",
    "... & ... & ... & ...\\\\ \n",
    "x_{m1} & ... & x_{md} & 1\n",
    "\\end{pmatrix}=\\begin{pmatrix}\n",
    "x^{T}_1 & 1\\\\ \n",
    "... & 1\\\\ \n",
    "x^{T}_m & 1\n",
    "\\end{pmatrix}$$\n",
    "$$y=(y_1;y_2;...;y_m)$$\n",
    "\n",
    "最小二乘化写成向量形式，有:\n",
    "$$w^{*}=argmin_{w}(y-Xw)^{T}(y-Xw)$$\n",
    "令$E_{w}=(y_Xw)^T(y-Xw)$，对其求导可得:\n",
    "$$\\frac{\\partial E_{w}}{\\partial w}=2X^{T}(Xw-y)$$\n",
    "当$X^{T}X$不为零时(为满秩或正定矩阵)，令其等于零有:\n",
    "$$w=(X^{T}X)^{-1}X^{T}y$$\n",
    "此时学得的多元线性回归模型为:\n",
    "$$f(x_i)=x_i^{T}(X^{T}X)^{-1}X^{T}y$$\n",
    "$X^{T}X$不为满秩或正定矩阵时，有多个解，可由学习算法的归纳偏好决定。"
   ]
  },
  {
   "cell_type": "markdown",
   "metadata": {},
   "source": [
    "### 线性回归推广\n",
    "\n",
    "考虑更一般地情况，令:\n",
    "$$y=g^{-1}(w^T+b)$$\n",
    "这样得到的模型称为广义线性模型，其中的$g(*)$将线性回归模型的预测值与真实标记联系起来，被称为\"联系函数\"。"
   ]
  }
 ],
 "metadata": {
  "kernelspec": {
   "display_name": "Python 3",
   "language": "python",
   "name": "python3"
  },
  "language_info": {
   "codemirror_mode": {
    "name": "ipython",
    "version": 3
   },
   "file_extension": ".py",
   "mimetype": "text/x-python",
   "name": "python",
   "nbconvert_exporter": "python",
   "pygments_lexer": "ipython3",
   "version": "3.7.6"
  }
 },
 "nbformat": 4,
 "nbformat_minor": 2
}
