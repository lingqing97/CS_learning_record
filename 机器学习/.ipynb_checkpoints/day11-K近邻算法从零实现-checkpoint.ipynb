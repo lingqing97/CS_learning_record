{
 "cells": [
  {
   "cell_type": "markdown",
   "metadata": {},
   "source": [
    "### KNN算法流程\n",
    "\n",
    "一般情况下，KNN有如下流程:\n",
    "* 收集数据:确定训练样本集合测试数据；\n",
    "* 计算测试数据和训练样本集中每个样本数据的距离:\n",
    "    * 常用的距离计算公式:\n",
    "        * 欧式距离:$d(x, y)=\\sqrt{\\sum_{i=1}^{n}\\left(x_{i}-y_{i}\\right)^{2}}$\n",
    "        * 曼哈顿距离:$d(x, y)=\\sum_{i=1}^{n}\\left|x_{i}-y_{i}\\right|$\n",
    "* 按照距离递增的顺序排序;\n",
    "* 选取距离最近的k个点；\n",
    "* 确定这k个点中分类信息的频率;\n",
    "* 返回前k个点中出现频率最高的分类，作为当前测试数据的分类。"
   ]
  },
  {
   "cell_type": "markdown",
   "metadata": {},
   "source": [
    "### KNN算法从零实现\n",
    "\n",
    "这里还是以前一天的约会网站为例。"
   ]
  },
  {
   "cell_type": "code",
   "execution_count": 1,
   "metadata": {},
   "outputs": [],
   "source": [
    "import numpy as np\n",
    "import pandas as pd"
   ]
  },
  {
   "cell_type": "code",
   "execution_count": 2,
   "metadata": {},
   "outputs": [],
   "source": [
    "#定义KNN算法模型\n",
    "class KNeighborsClassifier():\n",
    "    #这里选择欧式距离作为距离的定义\n",
    "    def __init__(self,k=3):\n",
    "        self.k=k\n",
    "        self.X=None\n",
    "        self.Y=None\n",
    "    \n",
    "    def fit(self,X,Y):\n",
    "        self.X=X\n",
    "        self.Y=Y\n",
    "    \n",
    "    def predict(self,X_test):\n",
    "        n,m=X_test.shape\n",
    "        dataSetSize=self.X.shape[0]\n",
    "        y_pred=[]\n",
    "        for i in range(n):  #对每个样本单独预测\n",
    "            diff=np.tile(X_test[i],(dataSetSize,1))-self.X\n",
    "            sqDiff=diff**2\n",
    "            sqDistances=np.sum(sqDiff,axis=1)\n",
    "            distances=np.squeeze(sqDistances**0.5)  #计算欧式距离\n",
    "            distancesIndice=distances.argsort()\n",
    "            #选择距离最近的K个值\n",
    "            classCount={}\n",
    "            for i in range(self.k):\n",
    "                label=self.Y[distancesIndice[i]]\n",
    "                classCount[label]=classCount.get(label,0)+1\n",
    "            #排序\n",
    "            sortedClassCount=sorted(classCount.items(),key=lambda item:item[1],reverse=True)\n",
    "            y_pred.append(sortedClassCount[0][0])\n",
    "        \n",
    "        return np.array(y_pred)"
   ]
  },
  {
   "cell_type": "code",
   "execution_count": 3,
   "metadata": {},
   "outputs": [],
   "source": [
    "#读取数据\n",
    "dataset=pd.read_table(\"datasets/datingTestSet.txt\",sep=\"\\t\")\n",
    "X=dataset.iloc[:,:3].values\n",
    "Y=dataset.iloc[:,3].values"
   ]
  },
  {
   "cell_type": "code",
   "execution_count": 4,
   "metadata": {},
   "outputs": [],
   "source": [
    "#将文本数据转为数值数据\n",
    "from sklearn.preprocessing import LabelEncoder,MinMaxScaler\n",
    "encoder=LabelEncoder()\n",
    "Y=encoder.fit_transform(Y)\n",
    "\n",
    "#将训练集数据归一化\n",
    "scaler=MinMaxScaler()\n",
    "X=scaler.fit_transform(X)"
   ]
  },
  {
   "cell_type": "code",
   "execution_count": 5,
   "metadata": {},
   "outputs": [],
   "source": [
    "#划分训练集和测试集\n",
    "from sklearn.model_selection import train_test_split\n",
    "X_train,X_test,Y_train,Y_test=train_test_split(X,Y,test_size=0.2,random_state=0)"
   ]
  },
  {
   "cell_type": "code",
   "execution_count": 6,
   "metadata": {},
   "outputs": [],
   "source": [
    "#训练模型\n",
    "model=KNeighborsClassifier(k=10)\n",
    "model.fit(X_train,Y_train)"
   ]
  },
  {
   "cell_type": "code",
   "execution_count": 7,
   "metadata": {},
   "outputs": [],
   "source": [
    "#预测\n",
    "y_pred=model.predict(X_test)"
   ]
  },
  {
   "cell_type": "code",
   "execution_count": 8,
   "metadata": {},
   "outputs": [
    {
     "name": "stdout",
     "output_type": "stream",
     "text": [
      "[[67  2  1]\n",
      " [ 1 56  3]\n",
      " [ 1  1 68]]\n"
     ]
    }
   ],
   "source": [
    "#结果可视化\n",
    "from sklearn.metrics import confusion_matrix\n",
    "cm=confusion_matrix(Y_test,y_pred)\n",
    "print(cm)"
   ]
  }
 ],
 "metadata": {
  "kernelspec": {
   "display_name": "Python 3",
   "language": "python",
   "name": "python3"
  },
  "language_info": {
   "codemirror_mode": {
    "name": "ipython",
    "version": 3
   },
   "file_extension": ".py",
   "mimetype": "text/x-python",
   "name": "python",
   "nbconvert_exporter": "python",
   "pygments_lexer": "ipython3",
   "version": "3.7.6"
  }
 },
 "nbformat": 4,
 "nbformat_minor": 2
}
