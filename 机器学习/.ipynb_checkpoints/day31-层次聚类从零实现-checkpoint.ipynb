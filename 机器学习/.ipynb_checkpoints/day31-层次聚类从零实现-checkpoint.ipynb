{
 "cells": [
  {
   "cell_type": "markdown",
   "metadata": {},
   "source": [
    "### 前言\n",
    "\n",
    "层次聚类的优缺点:\n",
    "* 优点:\n",
    "    * 距离和规则的相似度容易定义\n",
    "    * 不需要预先指定聚类数\n",
    "* 缺点:\n",
    "    * 计算复杂度太高\n",
    "    * 异常值会产生很大影响"
   ]
  },
  {
   "cell_type": "markdown",
   "metadata": {},
   "source": [
    "### sklearn中的层次聚类\n",
    "\n",
    "class sklearn.cluster.AgglomerativeClustering(n_clusters=2,...,affinity='euclidean',..,linkage='ward', ...)\n",
    "\n",
    "三个重要参数:\n",
    "* n_clusters:用户指定的簇个数\n",
    "* linkage:连接方法，包括最小距离(ward)，最大距离(complete)和平均距离(average)三种方式。\n",
    "* affinity:距离计算方式,默认使用欧式距离。"
   ]
  },
  {
   "cell_type": "markdown",
   "metadata": {},
   "source": [
    "### AGNES算法从零实现"
   ]
  },
  {
   "cell_type": "code",
   "execution_count": 1,
   "metadata": {},
   "outputs": [],
   "source": [
    "import numpy as np\n",
    "import pandas as pd"
   ]
  },
  {
   "cell_type": "code",
   "execution_count": 2,
   "metadata": {},
   "outputs": [],
   "source": [
    "class AGNES():\n",
    "    '''\n",
    "    AGNES算法\n",
    "    '''\n",
    "    def __init__(self,n_cluster=2,linkage='ward'):\n",
    "        self.n_cluster=n_cluster\n",
    "        if linkage=='ward':\n",
    "            #最小距离\n",
    "            self.dist_func=self.dist_min\n",
    "        elif linkage=='complete':\n",
    "            #最大距离\n",
    "            self.dist_func=self.dist_max\n",
    "        elif linkage=='average':\n",
    "            #平均距离\n",
    "            self.dist_func=self.dist_avg\n",
    "        else:\n",
    "            print(\"ERROR!\")\n",
    "    \n",
    "    def dist(self,vecA,vecB):\n",
    "        '''\n",
    "        计算两个向量的欧式距离\n",
    "        Args:\n",
    "            vecA:输入向量A,shape(1,n)\n",
    "            vecB:输入向量B,shape(1,n)\n",
    "        '''\n",
    "        vecA=np.array(vecA)\n",
    "        vecB=np.array(vecB)\n",
    "        return np.sqrt(np.sum((vecA-vecB)**2))\n",
    "    \n",
    "    def dist_min(self,Ci,Cj):\n",
    "        '''\n",
    "        计算两个簇的最小距离\n",
    "        Args:\n",
    "            Ci:簇i,shape(x,n)\n",
    "            Cj:簇j,shape(y,n)\n",
    "        '''\n",
    "        return np.min([self.dist(i,j) for i in Ci for j in Cj])\n",
    "    \n",
    "    def dist_max(self,Ci,Cj):\n",
    "        '''\n",
    "        计算两个簇的最大距离\n",
    "        '''\n",
    "        return np.max([self.dist(i,j) for i in Ci for j in Cj])\n",
    "    \n",
    "    def dist_avg(self,Ci,Cj):\n",
    "        '''\n",
    "        计算两个簇的平均距离\n",
    "        '''\n",
    "        return np.sqrt(np.sum([self.dist(i,j) for i in Ci for j in Cj]))\n",
    "    \n",
    "    def find_min(self,M):\n",
    "        '''\n",
    "        查找距离最近的两个簇\n",
    "        Args:\n",
    "            M:距离矩阵,shape(m,m)\n",
    "        Returns:\n",
    "            x:x下标\n",
    "            y:y下标\n",
    "            min_dist:最小距离\n",
    "        '''\n",
    "        min_dist=np.inf\n",
    "        for i in range(len(M)):\n",
    "            for j in range(len(M[i])):\n",
    "                if i!=j and M[i][j]<min_dist:\n",
    "                    min_dist=M[i][j]\n",
    "                    x=i\n",
    "                    y=j\n",
    "        return x,y,min_dist\n",
    "    \n",
    "    def fit(self,data):\n",
    "        '''\n",
    "        AGNES核心函数\n",
    "        Args:\n",
    "            data:输入数据,shape(m,n)\n",
    "        Returns:\n",
    "            C:聚类后的结果\n",
    "        '''\n",
    "        m,n=data.shape\n",
    "        C=[]\n",
    "        #step1:每个样本单独初始化为一个簇\n",
    "        for i in range(m):\n",
    "            C.append([data[i]])\n",
    "        M=[]\n",
    "        #step2:初始化距离矩阵\n",
    "        for Ci in C:\n",
    "            Mi=[]\n",
    "            for Cj in C:\n",
    "                Mi.append(self.dist_func(Ci,Cj))\n",
    "            M.append(Mi)\n",
    "        k=self.n_cluster\n",
    "        #step3:将簇不断合并\n",
    "        while m>k:\n",
    "            #step4:找到距离最近的两个簇\n",
    "            x,y,min_dist=self.find_min(M)\n",
    "            C[x].extend(C[y])\n",
    "            C.pop(y)\n",
    "            #step5:重新计算距离矩阵\n",
    "            M=[]\n",
    "            for Ci in C:\n",
    "                Mi=[]\n",
    "                for Cj in C:\n",
    "                    Mi.append(self.dist_func(Ci,Cj))\n",
    "                M.append(Mi)\n",
    "            m=m-1\n",
    "        return C"
   ]
  },
  {
   "cell_type": "code",
   "execution_count": 3,
   "metadata": {},
   "outputs": [
    {
     "data": {
      "text/plain": [
       "<matplotlib.collections.PathCollection at 0x121c65fd0>"
      ]
     },
     "execution_count": 3,
     "metadata": {},
     "output_type": "execute_result"
    },
    {
     "data": {
      "image/png": "[encoded data removed]",
      "text/plain": [
       "<Figure size 432x288 with 1 Axes>"
      ]
     },
     "metadata": {
      "needs_background": "light"
     },
     "output_type": "display_data"
    }
   ],
   "source": [
    "from sklearn import datasets\n",
    "import matplotlib.pyplot as plt\n",
    "\n",
    "iris=datasets.load_iris()\n",
    "X,y=iris.data,iris.target\n",
    "#为了方便可视化，这里取两个维度\n",
    "data=X[:,[1,3]]\n",
    "plt.scatter(data[:,0],data[:,1])"
   ]
  },
  {
   "cell_type": "code",
   "execution_count": 4,
   "metadata": {},
   "outputs": [],
   "source": [
    "#层次聚类\n",
    "model=AGNES(2)\n",
    "C=model.fit(data)"
   ]
  },
  {
   "cell_type": "code",
   "execution_count": 5,
   "metadata": {},
   "outputs": [
    {
     "data": {
      "image/png": "[encoded data removed]",
      "text/plain": [
       "<Figure size 864x360 with 2 Axes>"
      ]
     },
     "metadata": {
      "needs_background": "light"
     },
     "output_type": "display_data"
    }
   ],
   "source": [
    "data0=np.array(C[0])\n",
    "data1=np.array(C[1])\n",
    "fig, (ax1,ax2) = plt.subplots(1,2,figsize=(12,5))\n",
    "ax1.scatter(data[:,0],data[:,1],c='c',s=30,marker='o')\n",
    "ax2.scatter(data0[:,0],data0[:,1],c='r')\n",
    "ax2.scatter(data1[:,0],data1[:,1],c='c')\n",
    "plt.show()"
   ]
  },
  {
   "cell_type": "markdown",
   "metadata": {},
   "source": [
    "从结果可以看出，层次聚类对当前数据集聚类的效果较好，但是计算量太大，耗时较长。"
   ]
  }
 ],
 "metadata": {
  "kernelspec": {
   "display_name": "Python 3",
   "language": "python",
   "name": "python3"
  },
  "language_info": {
   "codemirror_mode": {
    "name": "ipython",
    "version": 3
   },
   "file_extension": ".py",
   "mimetype": "text/x-python",
   "name": "python",
   "nbconvert_exporter": "python",
   "pygments_lexer": "ipython3",
   "version": "3.7.6"
  }
 },
 "nbformat": 4,
 "nbformat_minor": 2
}
