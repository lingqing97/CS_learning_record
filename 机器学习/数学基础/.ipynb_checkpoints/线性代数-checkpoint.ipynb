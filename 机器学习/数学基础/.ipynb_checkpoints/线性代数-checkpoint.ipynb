{
 "cells": [
  {
   "cell_type": "markdown",
   "metadata": {},
   "source": [
    "### 标量、向量、矩阵和张量\n",
    "\n",
    "* 标量(scalar)：一个标量就是一个单独的数。\n",
    "\n",
    "* 向量(vector):一个向量是一列数，含有n个数的向量记为$\\boldsymbol{A} \\in \\mathbb{R}^{n}$,表示为:\n",
    "$$\n",
    "\\boldsymbol{x}=\\left[\\begin{array}{c}\n",
    "x_{1} \\\\\n",
    "x_{2} \\\\\n",
    "\\vdots \\\\\n",
    "x_{n}\n",
    "\\end{array}\\right]\n",
    "$$\n",
    "\n",
    "* 矩阵(matrix):矩阵是一个二维数组，含有m * n个元素的矩阵记为$\n",
    "\\boldsymbol{A} \\in \\mathbb{R}^{m \\times n}\n",
    "$，表示为:\n",
    "$$\n",
    "\\left[\\begin{array}{ll}\n",
    "A_{1,1} & A_{1,2} \\\\\n",
    "A_{2,1} & A_{2,2}\n",
    "\\end{array}\\right]\n",
    "$$\n",
    "\n",
    "* 张量(tensor)：超过二维的数组称为张量。\n"
   ]
  },
  {
   "cell_type": "markdown",
   "metadata": {},
   "source": [
    "### 矩阵和向量乘积\n",
    "\n",
    "两个矩阵A和B的**矩阵乘积**定义为矩阵乘法：\n",
    "$$\n",
    "C_{i, j}=\\sum_{k} A_{i, k} B_{k, j}\n",
    "$$\n",
    "两个矩阵对应元素的乘积称为**矩阵点乘**，记为$A \\odot B$。\n",
    "\n",
    "两个相同维数的向量x和y的**点积**(dot product)可看作是矩阵乘积$\\boldsymbol{x}^{\\top} \\boldsymbol{y}$.\n",
    "\n",
    "#### 常用性质\n",
    "\n",
    "矩阵乘积服从分配律和结合律（**但不满足交换律**）:\n",
    "$$\n",
    "\\begin{array}{c}\n",
    "A(B+C)=A B+A C \\\\\n",
    "A(B C)=(A B) C\n",
    "\\end{array}\n",
    "$$\n",
    "\n",
    "两个向量的点积满足交换律:\n",
    "$$\n",
    "\\boldsymbol{x}^{\\top} \\boldsymbol{y}=\\boldsymbol{y}^{\\top} \\boldsymbol{x}\n",
    "$$\n",
    "\n",
    "矩阵乘积的转置满足:\n",
    "$$\n",
    "(\\boldsymbol{A} \\boldsymbol{B})^{\\top}=\\boldsymbol{B}^{\\top} \\boldsymbol{A}^{\\top}\n",
    "$$"
   ]
  },
  {
   "cell_type": "markdown",
   "metadata": {},
   "source": [
    "### 矩阵的逆\n",
    "\n",
    "矩阵A的逆矩阵记作$A^{-1}$,其定义为:\n",
    "$$\n",
    "\\boldsymbol{A}^{-1} \\boldsymbol{A}=\\boldsymbol{I}_{n}\n",
    "$$\n",
    "\n",
    "一个矩阵A的逆矩阵不一定存在。"
   ]
  }
 ],
 "metadata": {
  "kernelspec": {
   "display_name": "Python 3",
   "language": "python",
   "name": "python3"
  },
  "language_info": {
   "codemirror_mode": {
    "name": "ipython",
    "version": 3
   },
   "file_extension": ".py",
   "mimetype": "text/x-python",
   "name": "python",
   "nbconvert_exporter": "python",
   "pygments_lexer": "ipython3",
   "version": "3.7.6"
  }
 },
 "nbformat": 4,
 "nbformat_minor": 2
}
