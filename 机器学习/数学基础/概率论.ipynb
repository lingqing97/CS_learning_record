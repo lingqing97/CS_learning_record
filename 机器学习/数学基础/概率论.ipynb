{
 "cells": [
  {
   "cell_type": "markdown",
   "metadata": {},
   "source": [
    "### 条件概率\n",
    "\n",
    "一般讲，条件概率就是在附加一定的条件之下所计算的概率。当说到“条件概率”时，总是指另外附加的条件，其形式可归结为“已知某事件发生了”。\n",
    "定义\n",
    "\n",
    "设有两事件 A , B 而 $P(B) \\neq 0 .$ 则“在给定$B$发生的条件下A的条件概率”,记为 $P(A \\mid B),$ 定义为\n",
    "$$\n",
    "P(A\\mid B)=P(AB)/P(B)\n",
    "$$"
   ]
  },
  {
   "cell_type": "markdown",
   "metadata": {},
   "source": [
    "### 全概率\n",
    "\n",
    "设 $B_{1}, B_{2}, \\cdots$ 为有限或无限个事件, 它们两两互斥且在每次试验中至少发生一个.用式表之，即\n",
    "$$\n",
    "B_{i} B_{j}=\\varnothing(\\text { 不可能事件 }), \\text { 当 } i \\neq j\n",
    "$$\n",
    "$$\n",
    "B_{1}+B_{2}+\\cdots=\\Omega(\\text { 必然事件 })\n",
    "$$\n",
    "有时把具有这些性质的一组事件称为一个“完备事件群”注意，任 一事件 B 及其对立事件组成一个完备事件群。\n",
    "现考虑任一事件 A.因 $\\Omega$ 为必然事件,有 $A=A \\Omega=A B_{1}+$\n",
    "$A B_{2}+\\cdots$. 因 $B_{1}, B_{2}, \\cdots$ 两两互斥,显然 $A B_{1}, A B_{2}, \\cdots$ 也两两互斥.\n",
    "故依加法定理，有\n",
    "$$\n",
    "P(A)=P\\left(A B_{1}\\right)+P\\left(A B_{2}\\right)+\\cdots\n",
    "$$\n",
    "再由条件概率的定义,有 $P\\left(A B_{i}\\right)=P\\left(B_{i}\\right) P\\left(A \\mid B_{i}\\right)$.代入上式得\n",
    "$$\n",
    "P(A)=P\\left(B_{1}\\right) P\\left(A \\mid B_{1}\\right)+P\\left(B_{2}\\right) P\\left(A \\mid B_{2}\\right)+\\cdots\n",
    "$$\n",
    "公式(3.18)就称为“全概率公式”.这名称的来由."
   ]
  },
  {
   "cell_type": "markdown",
   "metadata": {},
   "source": [
    "### 贝叶斯公式\n",
    "\n",
    "在全概率公式的假定之下，有\n",
    "$$\n",
    "\\begin{aligned}\n",
    "P(B_{i} \\mid A) &=P\\left(A B_{i}\\right) / P(A) \\\\\n",
    "&=P\\left(B_{i}\\right) P\\left(A \\mid B_{i}\\right) / \\sum_{j} P\\left(B_{j}\\right) P\\left(A \\mid B_{j}\\right)\n",
    "\\end{aligned}\n",
    "$$\n",
    "这个公式就叫做贝叶斯公式，是概率论中的一个著名的公式.\n",
    "\n",
    "如果我们把事件 A 看成“结果”,把诸事件 $B_{1}, B_{2}, \\cdots$ 看成导 致这结果的可能的“原因”,则可以形象地把**全概率公式看作成为\n",
    "\"由原因推结果”**;而**贝叶斯公式则恰好相反,其作用在于“由结果推原因”**:现在有一个“结果”A 已发生了，在众多可能的“原因”\n",
    "中，到底是哪一个导致了这结果？这是一个在日常生活和科学技术中常要问到的问题. 贝叶斯公式说，各原因可能性大小与 $P\\left(B_{i}\\right.$\n",
    "| A ) 成比例.\n",
    "\n",
    "先验概率是指根据以往经验和分析得到的概率,如全概率公式,它往往作为\"由因求果\"问题中的\"因\"出现.\n",
    "后验概率是指依据得到\"结果\"信息所计算出的最有可能是那种事件发生,如贝叶斯公式中的,是\"执果寻因\"问题中的\"因\".\n",
    "\n",
    "假设我们由两个盒⼦，⼀个红⾊的，⼀\n",
    "个蓝⾊的，红盒⼦中有2个苹果和6个橘⼦，蓝盒⼦中有3个苹果和1个橘⼦（如图1.9所⽰）。现在假定我们随机选择⼀个盒⼦，从这个盒⼦中我们随机选择⼀个⽔果，观察⼀下选择了哪种⽔果，然后放回盒⼦中。假设我们重复这个过程很多次。假设我们在40%的时间中选择红盒⼦，在60%的时间中选择蓝盒⼦，并且我们选择盒⼦中的⽔果时是等可能选择的。\n",
    "\n",
    "如果在我们知道⽔果的种类之前，有⼈问我们哪个盒⼦被选中，那么我们能够得到的最多的信息就是概率$p(B)$。我们把这个叫做先验概率,因为它是在我们观察到⽔果种类之前就能够得到的概率。⼀旦我们知道⽔果是橘⼦，我们就能够使⽤贝叶斯定理来计算概率$p(B|F)$。这个被称为后验概率,因为它是我们观察到F之后的概率。"
   ]
  }
 ],
 "metadata": {
  "kernelspec": {
   "display_name": "Python 3",
   "language": "python",
   "name": "python3"
  },
  "language_info": {
   "codemirror_mode": {
    "name": "ipython",
    "version": 3
   },
   "file_extension": ".py",
   "mimetype": "text/x-python",
   "name": "python",
   "nbconvert_exporter": "python",
   "pygments_lexer": "ipython3",
   "version": "3.7.6"
  }
 },
 "nbformat": 4,
 "nbformat_minor": 2
}
