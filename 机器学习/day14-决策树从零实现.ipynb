{
 "cells": [
  {
   "cell_type": "markdown",
   "metadata": {},
   "source": [
    "### 前言\n",
    "\n",
    "决策树的优缺点如下:\n",
    "* 优点：计算复杂度不高，输出结果易于理解，对中间值的缺少不敏感，可以处理不相关特征数据\n",
    "* 缺点：可能会产生过度匹配问题\n",
    "\n",
    "本次将实现一个简易的ID3决策树算法。ID3决策树依据信息增益选择最优划分属性。\n",
    "\n",
    "下面实现的决策树只能处理离散数据。"
   ]
  },
  {
   "cell_type": "markdown",
   "metadata": {},
   "source": [
    "### ID3决策树从零实现"
   ]
  },
  {
   "cell_type": "code",
   "execution_count": 1,
   "metadata": {},
   "outputs": [],
   "source": [
    "import numpy as np\n",
    "import pandas as pd\n",
    "import matplotlib.pyplot as plt"
   ]
  },
  {
   "cell_type": "code",
   "execution_count": 2,
   "metadata": {},
   "outputs": [],
   "source": [
    "#计算信息熵\n",
    "#信息熵越小，代表划分的数据集纯度越高\n",
    "def calcEnt(dataset):\n",
    "    n,m=dataset.shape\n",
    "    labelCounts={}\n",
    "    for i in range(n):\n",
    "        currentLabel=dataset[i][-1]#取最后一列键值\n",
    "        if currentLabel not in labelCounts.keys():\n",
    "            labelCounts[currentLabel]=0\n",
    "        labelCounts[currentLabel]+=1\n",
    "    Ent=0.0\n",
    "    for key in labelCounts:\n",
    "        prob=float(labelCounts[key])/n\n",
    "        Ent-=prob*np.log2(prob)#计算信息熵\n",
    "    return Ent"
   ]
  },
  {
   "cell_type": "code",
   "execution_count": 3,
   "metadata": {},
   "outputs": [
    {
     "name": "stdout",
     "output_type": "stream",
     "text": [
      "0.9709505944546686\n"
     ]
    }
   ],
   "source": [
    "#测试计算信息熵\n",
    "#mydata中每一行的最后一列代表类别\n",
    "mydata=np.array([[1,1,1],\n",
    "                [1,1,1],\n",
    "                [1,0,0],\n",
    "                [0,1,0],\n",
    "                [0,1,0]])\n",
    "print(calcEnt(mydata))"
   ]
  },
  {
   "cell_type": "code",
   "execution_count": 4,
   "metadata": {},
   "outputs": [],
   "source": [
    "#划分数据集\n",
    "def splitDataset(dataset,axis,value):#带划分的数据集 数据集特征 需要返回的特征值\n",
    "    dataset=dataset[dataset[:,axis]==value]\n",
    "    return np.delete(dataset,axis,axis=1) #返回包含当前属性的数据集"
   ]
  },
  {
   "cell_type": "code",
   "execution_count": 5,
   "metadata": {},
   "outputs": [
    {
     "name": "stdout",
     "output_type": "stream",
     "text": [
      "[[1 1]\n",
      " [1 1]\n",
      " [0 0]]\n"
     ]
    }
   ],
   "source": [
    "#测试划分数据\n",
    "print(splitDataset(mydata,0,1))"
   ]
  },
  {
   "cell_type": "code",
   "execution_count": 6,
   "metadata": {},
   "outputs": [],
   "source": [
    "#选择最优的属性划分\n",
    "def chooseBestFeature(dataset):  #dataset每一行的最后一个元素是类别标签\n",
    "    numFeatures=dataset.shape[1]-1  #获取特征数量\n",
    "    bestEnt=calcEnt(dataset)\n",
    "    bestGain=0.0\n",
    "    bestFeature=-1\n",
    "    for i in range(numFeatures):\n",
    "        featData=dataset[:,i]\n",
    "        uniqueVals=np.unique(featData)  #获取当前属性的所有取值\n",
    "        newEnt=0.0\n",
    "        for value in uniqueVals:  #遍历所有可能的取值\n",
    "            subDataset=splitDataset(dataset,i,value)\n",
    "            prob=subDataset.shape[0]/float(dataset.shape[0])\n",
    "            newEnt+=prob*calcEnt(subDataset)\n",
    "        infoGain=bestEnt-newEnt #计算信息增益\n",
    "        if(infoGain>bestGain):\n",
    "            bestGain=infoGain\n",
    "            bestFeature=i\n",
    "    return bestFeature"
   ]
  },
  {
   "cell_type": "code",
   "execution_count": 7,
   "metadata": {},
   "outputs": [
    {
     "name": "stdout",
     "output_type": "stream",
     "text": [
      "0\n"
     ]
    }
   ],
   "source": [
    "#测试划分最优属性\n",
    "mydata\n",
    "print(chooseBestFeature(mydata))"
   ]
  },
  {
   "cell_type": "code",
   "execution_count": 8,
   "metadata": {},
   "outputs": [],
   "source": [
    "#递归创建决策树\n",
    "#递归的终止条件:\n",
    "#      1.当前样本的类别标签完全相同，此时直接返回该类标签\n",
    "#      2.使用完了所有特征，仍然不能将数据划分成仅包含位移类别的分组\n",
    "#         此时挑选出现次数最多的类别作为返回值\n",
    "def majorityCnt(classList):#classList的shape为(n,1)\n",
    "    return np.argmax(np.bincount(np.squeeze(classList)))\n",
    "    \n",
    "def createTree(dataset,labels):#dataset每一行的最优一列元素是类别标签，labels是属性列表\n",
    "    classList=dataset[:,-1]\n",
    "    if classList[classList==classList[0]].shape[0]==classList.shape[0]:\n",
    "        return classList[0]  #类别完全相同则停止继续划分\n",
    "    if dataset.shape[1]==1:\n",
    "        return majorityCnt(classList) #遍历完所有特征时返回出现次数最多的\n",
    "    #创建树\n",
    "    bestFeat=chooseBestFeature(dataset)\n",
    "    bestFeatLabel=labels[bestFeat]\n",
    "    myTree={bestFeatLabel:{}}  #通过字典构造数\n",
    "    subLabels=np.delete(labels,bestFeat)  #删除当前属性\n",
    "    uniqueVals=np.unique(dataset[:,bestFeat]) #获取属性的所有可能取值\n",
    "    for value in uniqueVals:\n",
    "        myTree[bestFeatLabel][value]=createTree(splitDataset(dataset,bestFeat,value),subLabels)\n",
    "    \n",
    "    return myTree"
   ]
  },
  {
   "cell_type": "code",
   "execution_count": 9,
   "metadata": {},
   "outputs": [
    {
     "name": "stdout",
     "output_type": "stream",
     "text": [
      "[[1 1 1]\n",
      " [1 1 1]\n",
      " [1 0 0]\n",
      " [0 1 0]\n",
      " [0 1 0]]\n",
      "['no surfacing' 'flippers']\n",
      "{'no surfacing': {0: 0, 1: {'flippers': {0: 0, 1: 1}}}}\n"
     ]
    }
   ],
   "source": [
    "#测试构建决策树\n",
    "labels=np.array(['no surfacing','flippers'])\n",
    "print(mydata)\n",
    "print(labels)\n",
    "myTree=createTree(mydata,labels)\n",
    "print(myTree)"
   ]
  },
  {
   "cell_type": "code",
   "execution_count": 10,
   "metadata": {},
   "outputs": [],
   "source": [
    "#使用决策树进行分类\n",
    "def classifier(inputTree,featLabels,testVec):\n",
    "    firstStr=list(inputTree.keys())[0]\n",
    "    secondDict=inputTree[firstStr]   #决策树下一层\n",
    "    featIndex=np.where(featLabels==firstStr)[0][0]\n",
    "    for key in secondDict.keys():\n",
    "        if testVec[featIndex]==key:  #该特征值等于当前key,往下走\n",
    "            if type(secondDict[key]).__name__=='dict':  #若为树结构\n",
    "                classLabel=classifier(secondDict[key],featLabels,testVec)\n",
    "            else:\n",
    "                classLabel=secondDict[key]  #为叶子节点\n",
    "    return classLabel\n"
   ]
  },
  {
   "cell_type": "code",
   "execution_count": 11,
   "metadata": {},
   "outputs": [
    {
     "name": "stdout",
     "output_type": "stream",
     "text": [
      "yes\n"
     ]
    }
   ],
   "source": [
    "#测试用决策树分类\n",
    "if classifier(myTree,labels,[1,1])== 1:\n",
    "    print(\"yes\")\n",
    "else:\n",
    "    print(\"no\")"
   ]
  }
 ],
 "metadata": {
  "kernelspec": {
   "display_name": "Python 3",
   "language": "python",
   "name": "python3"
  },
  "language_info": {
   "codemirror_mode": {
    "name": "ipython",
    "version": 3
   },
   "file_extension": ".py",
   "mimetype": "text/x-python",
   "name": "python",
   "nbconvert_exporter": "python",
   "pygments_lexer": "ipython3",
   "version": "3.7.6"
  }
 },
 "nbformat": 4,
 "nbformat_minor": 2
}
