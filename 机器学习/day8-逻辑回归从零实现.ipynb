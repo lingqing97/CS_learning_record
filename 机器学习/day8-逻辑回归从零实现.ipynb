{
 "cells": [
  {
   "cell_type": "markdown",
   "metadata": {},
   "source": [
    "### 前言\n",
    "\n",
    "前面我们已经介绍了通过梯度下降法来求解逻辑回归的闭式解的形式:\n",
    "$$\\beta \\leftarrow \\beta-\\gamma \\triangledown J(\\beta)$$\n",
    "$$\\triangledown J(\\beta)=(y-h_{\\beta}(x))*x$$\n",
    "其中$h_{\\beta}(x)$为:\n",
    "$$h_{\\beta}(x)=\\frac{e^{\\beta^T\\hat{x}}}{1+e^{\\beta^T\\hat{x}}}$$\n",
    "\n",
    "**逻辑回归的本质是线性分类，也就是通过一条直线将样本划分为两类。**"
   ]
  },
  {
   "cell_type": "markdown",
   "metadata": {},
   "source": [
    "### 从零实现逻辑回归"
   ]
  },
  {
   "cell_type": "code",
   "execution_count": 1,
   "metadata": {},
   "outputs": [],
   "source": [
    "import numpy as np\n",
    "import pandas as pd"
   ]
  },
  {
   "cell_type": "code",
   "execution_count": 2,
   "metadata": {},
   "outputs": [],
   "source": [
    "#定义逻辑回归模型\n",
    "class LogisticRegression():\n",
    "    def __init__(self,lr=0.0001,epoch=500):\n",
    "        self.w=None\n",
    "        self.lr=lr  #学习率\n",
    "        self.epoch=epoch   #迭代次数\n",
    "        \n",
    "    def sigmoid(self,X):\n",
    "        return 1/(1.0+np.exp(-X))\n",
    "    \n",
    "    def fit(self,X,Y):\n",
    "        m,n=X.shape\n",
    "        self.w=np.ones((n,1))\n",
    "        Y=Y.reshape((-1,1))#转为列向量\n",
    "        for k in range(self.epoch):\n",
    "            h=self.sigmoid(X.dot(self.w))\n",
    "            error=(Y-h)\n",
    "            self.w=self.w-self.lr*(X.T.dot(error))\n",
    "    \n",
    "    def predict(self,X):\n",
    "        y_pred=self.sigmoid(X.dot(self.w))\n",
    "        return np.squeeze(np.round(y_pred).reshape((1,-1)))  #对结果四舍五入"
   ]
  },
  {
   "cell_type": "code",
   "execution_count": 3,
   "metadata": {},
   "outputs": [],
   "source": [
    "#读取数据\n",
    "dataset=pd.read_csv(\"datasets/Social_Network_Ads.csv\")\n",
    "X=dataset.iloc[:,[2,3]].values\n",
    "Y=dataset.iloc[:,4].values"
   ]
  },
  {
   "cell_type": "code",
   "execution_count": 4,
   "metadata": {},
   "outputs": [],
   "source": [
    "#划分训练集和测试集\n",
    "from sklearn.model_selection import train_test_split\n",
    "X_train,X_test,Y_train,Y_test=train_test_split(X,Y,test_size=0.2,random_state=0)"
   ]
  },
  {
   "cell_type": "code",
   "execution_count": 5,
   "metadata": {},
   "outputs": [],
   "source": [
    "#标准化数据\n",
    "from sklearn.preprocessing import StandardScaler\n",
    "scaler=StandardScaler()\n",
    "X_train=scaler.fit_transform(X_train)\n",
    "X_test=scaler.transform(X_test)"
   ]
  },
  {
   "cell_type": "code",
   "execution_count": 6,
   "metadata": {},
   "outputs": [],
   "source": [
    "#训练模型\n",
    "model=LogisticRegression()\n",
    "model.fit(X_train,Y_train)"
   ]
  },
  {
   "cell_type": "code",
   "execution_count": 7,
   "metadata": {},
   "outputs": [
    {
     "name": "stdout",
     "output_type": "stream",
     "text": [
      "[1. 0. 1. 1. 1. 1. 1. 1. 1. 0. 1. 1. 0. 0. 1. 1. 1. 1. 0. 0. 1. 0. 0. 0.\n",
      " 1. 0. 1. 1. 1. 1. 1. 1. 0. 0. 1. 1. 1. 1. 1. 0. 1. 0. 1. 0. 0. 1. 1. 0.\n",
      " 1. 0. 0. 1. 1. 1. 0. 0. 1. 1. 0. 1. 1. 0. 1. 1. 1. 0. 1. 1. 0. 0. 1. 1.\n",
      " 1. 0. 1. 1. 0. 0. 0. 0.]\n"
     ]
    }
   ],
   "source": [
    "#预测\n",
    "y_pred=model.predict(X_test)\n",
    "print(y_pred)"
   ]
  },
  {
   "cell_type": "code",
   "execution_count": 8,
   "metadata": {},
   "outputs": [
    {
     "name": "stdout",
     "output_type": "stream",
     "text": [
      "[[13 45]\n",
      " [18  4]]\n"
     ]
    }
   ],
   "source": [
    "#可视化\n",
    "from sklearn.metrics import confusion_matrix\n",
    "cm=confusion_matrix(Y_test,y_pred)\n",
    "print(cm)"
   ]
  },
  {
   "cell_type": "markdown",
   "metadata": {},
   "source": [
    "### 使用随机梯度下降法来优化\n",
    "\n",
    "从上述结果可以看出，使用随机梯度下降法在数据量较多时，复杂度较大，所以我们通过随机梯度下降法来优化。\n",
    "\n",
    "随机梯度下降法即**每次仅用一个样本来回归系数。**"
   ]
  }
 ],
 "metadata": {
  "kernelspec": {
   "display_name": "Python 3",
   "language": "python",
   "name": "python3"
  },
  "language_info": {
   "codemirror_mode": {
    "name": "ipython",
    "version": 3
   },
   "file_extension": ".py",
   "mimetype": "text/x-python",
   "name": "python",
   "nbconvert_exporter": "python",
   "pygments_lexer": "ipython3",
   "version": "3.7.6"
  }
 },
 "nbformat": 4,
 "nbformat_minor": 2
}
