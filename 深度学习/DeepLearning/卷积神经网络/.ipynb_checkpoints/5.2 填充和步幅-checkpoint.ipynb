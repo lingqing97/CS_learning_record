{
 "cells": [
  {
   "cell_type": "markdown",
   "metadata": {},
   "source": [
    "### 填充和步幅\n",
    "\n",
    "填充(padding)是指在输入高和宽的两侧填充元素(通常是0元素)。\n",
    "\n",
    "我们将卷积核每次滑动的行数和列数称为步幅(stride).\n",
    "\n",
    "为了表达简洁，当输入的高和宽两侧的填充数分别为$p_h$和$p_w$,我们称填充为($p_h$,$p_w$)。特别地，当$p_h$=$p_w$=p时，填充为p.当在高和宽上的步幅分别为$s_h$和$s_w$时，我们称步幅为($s_h$,$s_w$)。特别地，当$s_h$=$s_w$=s时，步幅为s。默认情况下，填充为0，步幅为1。\n",
    "\n",
    "假设输入的形状为($n_h$,$n_w$)，卷积核大小为($k_h$,$k_w$),则输出形状为:\n",
    "$(n_h-k_h+p_h+s_h)/s_h * (n_w-k_w+p_w+s_w)/s_w$"
   ]
  },
  {
   "cell_type": "markdown",
   "metadata": {},
   "source": [
    "torch.nn.Conv2d(in_channels, out_channels, kernel_size, stride=1, padding=0, dilation=1, groups=1, bias=True, padding_mode='zeros')\n",
    "\n",
    "* in_channels:输入通道数\n",
    "* out_channels:输入通道数\n",
    "* kernel_size:卷积核大小\n",
    "* stride:步幅，可以是int也可以是tuple\n",
    "* padding:填充,可以是int也可以是tuple"
   ]
  },
  {
   "cell_type": "code",
   "execution_count": 2,
   "metadata": {},
   "outputs": [],
   "source": [
    "#例子\n",
    "import torch\n",
    "from torch import nn\n",
    "\n",
    "#定义一个函数来计算卷积层，它对输入和输出做相应的升维和降维\n",
    "def comp_conv2d(conv2d,X):\n",
    "    #(1,1)代表批量大小和通道数\n",
    "    X=X.view((1,1)+X.shape)\n",
    "    Y=conv2d(X)\n",
    "    return Y.view(Y.shape[2:])#排除不关心的前两维:批量和通道"
   ]
  },
  {
   "cell_type": "code",
   "execution_count": 4,
   "metadata": {},
   "outputs": [
    {
     "data": {
      "text/plain": [
       "torch.Size([8, 8])"
      ]
     },
     "execution_count": 4,
     "metadata": {},
     "output_type": "execute_result"
    }
   ],
   "source": [
    "#注意这里是两侧分别填充1行和1列，所以在两侧一共填充2行和2列\n",
    "conv2d=nn.Conv2d(in_channels=1,out_channels=1,kernel_size=3,padding=1)\n",
    "\n",
    "X=torch.rand(8,8)\n",
    "comp_conv2d(conv2d,X).shape"
   ]
  },
  {
   "cell_type": "code",
   "execution_count": 5,
   "metadata": {},
   "outputs": [
    {
     "data": {
      "text/plain": [
       "torch.Size([8, 8])"
      ]
     },
     "execution_count": 5,
     "metadata": {},
     "output_type": "execute_result"
    }
   ],
   "source": [
    "#使用高为5,宽为3的卷积核。在高和宽两侧的填充数分别为2和1\n",
    "conv2d=nn.Conv2d(in_channels=1,out_channels=1,kernel_size=(5,3),padding=(2,1))\n",
    "\n",
    "comp_conv2d(conv2d,X).shape"
   ]
  },
  {
   "cell_type": "code",
   "execution_count": 7,
   "metadata": {},
   "outputs": [
    {
     "data": {
      "text/plain": [
       "torch.Size([2, 2])"
      ]
     },
     "execution_count": 7,
     "metadata": {},
     "output_type": "execute_result"
    }
   ],
   "source": [
    "conv2d=nn.Conv2d(in_channels=1,out_channels=1,kernel_size=(3,5),padding=(0,1),stride=(3,4))\n",
    "\n",
    "comp_conv2d(conv2d,X).shape"
   ]
  }
 ],
 "metadata": {
  "kernelspec": {
   "display_name": "Python 3",
   "language": "python",
   "name": "python3"
  },
  "language_info": {
   "codemirror_mode": {
    "name": "ipython",
    "version": 3
   },
   "file_extension": ".py",
   "mimetype": "text/x-python",
   "name": "python",
   "nbconvert_exporter": "python",
   "pygments_lexer": "ipython3",
   "version": "3.7.0"
  }
 },
 "nbformat": 4,
 "nbformat_minor": 2
}
