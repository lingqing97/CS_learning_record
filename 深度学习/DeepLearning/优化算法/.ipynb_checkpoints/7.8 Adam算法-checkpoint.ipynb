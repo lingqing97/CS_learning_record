{
 "cells": [
  {
   "cell_type": "markdown",
   "metadata": {},
   "source": [
    "### Adam算法\n",
    "\n",
    "Adam算法可以看做是RMSProp算法和动量法的结合。\n",
    "\n",
    "Adam算法使用了动量变量$v_t$和RMSProp算法中的状态变量$s_t$.\n",
    "\n",
    "对于动量变量$v_t$,时间步为0时将它初始化为0，给定超参数$0 \\le \\beta_1 \\le 1$(算法作者建议设为0.9),时间步为t时，有\n",
    "\n",
    "$v_t \\leftarrow \\beta_1 v_{t-1}+(1-\\beta_1)g_t$\n",
    "\n",
    "对于状态变量$s_t$,时间步为0时将它初始化为0，给定超参数$0 \\le \\beta_2 \\le 1$(算法作者建议0.999),时间步为t时，有\n",
    "\n",
    "$s_t \\leftarrow \\beta_2 s_{t-1}+(1-\\beta_2)g_t \\bigodot g_t$\n",
    "\n",
    "当t较小时，过去各时间步小批量随机梯度权值之和会较小，为了消除这样的影响，在Adam中使用了偏差修正，即\n",
    "\n",
    "$v_t \\leftarrow \\frac{v_t}{1-\\beta_1^{t}}$\n",
    "\n",
    "$s_t \\leftarrow \\frac{s_t}{1-\\beta_2^{t}}$\n",
    "\n",
    "接下来计算$g_t^{'}$\n",
    "\n",
    "$g_t^{'} \\leftarrow \\frac{\\eta v_t}{\\sqrt{s_t+eps}}$\n",
    "\n",
    "最后迭代更新时有:\n",
    "\n",
    "$x_t \\leftarrow x_{t-1}-g_t^{'}$"
   ]
  },
  {
   "cell_type": "markdown",
   "metadata": {},
   "source": [
    "### 从零实现"
   ]
  },
  {
   "cell_type": "code",
   "execution_count": 1,
   "metadata": {},
   "outputs": [],
   "source": [
    "import utils\n",
    "import torch\n",
    "\n",
    "def init_adam_states():\n",
    "    v_w,v_b=torch.zeros((features.shape[1],1),dtype=torch.float32),torch.zeros(1,dtype=torch.float32)\n",
    "    s_w,s_b=torch.zeros((features.shape[1],1),dtype=torch.float32),torch.zeros(1,dtype=torch.float32)\n",
    "    return ((v_w,v_b),(s_w,s_b))\n",
    "\n",
    "def adam(params,states,hyperparams):\n",
    "    beta1,beta2,eps=0.9,0.999,1e-6\n",
    "    for p,(v,s) in zip(params,states):\n",
    "        v[:]=beta1*v+(1-beta1)*p.grad.data\n",
    "        s[:]=beta2*s+(1-beta2)*p.grad.data**2\n",
    "        v_bias_corr=v/(1-beta1**hyperparams['t'])\n",
    "        s_bias_corr=s/(1-beta2**hyperparams['t'])\n",
    "        p.data-=hyperparams['lr']*v_bias_corr/(torch.sqrt(s_bias_corr)+eps)\n",
    "    hyperparams['t']+=1\n",
    "    "
   ]
  },
  {
   "cell_type": "code",
   "execution_count": null,
   "metadata": {},
   "outputs": [],
   "source": [
    "utils.train_ch7(adam,init_adam_states(),{'lr':0.01,'t':1},features,labels)"
   ]
  },
  {
   "cell_type": "markdown",
   "metadata": {},
   "source": [
    "### 简洁实现"
   ]
  },
  {
   "cell_type": "code",
   "execution_count": null,
   "metadata": {},
   "outputs": [],
   "source": [
    "utils.train_pytorch_ch7(torch.optim.Adam,{'lr':0.01},features,labels)"
   ]
  }
 ],
 "metadata": {
  "kernelspec": {
   "display_name": "Python 3",
   "language": "python",
   "name": "python3"
  },
  "language_info": {
   "codemirror_mode": {
    "name": "ipython",
    "version": 3
   },
   "file_extension": ".py",
   "mimetype": "text/x-python",
   "name": "python",
   "nbconvert_exporter": "python",
   "pygments_lexer": "ipython3",
   "version": "3.7.0"
  }
 },
 "nbformat": 4,
 "nbformat_minor": 2
}
