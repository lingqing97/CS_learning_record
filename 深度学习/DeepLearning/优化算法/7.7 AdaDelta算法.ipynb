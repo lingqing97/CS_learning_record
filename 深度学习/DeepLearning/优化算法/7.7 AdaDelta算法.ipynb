{
 "cells": [
  {
   "cell_type": "markdown",
   "metadata": {},
   "source": [
    "### AdaDelta算法\n",
    "\n",
    "AdaDelta算法也定义了状态变量$s_t$,给定超参数$0 \\le \\rho \\le 1$(相当于RMSProp算法中的$\\gamma$):\n",
    "\n",
    "$s_t \\leftarrow \\rho s_{t-1}+(1-\\rho)g_t \\bigodot g_t$\n",
    "\n",
    "与RMSProp算法不同，AdaDelta维护额外的状态变量$\\vartriangle x_t$,其在时间步为0时被初始化为0\n",
    "\n",
    "$g_t^{'} \\leftarrow \\sqrt{\\frac{\\vartriangle x_{t-1} + eps}{s_t+eps}}\\bigodot g_t$\n",
    "\n",
    "其中eps是为了维持数值稳定性而添加的常数，如$10^{-5}$,接着更新自变量:\n",
    "\n",
    "$x_t \\leftarrow x_{t-1}-g_t^{'}$\n",
    "\n",
    "最后更新$\\vartriangle x_t$\n",
    "\n",
    "$\\vartriangle x_t \\leftarrow \\rho \\vartriangle x_{t-1}+(1-\\rho) g_t^{'}\\bigodot g_t^{'}$\n",
    "\n",
    "**AdaDelta算法跟RMSProp算法的不同之处在于使用$\\sqrt{\\vartriangle x_{t-1}}$来代替学习率$\\eta$**"
   ]
  },
  {
   "cell_type": "markdown",
   "metadata": {},
   "source": [
    "### 简洁实现\n",
    "\n",
    "Pytorch实现了名为AdaDelta的优化器，它的超参数可以通过rho来指定"
   ]
  },
  {
   "cell_type": "code",
   "execution_count": null,
   "metadata": {},
   "outputs": [],
   "source": [
    "utils.train_pytorch_ch7(torch.optim.AdaDelta,{'rho':0.9},features,labels)"
   ]
  }
 ],
 "metadata": {
  "kernelspec": {
   "display_name": "Python 3",
   "language": "python",
   "name": "python3"
  },
  "language_info": {
   "codemirror_mode": {
    "name": "ipython",
    "version": 3
   },
   "file_extension": ".py",
   "mimetype": "text/x-python",
   "name": "python",
   "nbconvert_exporter": "python",
   "pygments_lexer": "ipython3",
   "version": "3.7.0"
  }
 },
 "nbformat": 4,
 "nbformat_minor": 2
}
