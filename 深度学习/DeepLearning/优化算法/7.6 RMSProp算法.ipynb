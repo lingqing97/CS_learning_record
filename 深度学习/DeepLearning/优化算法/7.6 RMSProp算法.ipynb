{
 "cells": [
  {
   "cell_type": "markdown",
   "metadata": {},
   "source": [
    "### RMSProp算法\n",
    "\n",
    "当学习率在迭代早期降得较快且当前解依然不佳时，AdaGrad算法在迭代后期由于学习率过小，可能较难找到一个有用的解。RMSProp算法对AdaGrad算法做了一点小小的修改。\n",
    "\n",
    "RMSProp算法将梯度按元素平方做指数加权移动平均，给定超产生$0 \\le \\gamma \\le 1$,RMSProp算法在时间步$t>0$计算\n",
    "\n",
    "$s_t \\leftarrow \\gamma s_{t-1}+(1-\\gamma)g_t \\bigodot g_t$\n",
    "\n",
    "迭代时更新自变量为:\n",
    "\n",
    "$x_t \\leftarrow x_{t-1}-\\frac{\\eta}{\\sqrt{s_t+eps}}\\bigodot g_t$\n",
    "\n",
    "其中$\\eta$是学习率，eps是为了维持数值稳定性而添加的常数，如$10^{-6}$\n",
    "\n",
    "状态变量$s_t$可以看做是最近$\\frac{1}{1-\\gamma}$个时间步的小批量随机梯度平方项的加权平均，如此一来，自变量每个元素的学习率在迭代过程中就不再一直降低(或不变)"
   ]
  },
  {
   "cell_type": "markdown",
   "metadata": {},
   "source": [
    "### 从零开始实现"
   ]
  },
  {
   "cell_type": "code",
   "execution_count": 1,
   "metadata": {},
   "outputs": [],
   "source": [
    "import utils\n",
    "import torch\n",
    "features,labels=utils.get_data_ch7()\n",
    "\n",
    "def init_rmsprop_states():\n",
    "    s_w=torch.zeros((features.shape[1],1),dtype=torch.float32)\n",
    "    s_b=torch.zeros(1,dtype=torch.float32)\n",
    "    return (s_w,s_b)\n",
    "\n",
    "def rmsprop(params,states,hyperparams):\n",
    "    gamma,eps=hyperparams['gamma'],1e-6\n",
    "    for p,s in zip(params,states):\n",
    "        s.data=gamma*s.data+(1-gamma)*(p.grad.data**2)\n",
    "        p.data-=hyperparams['lr']*p.grad.data/torch.sqrt(s+eps)"
   ]
  },
  {
   "cell_type": "code",
   "execution_count": null,
   "metadata": {},
   "outputs": [],
   "source": [
    "utils.train_ch7(rmsprop,init_rmsprop_states(),{'lr':0.01,'gamma':0.9},features,labels)"
   ]
  },
  {
   "cell_type": "markdown",
   "metadata": {},
   "source": [
    "### 简洁实现\n",
    "\n",
    "Pytorch实现了名为RMSProp的优化器方法，其中超参数$\\gamma$通过alpha指定"
   ]
  },
  {
   "cell_type": "code",
   "execution_count": null,
   "metadata": {},
   "outputs": [],
   "source": [
    "utils.train_pytorch_ch7(torch.optim.RMSProp,{'lr':0.01,'alpha':0.9},features,labels)"
   ]
  }
 ],
 "metadata": {
  "kernelspec": {
   "display_name": "Python 3",
   "language": "python",
   "name": "python3"
  },
  "language_info": {
   "codemirror_mode": {
    "name": "ipython",
    "version": 3
   },
   "file_extension": ".py",
   "mimetype": "text/x-python",
   "name": "python",
   "nbconvert_exporter": "python",
   "pygments_lexer": "ipython3",
   "version": "3.7.0"
  }
 },
 "nbformat": 4,
 "nbformat_minor": 2
}
