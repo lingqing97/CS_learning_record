{
 "cells": [
  {
   "cell_type": "markdown",
   "metadata": {},
   "source": [
    "### AdaGrad算法\n",
    "\n",
    "**AdaGrad算法，它根据自变量在每个维度的梯度值的大小来调整各个维度上的学习率，从而避免统一的学习率难以适应所有维度的问题。**\n",
    "\n",
    "AdaGrad算法首先定义了一个累加变量$s_t$,在时间步为0时，AdaGrad将$s_0$中每个元素初始化为0.在时间步t，授信啊将小批量随机梯度$g_t$按元素平方后累加到变量$s_t$:\n",
    "\n",
    "$s_t \\leftarrow s_{t-1}+g_t \\bigodot g_t$\n",
    "\n",
    "之后迭代过程为:\n",
    "\n",
    "$x_t \\leftarrow x_{t-1}-\\frac{\\eta}{\\sqrt{s_t}+eps}\\bigodot g_t$\n",
    "\n",
    "其中$\\eta$是学习率，eps是为了维持数值稳定性而添加的常数，如$10^{-6}$.这里开方、除法和乘法的运算都是按元素运算的。这些按元素运算使得目标函数自变量中每个元素都分别拥有自己的学习率，及每个维度的学习率都会自动调整。\n",
    "\n",
    "如果目标函数有关自变量中某个元素的偏导数一直都较大，那么该元素的学习率将下降较快；反之，如果目标函数有关自变量中某个元素的偏导数一直都较小，那么该元素的学习率将下降较慢。\n",
    "\n",
    "**由于$s_t$一直在累加按元素平方的梯度，自变量中每个元素的学习率在迭代过程中一直在降低（或不变）。所以，当学习率在迭代早期降得较快且当前解依然不佳时，AdaGrad算法在迭代后期由于学习率过小，可能较难找到一个有用的解。**"
   ]
  },
  {
   "cell_type": "markdown",
   "metadata": {},
   "source": [
    "### 从零开始实现"
   ]
  },
  {
   "cell_type": "code",
   "execution_count": 1,
   "metadata": {},
   "outputs": [],
   "source": [
    "import torch\n",
    "import utils"
   ]
  },
  {
   "cell_type": "code",
   "execution_count": 2,
   "metadata": {},
   "outputs": [],
   "source": [
    "\n",
    "features,labels=utils.get_data_ch7()\n",
    "\n",
    "def init_adagrad_states():\n",
    "    s_w=torch.zeros((features.shape[1],1),dtype=torch.float32)\n",
    "    s_b=torch.zeros(1,dtype=torch.float32)\n",
    "    return (s_w,s_b)\n",
    "\n",
    "def adagrad(params,states,hyperparams):\n",
    "    pes=1e-6\n",
    "    for p,s in zip(params,states):\n",
    "        s.data+=(p.grad.data**2)\n",
    "        p.data-=hyperparams['lr']*p.grad.data/torch.sqrt(s+eps)"
   ]
  },
  {
   "cell_type": "markdown",
   "metadata": {},
   "source": [
    "### 简洁实现\n",
    "\n",
    "在Pytorch中实现了Adagrad优化器，直接调用即可。"
   ]
  },
  {
   "cell_type": "code",
   "execution_count": null,
   "metadata": {},
   "outputs": [],
   "source": [
    "utils.train_pytorch_ch7(torch.optim.Adagrad, {'lr': 0.1}, features, labels)"
   ]
  }
 ],
 "metadata": {
  "kernelspec": {
   "display_name": "Python 3",
   "language": "python",
   "name": "python3"
  },
  "language_info": {
   "codemirror_mode": {
    "name": "ipython",
    "version": 3
   },
   "file_extension": ".py",
   "mimetype": "text/x-python",
   "name": "python",
   "nbconvert_exporter": "python",
   "pygments_lexer": "ipython3",
   "version": "3.8.3"
  }
 },
 "nbformat": 4,
 "nbformat_minor": 2
}
