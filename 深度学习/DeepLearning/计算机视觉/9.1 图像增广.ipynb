{
 "cells": [
  {
   "cell_type": "markdown",
   "metadata": {},
   "source": [
    "### 图像增广\n",
    "\n",
    "图像增广(image augmentation)技术通过对训练图像做一系列随机改变，来产生相似但又不同的训练样本，从而扩大训练数据集的规模。"
   ]
  },
  {
   "cell_type": "markdown",
   "metadata": {},
   "source": [
    "### Pytorch中包的使用\n",
    "\n",
    "在Pytorch中，我们可以使用torchvision.transforms对图像进行操作。\n",
    "\n",
    "#### 翻转和裁剪\n",
    "\n",
    "torchvision.transforms.RandomHorizontalFlip(p=0.5)\n",
    "\n",
    "默认以一半概率的图像水平(左右)翻转\n",
    "\n",
    "torchvision.transforms.RandomVerticalFlip(p=0.5)\n",
    "\n",
    "默认以一半概率的图像垂直(上下)翻转\n",
    "\n",
    "torchvision.transforms.RandomResizedCrop(size,scale=(0.08,1.0),ratio=(0.75,1.3333333333),interpolation=2)\n",
    "\n",
    "将给定的PIL图像随机裁剪为给定的size和比例ratio\n",
    "\n",
    "参数说明:\n",
    "* size:输出的图像大小\n",
    "* scale:裁剪出的原图像占原图像的百分比\n",
    "* ratio:裁剪出的原图像的宽高比\n",
    "\n",
    "\n",
    "#### 变化颜色\n",
    "\n",
    "torchvision.transforms.ColorJitter(brightness=0.5)\n",
    "\n",
    "将图像的亮度随机变化为原图亮度的50%~150%\n",
    "\n",
    "torchvision.transforms.ColorJitter(hue=0.5)\n",
    "\n",
    "随机变化图像的色调\n",
    "\n",
    "torchvision.transforms.ColorJitter(contrast=0.5)\n",
    "\n",
    "随机变化图像的对比度\n",
    "\n",
    "torchvision.transforms.ColorJitter(brightness=0.5,contrast=0.5,saturation=0.5,hue=0.5)\n",
    "\n",
    "同时随机改变图像的亮度、对比度、饱和度和色调\n",
    "\n",
    "#### 叠加多个图像增广方法\n",
    "\n",
    "实际应用中我们会将多个图像增广方法叠加使用，我们使用Compose将定义的图像增广方法叠加，再应用到每张图像上。"
   ]
  },
  {
   "cell_type": "code",
   "execution_count": null,
   "metadata": {},
   "outputs": [],
   "source": [
    "shape_aug=torchvision.transforms.RandomResizeCrop(200,scale=(0.1,1),ratio=(0.5,2))\n",
    "color_aug=torchvision.transforms.ColorJitter(brightness=0.5,contrast=0.5,saturation=0.5,hue=0.5)\n",
    "\n",
    "augs=torchvision.transforms.Comose(\n",
    "    [\n",
    "        torchvision.transforms.RandomHorizonFlip(),\n",
    "        color_aug,\n",
    "        shape_aug\n",
    "    ]\n",
    ")\n",
    "\n",
    "augs(img)"
   ]
  }
 ],
 "metadata": {
  "kernelspec": {
   "display_name": "Python 3",
   "language": "python",
   "name": "python3"
  },
  "language_info": {
   "codemirror_mode": {
    "name": "ipython",
    "version": 3
   },
   "file_extension": ".py",
   "mimetype": "text/x-python",
   "name": "python",
   "nbconvert_exporter": "python",
   "pygments_lexer": "ipython3",
   "version": "3.7.0"
  }
 },
 "nbformat": 4,
 "nbformat_minor": 2
}
