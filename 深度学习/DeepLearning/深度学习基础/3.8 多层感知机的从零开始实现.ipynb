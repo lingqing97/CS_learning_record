{
 "cells": [
  {
   "cell_type": "markdown",
   "metadata": {},
   "source": [
    "### 多层感知机的从零开始实现"
   ]
  },
  {
   "cell_type": "markdown",
   "metadata": {},
   "source": [
    "#### 获取和读取数据"
   ]
  },
  {
   "cell_type": "code",
   "execution_count": 1,
   "metadata": {},
   "outputs": [],
   "source": [
    "import torch\n",
    "import numpy as np\n",
    "import utils"
   ]
  },
  {
   "cell_type": "code",
   "execution_count": 2,
   "metadata": {},
   "outputs": [],
   "source": [
    "batch_size=256\n",
    "train_iter,test_iter=utils.load_data_fashion_mnist(batch_size)"
   ]
  },
  {
   "cell_type": "markdown",
   "metadata": {},
   "source": [
    "#### 定义模型参数\n",
    "\n",
    "Fashion-MNIST数据集中图像形状28x28,类别数为10。本节中我们依然使用长度为28x28=784的向量表示每一张图像。因此，输入个数为784，输出个数为10.实验中，我们设超参数隐藏单元个数为256."
   ]
  },
  {
   "cell_type": "code",
   "execution_count": 5,
   "metadata": {},
   "outputs": [],
   "source": [
    "num_inputs=784\n",
    "num_outputs=10\n",
    "num_hiddens=256\n",
    "\n",
    "W1=torch.tensor(np.random.normal(0,0.01,(num_inputs,num_hiddens)),dtype=torch.float32)\n",
    "b1=torch.zeros(num_hiddens,dtype=torch.float32)\n",
    "W2=torch.tensor(np.random.normal(0,0.01,(num_hiddens,num_outputs)),dtype=torch.float32)\n",
    "b2=torch.zeros(num_outputs,dtype=torch.float32)\n",
    "\n",
    "params=[W1,b1,W2,b2]\n",
    "for param in params:\n",
    "    param.requires_grad_(True)"
   ]
  },
  {
   "cell_type": "markdown",
   "metadata": {},
   "source": [
    "#### 定义激活函数\n",
    "\n",
    "这里我们使用基础的max函数来实现ReLU，而非直接调用relu函数。\n",
    "\n",
    "torch.max(input,other,out=None):返回输入张量所有元素的最大值\n",
    "\n",
    "参数:\n",
    "* input(Tensor):输入张量\n",
    "* other(Tensor):用于比较的张量\n",
    "* out(Tensor):结果张量"
   ]
  },
  {
   "cell_type": "code",
   "execution_count": 6,
   "metadata": {},
   "outputs": [],
   "source": [
    "def relu(X):\n",
    "    return torch.max(input=X,other=torch.tensor(0.0))"
   ]
  },
  {
   "cell_type": "markdown",
   "metadata": {},
   "source": [
    "#### 定义模型\n",
    "\n",
    "同softmax回归一样，我们通过view函数将每张原始图像改成长度为num_inputs的向量。然后我们实现上一节中多层感知机的计算表达式。"
   ]
  },
  {
   "cell_type": "code",
   "execution_count": 7,
   "metadata": {},
   "outputs": [],
   "source": [
    "def net(X):\n",
    "    X=X.view((-1,num_inputs))\n",
    "    H=relu(torch.mm(X,W1)+b1)\n",
    "    return torch.mm(H,W2)+b2"
   ]
  },
  {
   "cell_type": "markdown",
   "metadata": {},
   "source": [
    "#### 定义损失函数\n",
    "为了得到更好的数值稳定性,我们直接使用PyTorch提供的交叉熵损失计算函数。"
   ]
  },
  {
   "cell_type": "code",
   "execution_count": 8,
   "metadata": {},
   "outputs": [],
   "source": [
    "loss=torch.nn.CrossEntropyLoss()"
   ]
  },
  {
   "cell_type": "markdown",
   "metadata": {},
   "source": [
    "#### 训练模型\n",
    "\n",
    "训练过程和训练softmax回归没什么区别。"
   ]
  },
  {
   "cell_type": "code",
   "execution_count": 9,
   "metadata": {},
   "outputs": [
    {
     "name": "stdout",
     "output_type": "stream",
     "text": [
      "epoch 1,loss 0.0030,train acc0.714,test acc 0.789\n",
      "epoch 2,loss 0.0019,train acc0.821,test acc 0.805\n",
      "epoch 3,loss 0.0017,train acc0.842,test acc 0.828\n",
      "epoch 4,loss 0.0015,train acc0.856,test acc 0.824\n",
      "epoch 5,loss 0.0015,train acc0.863,test acc 0.847\n"
     ]
    }
   ],
   "source": [
    "num_epochs,lr=5,100\n",
    "utils.train_ch3(net, train_iter, test_iter, loss, num_epochs, batch_size, params, lr)"
   ]
  }
 ],
 "metadata": {
  "kernelspec": {
   "display_name": "Python 3",
   "language": "python",
   "name": "python3"
  },
  "language_info": {
   "codemirror_mode": {
    "name": "ipython",
    "version": 3
   },
   "file_extension": ".py",
   "mimetype": "text/x-python",
   "name": "python",
   "nbconvert_exporter": "python",
   "pygments_lexer": "ipython3",
   "version": "3.8.3"
  }
 },
 "nbformat": 4,
 "nbformat_minor": 2
}
