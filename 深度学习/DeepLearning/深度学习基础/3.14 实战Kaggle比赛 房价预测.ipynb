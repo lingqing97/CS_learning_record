{
 "cells": [
  {
   "cell_type": "code",
   "execution_count": 1,
   "metadata": {},
   "outputs": [],
   "source": [
    "%matplotlib inline\n",
    "import torch\n",
    "import torch.nn as nn\n",
    "import numpy as np\n",
    "import pandas as pd\n",
    "import sys\n",
    "import utils"
   ]
  },
  {
   "cell_type": "code",
   "execution_count": 3,
   "metadata": {},
   "outputs": [
    {
     "name": "stdout",
     "output_type": "stream",
     "text": [
      "1.3.1\n"
     ]
    }
   ],
   "source": [
    "print(torch.__version__)\n",
    "torch.set_default_tensor_type(torch.FloatTensor)"
   ]
  },
  {
   "cell_type": "code",
   "execution_count": 4,
   "metadata": {},
   "outputs": [],
   "source": [
    "#读取csv文件\n",
    "train_data=pd.read_csv('/home/wushukun/jupyterHome/remotePython/DeepLearning/Dataset/house-prices-advanced-regression-techniques/train.csv')\n",
    "test_data=pd.read_csv('/home/wushukun/jupyterHome/remotePython/DeepLearning/Dataset/house-prices-advanced-regression-techniques/test.csv')"
   ]
  },
  {
   "cell_type": "code",
   "execution_count": 27,
   "metadata": {},
   "outputs": [
    {
     "data": {
      "text/plain": [
       "(1460, 81)"
      ]
     },
     "execution_count": 27,
     "metadata": {},
     "output_type": "execute_result"
    }
   ],
   "source": [
    "#训练数据包含1460个样本、80个特征和1个标签\n",
    "train_data.shape"
   ]
  },
  {
   "cell_type": "code",
   "execution_count": 6,
   "metadata": {},
   "outputs": [
    {
     "data": {
      "text/plain": [
       "(1459, 80)"
      ]
     },
     "execution_count": 6,
     "metadata": {},
     "output_type": "execute_result"
    }
   ],
   "source": [
    "test_data.shape#训练数据比测试数据多了SalePrice这个属性"
   ]
  },
  {
   "cell_type": "code",
   "execution_count": 10,
   "metadata": {},
   "outputs": [
    {
     "data": {
      "text/html": [
       "<div>\n",
       "<style scoped>\n",
       "    .dataframe tbody tr th:only-of-type {\n",
       "        vertical-align: middle;\n",
       "    }\n",
       "\n",
       "    .dataframe tbody tr th {\n",
       "        vertical-align: top;\n",
       "    }\n",
       "\n",
       "    .dataframe thead th {\n",
       "        text-align: right;\n",
       "    }\n",
       "</style>\n",
       "<table border=\"1\" class=\"dataframe\">\n",
       "  <thead>\n",
       "    <tr style=\"text-align: right;\">\n",
       "      <th></th>\n",
       "      <th>Id</th>\n",
       "      <th>MSSubClass</th>\n",
       "      <th>MSZoning</th>\n",
       "      <th>LotFrontage</th>\n",
       "      <th>SaleType</th>\n",
       "      <th>SaleType</th>\n",
       "    </tr>\n",
       "  </thead>\n",
       "  <tbody>\n",
       "    <tr>\n",
       "      <th>0</th>\n",
       "      <td>1</td>\n",
       "      <td>60</td>\n",
       "      <td>RL</td>\n",
       "      <td>65.0</td>\n",
       "      <td>WD</td>\n",
       "      <td>WD</td>\n",
       "    </tr>\n",
       "    <tr>\n",
       "      <th>1</th>\n",
       "      <td>2</td>\n",
       "      <td>20</td>\n",
       "      <td>RL</td>\n",
       "      <td>80.0</td>\n",
       "      <td>WD</td>\n",
       "      <td>WD</td>\n",
       "    </tr>\n",
       "    <tr>\n",
       "      <th>2</th>\n",
       "      <td>3</td>\n",
       "      <td>60</td>\n",
       "      <td>RL</td>\n",
       "      <td>68.0</td>\n",
       "      <td>WD</td>\n",
       "      <td>WD</td>\n",
       "    </tr>\n",
       "    <tr>\n",
       "      <th>3</th>\n",
       "      <td>4</td>\n",
       "      <td>70</td>\n",
       "      <td>RL</td>\n",
       "      <td>60.0</td>\n",
       "      <td>WD</td>\n",
       "      <td>WD</td>\n",
       "    </tr>\n",
       "  </tbody>\n",
       "</table>\n",
       "</div>"
      ],
      "text/plain": [
       "   Id  MSSubClass MSZoning  LotFrontage SaleType SaleType\n",
       "0   1          60       RL         65.0       WD       WD\n",
       "1   2          20       RL         80.0       WD       WD\n",
       "2   3          60       RL         68.0       WD       WD\n",
       "3   4          70       RL         60.0       WD       WD"
      ]
     },
     "execution_count": 10,
     "metadata": {},
     "output_type": "execute_result"
    }
   ],
   "source": [
    "#查看前4个样本的特征\n",
    "train_data.iloc[0:4,[0,1,2,3,-3,-2 -1]]\n"
   ]
  },
  {
   "cell_type": "code",
   "execution_count": 13,
   "metadata": {},
   "outputs": [
    {
     "data": {
      "text/html": [
       "<div>\n",
       "<style scoped>\n",
       "    .dataframe tbody tr th:only-of-type {\n",
       "        vertical-align: middle;\n",
       "    }\n",
       "\n",
       "    .dataframe tbody tr th {\n",
       "        vertical-align: top;\n",
       "    }\n",
       "\n",
       "    .dataframe thead th {\n",
       "        text-align: right;\n",
       "    }\n",
       "</style>\n",
       "<table border=\"1\" class=\"dataframe\">\n",
       "  <thead>\n",
       "    <tr style=\"text-align: right;\">\n",
       "      <th></th>\n",
       "      <th>Id</th>\n",
       "      <th>MSSubClass</th>\n",
       "      <th>MSZoning</th>\n",
       "      <th>LotFrontage</th>\n",
       "      <th>YrSold</th>\n",
       "      <th>YrSold</th>\n",
       "    </tr>\n",
       "  </thead>\n",
       "  <tbody>\n",
       "    <tr>\n",
       "      <th>0</th>\n",
       "      <td>1461</td>\n",
       "      <td>20</td>\n",
       "      <td>RH</td>\n",
       "      <td>80.0</td>\n",
       "      <td>2010</td>\n",
       "      <td>2010</td>\n",
       "    </tr>\n",
       "    <tr>\n",
       "      <th>1</th>\n",
       "      <td>1462</td>\n",
       "      <td>20</td>\n",
       "      <td>RL</td>\n",
       "      <td>81.0</td>\n",
       "      <td>2010</td>\n",
       "      <td>2010</td>\n",
       "    </tr>\n",
       "    <tr>\n",
       "      <th>2</th>\n",
       "      <td>1463</td>\n",
       "      <td>60</td>\n",
       "      <td>RL</td>\n",
       "      <td>74.0</td>\n",
       "      <td>2010</td>\n",
       "      <td>2010</td>\n",
       "    </tr>\n",
       "    <tr>\n",
       "      <th>3</th>\n",
       "      <td>1464</td>\n",
       "      <td>60</td>\n",
       "      <td>RL</td>\n",
       "      <td>78.0</td>\n",
       "      <td>2010</td>\n",
       "      <td>2010</td>\n",
       "    </tr>\n",
       "  </tbody>\n",
       "</table>\n",
       "</div>"
      ],
      "text/plain": [
       "     Id  MSSubClass MSZoning  LotFrontage  YrSold  YrSold\n",
       "0  1461          20       RH         80.0    2010    2010\n",
       "1  1462          20       RL         81.0    2010    2010\n",
       "2  1463          60       RL         74.0    2010    2010\n",
       "3  1464          60       RL         78.0    2010    2010"
      ]
     },
     "execution_count": 13,
     "metadata": {},
     "output_type": "execute_result"
    }
   ],
   "source": [
    "test_data.iloc[0:4,[0,1,2,3,-3,-2 -1]]"
   ]
  },
  {
   "cell_type": "code",
   "execution_count": 14,
   "metadata": {},
   "outputs": [],
   "source": [
    "#由于第一个特征是ID，训练时和测试时不需要ID，所以我们取[1:-1]的所有特征\n",
    "#将两个表合并，相等于vstack\n",
    "#这里训练数据最后一个属性SalePrice不用取\n",
    "all_features=pd.concat((train_data.iloc[:,1:-1],test_data.iloc[:,1:]))"
   ]
  },
  {
   "cell_type": "code",
   "execution_count": 16,
   "metadata": {},
   "outputs": [
    {
     "data": {
      "text/html": [
       "<div>\n",
       "<style scoped>\n",
       "    .dataframe tbody tr th:only-of-type {\n",
       "        vertical-align: middle;\n",
       "    }\n",
       "\n",
       "    .dataframe tbody tr th {\n",
       "        vertical-align: top;\n",
       "    }\n",
       "\n",
       "    .dataframe thead th {\n",
       "        text-align: right;\n",
       "    }\n",
       "</style>\n",
       "<table border=\"1\" class=\"dataframe\">\n",
       "  <thead>\n",
       "    <tr style=\"text-align: right;\">\n",
       "      <th></th>\n",
       "      <th>MSSubClass</th>\n",
       "      <th>MSZoning</th>\n",
       "      <th>LotFrontage</th>\n",
       "      <th>LotArea</th>\n",
       "    </tr>\n",
       "  </thead>\n",
       "  <tbody>\n",
       "    <tr>\n",
       "      <th>0</th>\n",
       "      <td>60</td>\n",
       "      <td>RL</td>\n",
       "      <td>65.0</td>\n",
       "      <td>8450</td>\n",
       "    </tr>\n",
       "    <tr>\n",
       "      <th>1</th>\n",
       "      <td>20</td>\n",
       "      <td>RL</td>\n",
       "      <td>80.0</td>\n",
       "      <td>9600</td>\n",
       "    </tr>\n",
       "    <tr>\n",
       "      <th>2</th>\n",
       "      <td>60</td>\n",
       "      <td>RL</td>\n",
       "      <td>68.0</td>\n",
       "      <td>11250</td>\n",
       "    </tr>\n",
       "    <tr>\n",
       "      <th>3</th>\n",
       "      <td>70</td>\n",
       "      <td>RL</td>\n",
       "      <td>60.0</td>\n",
       "      <td>9550</td>\n",
       "    </tr>\n",
       "  </tbody>\n",
       "</table>\n",
       "</div>"
      ],
      "text/plain": [
       "   MSSubClass MSZoning  LotFrontage  LotArea\n",
       "0          60       RL         65.0     8450\n",
       "1          20       RL         80.0     9600\n",
       "2          60       RL         68.0    11250\n",
       "3          70       RL         60.0     9550"
      ]
     },
     "execution_count": 16,
     "metadata": {},
     "output_type": "execute_result"
    }
   ],
   "source": [
    "all_features.iloc[0:4,[0,1,2,3]]"
   ]
  },
  {
   "cell_type": "markdown",
   "metadata": {},
   "source": [
    "#### 预处理数据\n",
    "\n",
    "我们对连续数值的特征做标准化:设该特征在整个数据集上的均值为u,标准差为$\\sigma$。\n",
    "**我们可以将该特征的每个值先减去u再除以$\\sigma$得到标准化后的每个特征值。**\n",
    "对于缺少的特征值值,我们将其替换成该特征的均值。"
   ]
  },
  {
   "cell_type": "markdown",
   "metadata": {},
   "source": [
    "##### pandas扩展\n",
    "\n",
    "pandas所支持的数据类型有:\n",
    "1.float\n",
    "2.int\n",
    "3.bool\n",
    "4.datetime64\n",
    "5.timedelta\n",
    "6.category\n",
    "7.object\n",
    "\n",
    "DataFrame.dtypes返回frame中的数据类型"
   ]
  },
  {
   "cell_type": "code",
   "execution_count": 23,
   "metadata": {},
   "outputs": [],
   "source": [
    "#先获取数值特征\n",
    "numeric_features=all_features.dtypes[all_features.dtypes!='object'].index"
   ]
  },
  {
   "cell_type": "code",
   "execution_count": 24,
   "metadata": {},
   "outputs": [],
   "source": [
    "all_features[numeric_features]=all_features[numeric_features].apply(\n",
    "                        lambda x:(x-x.mean())/(x.std()))"
   ]
  },
  {
   "cell_type": "code",
   "execution_count": 25,
   "metadata": {},
   "outputs": [],
   "source": [
    "#标准化后，每个数值特征的均值变为0，所以可以直接用0来替换缺少值\n",
    "all_features[numeric_features]=all_features[numeric_features].fillna(0)"
   ]
  },
  {
   "cell_type": "markdown",
   "metadata": {},
   "source": [
    "接下来将离散值转成指示特征。举个例子，假设特征MSZoning里面有两个不同的离散值RL和RM，那么这一步转换将去掉MSZoning特征，并新加两个特征MSZoning_RL和MSZoning_RM，其值为0或1。如果一个样本原来在MSZoning里的值为RL，那么有MSZoning_RL=1且MSZoning_RM=0。\n",
    "\n",
    "pd.get_dummies()将离散值转为one-hot encode形式。\n",
    "具体参考文档:https://pandas.pydata.org/pandas-docs/stable/reference/api/pandas.get_dummies.html"
   ]
  },
  {
   "cell_type": "code",
   "execution_count": 26,
   "metadata": {},
   "outputs": [
    {
     "data": {
      "text/plain": [
       "(2919, 331)"
      ]
     },
     "execution_count": 26,
     "metadata": {},
     "output_type": "execute_result"
    }
   ],
   "source": [
    "all_features=pd.get_dummies(all_features,dummy_na=True) #dummpy_na=True表示不忽视NaN\n",
    "all_features.shape"
   ]
  },
  {
   "cell_type": "markdown",
   "metadata": {},
   "source": [
    "最后，通过values属性得到Numpy格式的数据，并转成Tensor方便后面的训练。"
   ]
  },
  {
   "cell_type": "code",
   "execution_count": 29,
   "metadata": {},
   "outputs": [],
   "source": [
    "n_train=train_data.shape[0]\n",
    "train_features=torch.tensor(all_features[:n_train].values,dtype=torch.float)\n",
    "test_features=torch.tensor(all_features[n_train:].values,dtype=torch.float)\n",
    "train_labels=torch.tensor(train_data.SalePrice.values,dtype=torch.float).view(-1,1)"
   ]
  },
  {
   "cell_type": "markdown",
   "metadata": {},
   "source": [
    "#### 训练模型\n",
    "\n",
    "我们使用一个基本的线性回归模型和均方函数来训练模型。"
   ]
  },
  {
   "cell_type": "code",
   "execution_count": 30,
   "metadata": {},
   "outputs": [],
   "source": [
    "loss=torch.nn.MSELoss()\n",
    "def get_net(feature_num):\n",
    "    net=nn.Linear(feature_num,1)\n",
    "    for param in net.parameters():\n",
    "        nn.init.normal_(param,mean=0,std=0.01)\n",
    "    return net"
   ]
  },
  {
   "attachments": {
    "image.png": {
     "image/png": "[encoded data removed]"
    }
   },
   "cell_type": "markdown",
   "metadata": {},
   "source": [
    "定义评估模型对数均方根误差。给定预测值和对应的真实标签$y_1$。\n",
    "![image.png](attachment:image.png)"
   ]
  },
  {
   "cell_type": "code",
   "execution_count": 31,
   "metadata": {},
   "outputs": [],
   "source": [
    "def log_rmse(net,features,labels):\n",
    "    with torch.no_grad():\n",
    "        #将小于1的值设成1，使得取对数时数值更稳定\n",
    "        clipped_preds=torch.max(net(features),torch.tensor(1.0))\n",
    "        rmse=torch.sqrt(2*loss(clipped_preds.log(),labels.log()).mean())\n",
    "    return rmse.item()"
   ]
  },
  {
   "cell_type": "markdown",
   "metadata": {},
   "source": [
    "下面使用Adam优化算法进行优化。相比小批量随机梯度下降，它对学习率相对不那么敏感。"
   ]
  },
  {
   "cell_type": "code",
   "execution_count": 33,
   "metadata": {},
   "outputs": [],
   "source": [
    "def train(net,train_features,train_labels,test_features,test_labels,\n",
    "         num_epochs,learning_rate,weight_decay,batch_size):\n",
    "    train_ls,test_ls=[],[]\n",
    "    dataset=torch.utils.data.TensorDataset(train_features,train_labels)\n",
    "    train_iter=torch.utils.data.DataLoader(dataset,batch_size,shuffle=True)\n",
    "    #这里使用Adam优化算法\n",
    "    optimizer=torch.optim.Adam(params=net.parameters(),lr=learning_rate,\n",
    "                              weight_decay=weight_decay)\n",
    "    net=net.float()\n",
    "    for epoch in range(num_epochs):\n",
    "        for X,y in train_iter:\n",
    "            l=loss(net(X.float()),y.float())\n",
    "            optimizer.zero_grad()\n",
    "            l.backward()\n",
    "            optimizer.step()\n",
    "        train_ls.append(log_rmse(net,train_features,train_labels))\n",
    "        if test_labels is not None:\n",
    "            test_ls.append(log_rmse(net,test_features,test_labels))\n",
    "    return train_ls,test_ls"
   ]
  },
  {
   "cell_type": "markdown",
   "metadata": {},
   "source": [
    "#### K折交叉验证\n",
    "\n",
    "K折交叉验证将被用于选择模型设计并调节超参数。下面实现了一个函数，它返回第i折交叉验证时所需要的训练和验证数据。"
   ]
  },
  {
   "cell_type": "code",
   "execution_count": 36,
   "metadata": {},
   "outputs": [],
   "source": [
    "#返回第k折交叉验证时所需要的训练和验证数据\n",
    "def get_k_fold_data(k,i,X,y):\n",
    "    #取第k个数据集为验证集合\n",
    "    assert k>1\n",
    "    fold_size=X.shape[0]//k\n",
    "    X_train,y_train=None,None\n",
    "    for j in range(k):\n",
    "        #slice()函数返回一个切片对象\n",
    "        idx=slice(j*fold_size,(j+1)*fold_size)\n",
    "        X_part,y_part=X[idx,:],y[idx]\n",
    "        if j==i:\n",
    "            X_valid,y_valid=X_part,y_part\n",
    "        elif X_train is None:\n",
    "            X_train,y_train=X_part,y_part\n",
    "        else:\n",
    "            #torch.cat((A,B),dim=0):按行拼接\n",
    "            X_train=torch.cat((X_train,X_part),dim=0)\n",
    "            y_train=torch.cat((y_train,y_part),dim=0)\n",
    "    return X_train,y_train,X_valid,y_valid"
   ]
  },
  {
   "cell_type": "markdown",
   "metadata": {},
   "source": [
    "在k折交叉验证中我们训练K次并返回训练和验证的平均误差。"
   ]
  },
  {
   "cell_type": "code",
   "execution_count": 38,
   "metadata": {},
   "outputs": [],
   "source": [
    "def k_fold(k,X_train,y_train,num_epochs,learning_rate,weight_decay,batch_size):\n",
    "    train_l_sum,valid_l_sum=0,0\n",
    "    for i in range(k):\n",
    "        data=get_k_fold_data(k,i,X_train,y_train)\n",
    "        net=get_net(X_train.shape[1])\n",
    "        train_ls,valid_ls=train(net,*data,num_epochs,learning_rate,\n",
    "                               weight_decay,batch_size)\n",
    "        #取每次训练最后一次的Loss\n",
    "        train_l_sum+=train_ls[-1]\n",
    "        valid_l_sum+=valid_ls[-1]\n",
    "        \n",
    "        print('fold %d,train rmse %f,valid rmse %f'%(i,train_ls[-1],valid_ls[-1]))\n",
    "    return train_l_sum/k,valid_l_sum/k"
   ]
  },
  {
   "cell_type": "markdown",
   "metadata": {},
   "source": [
    "#### 模型选择\n",
    "\n",
    "我们使用一组未经调优的超参数并计算交叉验证误差。\n",
    "\n",
    "有时候一组参数的训练误差可以达到很低，但是在K折交叉验证上的误差可能反而较高。这种现象很可能是由过拟合造成的。因此，当训练误差降低时，我们要观察K折交叉验证上的误差是否也相应降低。"
   ]
  },
  {
   "cell_type": "code",
   "execution_count": 39,
   "metadata": {},
   "outputs": [
    {
     "name": "stdout",
     "output_type": "stream",
     "text": [
      "fold 0,train rmse 0.239989,valid rmse 0.221677\n",
      "fold 1,train rmse 0.229189,valid rmse 0.269347\n",
      "fold 2,train rmse 0.231625,valid rmse 0.238214\n",
      "fold 3,train rmse 0.237867,valid rmse 0.218824\n",
      "fold 4,train rmse 0.231359,valid rmse 0.259262\n",
      "5-fold validation: avg train rmse 0.234006,avg valid rmse 0.241465\n"
     ]
    }
   ],
   "source": [
    "k,num_epochs,lr,weight_decay,batch_size=5,100,5,0,64\n",
    "train_l,valid_l=k_fold(k,train_features,train_labels,num_epochs,lr,weight_decay,batch_size)\n",
    "print('%d-fold validation: avg train rmse %f,avg valid rmse %f'%(k,train_l,valid_l))"
   ]
  },
  {
   "cell_type": "markdown",
   "metadata": {},
   "source": [
    "##### 预测\n",
    "\n",
    "在预测之前，我们会使用完整的训练数据集来重新训练模型，并将预测结果存成提交所需要的格式。"
   ]
  },
  {
   "cell_type": "code",
   "execution_count": 42,
   "metadata": {},
   "outputs": [],
   "source": [
    "def train_and_pred(train_features,test_features,train_labels,test_data,num_epochs,\n",
    "                    lr,weight_decay,batch_size):\n",
    "    net=get_net(train_features.shape[1])\n",
    "    train_ls,_=train(net,train_features,train_labels,None,None,\n",
    "                    num_epochs,lr,weight_decay,batch_size)\n",
    "    print('train rmse %f'%(train_ls[-1]))\n",
    "    #detach()将变量从计算图中分离出来\n",
    "    preds=net(test_features).detach().numpy()\n",
    "    test_data['SalePrice']=pd.Series(preds.reshape(1,-1)[0])\n",
    "    submission=pd.concat((test_data['Id'],test_data['SalePrice']),axis=1)\n",
    "    submission.to_csv('./submission.csv',index=False)"
   ]
  },
  {
   "cell_type": "code",
   "execution_count": 43,
   "metadata": {},
   "outputs": [
    {
     "name": "stdout",
     "output_type": "stream",
     "text": [
      "train rmse 0.229820\n"
     ]
    }
   ],
   "source": [
    "train_and_pred(train_features,test_features,train_labels,test_data,\n",
    "              num_epochs,lr,weight_decay,batch_size)"
   ]
  },
  {
   "cell_type": "markdown",
   "metadata": {},
   "source": [
    "### 总结\n",
    "\n",
    "* 通过需要对真实数据做预处理\n",
    "* 可以使用K折交叉验证来选择模型并调节超参数。"
   ]
  }
 ],
 "metadata": {
  "kernelspec": {
   "display_name": "Python 3",
   "language": "python",
   "name": "python3"
  },
  "language_info": {
   "codemirror_mode": {
    "name": "ipython",
    "version": 3
   },
   "file_extension": ".py",
   "mimetype": "text/x-python",
   "name": "python",
   "nbconvert_exporter": "python",
   "pygments_lexer": "ipython3",
   "version": "3.8.3"
  }
 },
 "nbformat": 4,
 "nbformat_minor": 2
}
