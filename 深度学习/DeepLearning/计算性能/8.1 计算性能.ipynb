{
 "cells": [
  {
   "cell_type": "markdown",
   "metadata": {},
   "source": [
    "### 命令式和符号式编程\n",
    "\n",
    "大部分深度学习框架在命令式编程和符号式编程之间二选一。例如，Theano和受其启发的后来者TensorFlow使用了符号式编程，Chainer和它的追随者PyTorch使用了命令式编程，而Gluon则采用了混合式编程的方式。\n",
    "\n",
    "对比这两种编程方式\n",
    "* 命令式编程更加方便\n",
    "\n",
    "* 符号式编程更高效并更容易移植"
   ]
  },
  {
   "cell_type": "markdown",
   "metadata": {},
   "source": [
    "### 异步计算\n",
    "\n",
    "默认情况下，PyTorch中的GPU操作是异步的。当调用一个使用GPU的函数时，这些操作会在特定的设备上排队但不一定会稍后立刻执行。"
   ]
  },
  {
   "cell_type": "markdown",
   "metadata": {},
   "source": [
    "### 自动并行计算\n",
    "\n",
    "PyTorch能有效地实现在不同设备上自动并行计算。"
   ]
  }
 ],
 "metadata": {
  "kernelspec": {
   "display_name": "Python 3",
   "language": "python",
   "name": "python3"
  },
  "language_info": {
   "codemirror_mode": {
    "name": "ipython",
    "version": 3
   },
   "file_extension": ".py",
   "mimetype": "text/x-python",
   "name": "python",
   "nbconvert_exporter": "python",
   "pygments_lexer": "ipython3",
   "version": "3.7.0"
  }
 },
 "nbformat": 4,
 "nbformat_minor": 2
}
