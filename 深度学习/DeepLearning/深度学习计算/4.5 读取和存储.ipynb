{
 "cells": [
  {
   "cell_type": "markdown",
   "metadata": {},
   "source": [
    "在有些情况下，我么需要把内存中训练好的模型参数存储在硬盘上供后续读取使用。"
   ]
  },
  {
   "cell_type": "markdown",
   "metadata": {},
   "source": [
    "#### 读写\n",
    "\n",
    "我们可以直接使用save函数和loadHans分别存储和读取Tensor.实质上是利用了python的序列化和反序列化。\n",
    "\n",
    "使用save可以保存各种对象，包括模型、张量和字典等。"
   ]
  },
  {
   "cell_type": "code",
   "execution_count": 1,
   "metadata": {},
   "outputs": [],
   "source": [
    "#创建Tensor变量x,并将其存在文件名为x.pt的文件里\n",
    "\n",
    "import torch\n",
    "from torch import nn\n",
    "\n",
    "x=torch.ones(3)\n",
    "torch.save(x,'x.pt')"
   ]
  },
  {
   "cell_type": "code",
   "execution_count": 2,
   "metadata": {},
   "outputs": [
    {
     "data": {
      "text/plain": [
       "tensor([1., 1., 1.])"
      ]
     },
     "execution_count": 2,
     "metadata": {},
     "output_type": "execute_result"
    }
   ],
   "source": [
    "#读取数据\n",
    "x2=torch.load('x.pt')\n",
    "x2"
   ]
  },
  {
   "cell_type": "markdown",
   "metadata": {},
   "source": [
    "#### 读写模型"
   ]
  },
  {
   "cell_type": "markdown",
   "metadata": {},
   "source": [
    "##### state_dict\n",
    "\n",
    "state_dict()是一个从参数名称隐射到参数Tensor的字典对象。\n",
    "\n",
    "注意，只有具有可学习参数的层才有state_dict中的条目。"
   ]
  },
  {
   "cell_type": "code",
   "execution_count": 4,
   "metadata": {},
   "outputs": [
    {
     "data": {
      "text/plain": [
       "OrderedDict([('hidden.weight', tensor([[-0.0292,  0.5740,  0.4038],\n",
       "                      [ 0.1051, -0.2690,  0.3109]])),\n",
       "             ('hidden.bias', tensor([-0.1504, -0.5571])),\n",
       "             ('output.weight', tensor([[ 0.1218, -0.0571]])),\n",
       "             ('output.bias', tensor([0.6067]))])"
      ]
     },
     "execution_count": 4,
     "metadata": {},
     "output_type": "execute_result"
    }
   ],
   "source": [
    "class MLP(nn.Module):\n",
    "    def __init__(self):\n",
    "        super(MLP,self).__init__()\n",
    "        self.hidden=nn.Linear(3,2)\n",
    "        self.act=nn.ReLU()\n",
    "        self.output=nn.Linear(2,1)\n",
    "    def forward(self,x):\n",
    "        a=self.act(self.hidden(x))\n",
    "        return self.output(a)\n",
    "\n",
    "net=MLP()\n",
    "net.state_dict()"
   ]
  },
  {
   "cell_type": "markdown",
   "metadata": {},
   "source": [
    "### 保存和加载模型\n",
    "\n",
    "Pytorch中 保存和加载训练模型有两种常见的方法:\n",
    "1.仅保存和加载模型参数(state_dict);\n",
    "2.保存和加载整个模型"
   ]
  },
  {
   "cell_type": "markdown",
   "metadata": {},
   "source": [
    "##### 保存和加载state_dict（推荐方式）"
   ]
  },
  {
   "cell_type": "code",
   "execution_count": null,
   "metadata": {},
   "outputs": [],
   "source": [
    "#保存\n",
    "torch.save(model.state_dict(),PATH) #推荐的文件后缀名是pt或pth\n",
    "\n",
    "#加载\n",
    "model=TheModleClass(*args,**kwargs)\n",
    "model.load_state_dict(torch.load(PATH))"
   ]
  },
  {
   "cell_type": "markdown",
   "metadata": {},
   "source": [
    "##### 保存和加载整个模型"
   ]
  },
  {
   "cell_type": "code",
   "execution_count": null,
   "metadata": {},
   "outputs": [],
   "source": [
    "#保存\n",
    "torch.save(model,PATH)\n",
    "\n",
    "#加载\n",
    "model=torch.load(PATH)"
   ]
  }
 ],
 "metadata": {
  "kernelspec": {
   "display_name": "Python 3",
   "language": "python",
   "name": "python3"
  },
  "language_info": {
   "codemirror_mode": {
    "name": "ipython",
    "version": 3
   },
   "file_extension": ".py",
   "mimetype": "text/x-python",
   "name": "python",
   "nbconvert_exporter": "python",
   "pygments_lexer": "ipython3",
   "version": "3.8.3"
  }
 },
 "nbformat": 4,
 "nbformat_minor": 2
}
