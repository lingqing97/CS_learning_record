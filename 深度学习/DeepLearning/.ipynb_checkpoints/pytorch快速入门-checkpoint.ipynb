{
 "cells": [
  {
   "cell_type": "markdown",
   "metadata": {},
   "source": [
    "### 张量\n",
    "\n",
    "Tensor（张量）类似于Numpy的ndarray，但可以在GPU上使用来加快计算\n",
    "\n",
    "初始化:\n",
    "* torch.empty(n,m):创建一个n*m大小的未初始化的tensor\n",
    "* torch.rand(n,m):创建一个n*m大小的随机tensor\n",
    "* torch.zeros(n,m):创建一个n*m大小的零tensor\n",
    "* torch.tensor():通过List或tuple创建tensor\n",
    "\n",
    "属性:\n",
    "* x.size():获取x的形状"
   ]
  },
  {
   "cell_type": "code",
   "execution_count": 1,
   "metadata": {},
   "outputs": [
    {
     "name": "stdout",
     "output_type": "stream",
     "text": [
      "tensor([[1.8040e+28, 1.8750e-19, 7.3909e+22],\n",
      "        [2.4176e-12, 2.6209e+20, 4.1641e+12],\n",
      "        [8.9625e-01, 7.9309e+34, 7.9439e+08],\n",
      "        [3.2604e-12, 7.3113e+34, 9.5492e-01],\n",
      "        [7.3154e+34, 5.9682e-02, 7.0374e+22]])\n"
     ]
    }
   ],
   "source": [
    "import torch\n",
    "#创建一个没有初始化的5*3矩阵\n",
    "x=torch.empty(5,3)\n",
    "print(x)"
   ]
  },
  {
   "cell_type": "code",
   "execution_count": 2,
   "metadata": {},
   "outputs": [
    {
     "name": "stdout",
     "output_type": "stream",
     "text": [
      "tensor([[0.9666, 0.7679, 0.5822],\n",
      "        [0.6467, 0.9290, 0.0593],\n",
      "        [0.7896, 0.9388, 0.0174],\n",
      "        [0.0947, 0.1679, 0.9137],\n",
      "        [0.6144, 0.2783, 0.6947]])\n"
     ]
    }
   ],
   "source": [
    "import torch\n",
    "#创建一个随机初始化矩阵\n",
    "x=torch.rand(5,3)\n",
    "print(x)"
   ]
  },
  {
   "cell_type": "code",
   "execution_count": 3,
   "metadata": {},
   "outputs": [
    {
     "name": "stdout",
     "output_type": "stream",
     "text": [
      "tensor([[0, 0, 0],\n",
      "        [0, 0, 0],\n",
      "        [0, 0, 0],\n",
      "        [0, 0, 0],\n",
      "        [0, 0, 0]])\n"
     ]
    }
   ],
   "source": [
    "import torch\n",
    "#创建一个填满0且数据类型为long的矩阵\n",
    "x=torch.zeros(5,3,dtype=torch.long)\n",
    "print(x)"
   ]
  },
  {
   "cell_type": "code",
   "execution_count": 9,
   "metadata": {},
   "outputs": [
    {
     "name": "stdout",
     "output_type": "stream",
     "text": [
      "tensor([1, 2, 3])\n",
      "tensor([1, 2, 3])\n"
     ]
    }
   ],
   "source": [
    "import torch\n",
    "#直接从list创建张量\n",
    "x=torch.tensor([1,2,3])\n",
    "print(x)\n",
    "y=torch.tensor((1,2,3))\n",
    "print(y)"
   ]
  },
  {
   "cell_type": "code",
   "execution_count": 8,
   "metadata": {},
   "outputs": [
    {
     "name": "stdout",
     "output_type": "stream",
     "text": [
      "tensor([[ 2.3998,  1.5915, -0.1334],\n",
      "        [ 0.2236,  0.7069, -0.0961],\n",
      "        [-0.2649,  0.9517,  1.3276],\n",
      "        [ 1.0192, -1.1863,  0.3547],\n",
      "        [ 0.8908,  2.4191,  1.4990]])\n",
      "torch.Size([5, 3])\n"
     ]
    }
   ],
   "source": [
    "x=torch.zeros(5,3,dtype=torch.double)\n",
    "x=torch.randn_like(x,dtype=torch.float)\n",
    "print(x)\n",
    "#获取张量的形状,不同于numpy里面，这里是size()，不是shape\n",
    "print(x.size())"
   ]
  },
  {
   "cell_type": "markdown",
   "metadata": {},
   "source": [
    "### 运算\n",
    "\n",
    "加法:\n",
    "* x+y:直接相加\n",
    "* torch.add((x,y),out=result):将结果保存到result张量中\n",
    "* y.add_(x):原地加\n",
    "\n",
    "索引:\n",
    "* tensor可以像Numpy一样进行索引\n",
    "\n",
    "改变形状:\n",
    "* x.view(shape)\n",
    "\n",
    "注意：如果tensor只包含一个元素，可以通过item()函数来获取其python值"
   ]
  },
  {
   "cell_type": "code",
   "execution_count": 14,
   "metadata": {},
   "outputs": [
    {
     "name": "stdout",
     "output_type": "stream",
     "text": [
      "tensor([[0.7084, 0.1716, 0.2044],\n",
      "        [0.8525, 0.7931, 0.9160],\n",
      "        [0.8802, 0.5641, 0.0324],\n",
      "        [0.3517, 0.4599, 0.8022],\n",
      "        [0.0796, 0.4929, 0.2229]])\n",
      "tensor([[0.5585, 0.0224, 0.3875],\n",
      "        [0.5496, 0.2823, 0.1719],\n",
      "        [0.9764, 0.6566, 0.5529],\n",
      "        [0.3984, 0.4319, 0.4097],\n",
      "        [0.0769, 0.7962, 0.8059]])\n",
      "tensor([[1.2669, 0.1941, 0.5920],\n",
      "        [1.4021, 1.0753, 1.0879],\n",
      "        [1.8567, 1.2206, 0.5852],\n",
      "        [0.7501, 0.8918, 1.2119],\n",
      "        [0.1564, 1.2891, 1.0289]])\n",
      "tensor([[1.2669, 0.1941, 0.5920],\n",
      "        [1.4021, 1.0753, 1.0879],\n",
      "        [1.8567, 1.2206, 0.5852],\n",
      "        [0.7501, 0.8918, 1.2119],\n",
      "        [0.1564, 1.2891, 1.0289]])\n",
      "tensor([[1.2669, 0.1941, 0.5920],\n",
      "        [1.4021, 1.0753, 1.0879],\n",
      "        [1.8567, 1.2206, 0.5852],\n",
      "        [0.7501, 0.8918, 1.2119],\n",
      "        [0.1564, 1.2891, 1.0289]])\n"
     ]
    }
   ],
   "source": [
    "import torch\n",
    "\n",
    "y=torch.rand(5,3)\n",
    "x=torch.rand(5,3)\n",
    "print(y)\n",
    "print(x)\n",
    "#加法,也可以写成torch.add((x,y),out=result)\n",
    "print(x+y)\n",
    "torch.add(x,y)\n",
    "#给定一个输出张量存储结果值\n",
    "result=torch.empty(5,3)\n",
    "torch.add(x,y,out=result)\n",
    "print(result)\n",
    "#原位/原地操作(in-place)\n",
    "#任何一个in-place改变张量的操作后面都固定一个_。例如x.copy_(),x.t_()将改变x\n",
    "y.add_(x)\n",
    "print(y)"
   ]
  },
  {
   "cell_type": "code",
   "execution_count": 16,
   "metadata": {},
   "outputs": [
    {
     "name": "stdout",
     "output_type": "stream",
     "text": [
      "tensor([[0.9043, 0.7526, 0.3053],\n",
      "        [0.4100, 0.0269, 0.5426],\n",
      "        [0.2632, 0.2954, 0.1814],\n",
      "        [0.0429, 0.7691, 0.7909],\n",
      "        [0.3522, 0.4354, 0.7962]])\n",
      "tensor([0.7526, 0.0269, 0.2954, 0.7691, 0.4354])\n"
     ]
    }
   ],
   "source": [
    "import torch\n",
    "#tensor也可以像标准的Numpy一样的各种索引操作\n",
    "x=torch.rand(5,3)\n",
    "print(x)\n",
    "print(x[:,1])"
   ]
  },
  {
   "cell_type": "code",
   "execution_count": 19,
   "metadata": {},
   "outputs": [
    {
     "name": "stdout",
     "output_type": "stream",
     "text": [
      "torch.Size([4, 4]) torch.Size([16]) torch.Size([2, 8])\n"
     ]
    }
   ],
   "source": [
    "import torch\n",
    "#如果要改变tensor的形状，可以使用torch.view)\n",
    "x=torch.randn(4,4)\n",
    "y=x.view(16)\n",
    "z=x.view(-1,8)\n",
    "print(x.size(),y.size(),z.size())"
   ]
  },
  {
   "cell_type": "code",
   "execution_count": 21,
   "metadata": {},
   "outputs": [
    {
     "name": "stdout",
     "output_type": "stream",
     "text": [
      "tensor([2.1097])\n",
      "2.109666347503662\n"
     ]
    }
   ],
   "source": [
    "import torch\n",
    "#如果是仅包含一个元素的tensor，可以使用.item()来得到对应的python数值\n",
    "x=torch.randn(1)\n",
    "print(x)\n",
    "print(x.item())"
   ]
  },
  {
   "cell_type": "markdown",
   "metadata": {},
   "source": [
    "### 桥接Numpy\n",
    "\n",
    "将一个Torch张量转换为一个Numpy数值是轻而易举的事情，反之亦然\n",
    "\n",
    "**注意:Torch张量和Numpy数值将共享它们的底层内存位置，因此当一个改变时，另外一个也会改变。**\n",
    "\n",
    "Tensor转Numpy数组:\n",
    "* 使用x.numpy()方法\n",
    "\n",
    "Numpy数组转Tensor：\n",
    "* 使用torch.from_numpy(a)\n",
    "\n",
    "CPU上的所有张量(char Tensor除外)都支持与Numpy的相互转换"
   ]
  },
  {
   "cell_type": "code",
   "execution_count": 26,
   "metadata": {},
   "outputs": [
    {
     "name": "stdout",
     "output_type": "stream",
     "text": [
      "tensor([1., 1., 1., 1., 1.])\n",
      "<class 'torch.Tensor'>\n",
      "[1. 1. 1. 1. 1.]\n",
      "<class 'numpy.ndarray'>\n",
      "tensor([2., 2., 2., 2., 2.])\n",
      "[2. 2. 2. 2. 2.]\n"
     ]
    }
   ],
   "source": [
    "import torch\n",
    "#将Tensor转化为Numpy数组\n",
    "a=torch.ones(5)\n",
    "print(a)\n",
    "print(type(a))\n",
    "b=a.numpy()\n",
    "print(b)\n",
    "print(type(b))\n",
    "#改变Tensor的值\n",
    "a.add_(1)\n",
    "print(a)\n",
    "print(b)"
   ]
  },
  {
   "cell_type": "code",
   "execution_count": 28,
   "metadata": {},
   "outputs": [
    {
     "name": "stdout",
     "output_type": "stream",
     "text": [
      "[2. 2. 2. 2. 2.]\n",
      "tensor([2., 2., 2., 2., 2.], dtype=torch.float64)\n"
     ]
    }
   ],
   "source": [
    "import torch\n",
    "import numpy as np\n",
    "#将Numpy数组转化为Torch张量\n",
    "a=np.ones(5)\n",
    "b=torch.from_numpy(a)\n",
    "np.add(a,1,out=a)\n",
    "print(a)\n",
    "print(b)"
   ]
  },
  {
   "cell_type": "markdown",
   "metadata": {},
   "source": [
    "### CUDA上的张量\n",
    "张量可以使用.to方法移动到任何设备上"
   ]
  },
  {
   "cell_type": "code",
   "execution_count": 52,
   "metadata": {},
   "outputs": [
    {
     "name": "stdout",
     "output_type": "stream",
     "text": [
      "tensor([[0.0900, 0.1430, 1.6416],\n",
      "        [1.3261, 1.7931, 1.2447],\n",
      "        [1.9318, 1.2865, 3.3179],\n",
      "        [0.4960, 1.1011, 0.3106],\n",
      "        [2.0297, 0.3275, 0.4169]], device='cuda:3')\n",
      "tensor([[0.0900, 0.1430, 1.6416],\n",
      "        [1.3261, 1.7931, 1.2447],\n",
      "        [1.9318, 1.2865, 3.3179],\n",
      "        [0.4960, 1.1011, 0.3106],\n",
      "        [2.0297, 0.3275, 0.4169]], dtype=torch.float64)\n"
     ]
    }
   ],
   "source": [
    "import torch\n",
    "import os\n",
    "# os.environ[\"CUDA_VISIBLE_DEVICES\"] = \"2\"\n",
    "# print(torch.cuda.device_count())\n",
    "# print(torch.cuda.get_device_name(0))\n",
    "x=torch.randn(5,3)\n",
    "#如果GPU可用\n",
    "if torch.cuda.is_available():\n",
    "    device=torch.device('cuda')#a CUDA device object\n",
    "    y=torch.ones_like(x,device=device)#直接在GPU上创建tensor\n",
    "    x=x.to(device) #或者使用.to('cuda')方法\n",
    "    z=x+y\n",
    "    print(z)\n",
    "    print(z.to('cpu',torch.double)) #.to也能在移动时改变dtype"
   ]
  },
  {
   "cell_type": "markdown",
   "metadata": {},
   "source": [
    "### Autograd自动求导\n",
    "\n",
    "对于张量，如果设置它的属性.requires_grad为True,那么它将会跟踪对于该张量的所有操作。当完成计算后可以通过调用.backward()来自动计算所有的梯度。\n",
    "要阻止一个张量被跟踪历史，可以调用.detach()方法将其与计算历史分离，并阻止它未来的计算记录被跟踪(也可以代码块包装在with torch.no_grad()来防止跟踪历史记录)"
   ]
  },
  {
   "cell_type": "code",
   "execution_count": 58,
   "metadata": {},
   "outputs": [
    {
     "name": "stdout",
     "output_type": "stream",
     "text": [
      "tensor([[1., 1.],\n",
      "        [1., 1.]], requires_grad=True)\n",
      "tensor([[3., 3.],\n",
      "        [3., 3.]], grad_fn=<AddBackward0>)\n",
      "<AddBackward0 object at 0x7fc128cb35c0>\n",
      "tensor([[27., 27.],\n",
      "        [27., 27.]], grad_fn=<MulBackward0>) tensor(27., grad_fn=<MeanBackward0>)\n"
     ]
    }
   ],
   "source": [
    "import torch\n",
    "#创建一个张量并设置requires_grad=True用来追踪其计算历史\n",
    "x=torch.ones(2,2,requires_grad=True)\n",
    "print(x)\n",
    "#对这个张量做一次运算\n",
    "y=x+2\n",
    "print(y)\n",
    "#y是计算的结果，所以它有grad_fn属性\n",
    "print(y.grad_fn)\n",
    "\n",
    "z=y*y*3\n",
    "out=z.mean()\n",
    "\n",
    "print(z,out)"
   ]
  },
  {
   "cell_type": "code",
   "execution_count": 61,
   "metadata": {},
   "outputs": [
    {
     "name": "stdout",
     "output_type": "stream",
     "text": [
      "False\n",
      "True\n",
      "True\n"
     ]
    }
   ],
   "source": [
    "import torch\n",
    "#.requires_grad_(..)原地改变了现有张量的requires_grad标志。如果没有指定的话，默认输入\n",
    "#的这个标志是False\n",
    "a=torch.randn(2,2)\n",
    "a=((a*3))/(a-1)\n",
    "print(a.requires_grad)\n",
    "a.requires_grad_(True)\n",
    "print(a.requires_grad)\n",
    "b=(a*a).sum()\n",
    "print(b.requires_grad)"
   ]
  },
  {
   "cell_type": "code",
   "execution_count": 63,
   "metadata": {},
   "outputs": [
    {
     "name": "stdout",
     "output_type": "stream",
     "text": [
      "tensor([[1., 1.],\n",
      "        [1., 1.]], requires_grad=True)\n",
      "tensor([[3., 3.],\n",
      "        [3., 3.]], grad_fn=<AddBackward0>)\n",
      "<AddBackward0 object at 0x7fc128cb3668>\n",
      "tensor([[4.5000, 4.5000],\n",
      "        [4.5000, 4.5000]])\n"
     ]
    }
   ],
   "source": [
    "import torch\n",
    "#创建一个张量并设置requires_grad=True用来追踪其计算历史\n",
    "x=torch.ones(2,2,requires_grad=True)\n",
    "print(x)\n",
    "#对这个张量做一次运算\n",
    "y=x+2\n",
    "print(y)\n",
    "#y是计算的结果，所以它有grad_fn属性\n",
    "print(y.grad_fn)\n",
    "\n",
    "z=y*y*3\n",
    "out=z.mean()\n",
    "#因为out是一个标量，因此out.backward()和out.backward(torch.tensor(1.))等价\n",
    "out.backward()\n",
    "#输出倒数d(out)/dx\n",
    "print(x.grad)"
   ]
  },
  {
   "cell_type": "code",
   "execution_count": 64,
   "metadata": {},
   "outputs": [
    {
     "name": "stdout",
     "output_type": "stream",
     "text": [
      "True\n",
      "True\n",
      "False\n"
     ]
    }
   ],
   "source": [
    "import torch\n",
    "#将代码包装在with torch.no_grad()中来阻止autograd跟踪设置了.requires_grad=True的张量的历史记录\n",
    "x=torch.randn(2,2,requires_grad=True)\n",
    "print(x.requires_grad)\n",
    "print((x**2).requires_grad)\n",
    "\n",
    "with torch.no_grad():\n",
    "    print((x**2).requires_grad)"
   ]
  }
 ],
 "metadata": {
  "kernelspec": {
   "display_name": "Python 3",
   "language": "python",
   "name": "python3"
  },
  "language_info": {
   "codemirror_mode": {
    "name": "ipython",
    "version": 3
   },
   "file_extension": ".py",
   "mimetype": "text/x-python",
   "name": "python",
   "nbconvert_exporter": "python",
   "pygments_lexer": "ipython3",
   "version": "3.7.0"
  }
 },
 "nbformat": 4,
 "nbformat_minor": 2
}
